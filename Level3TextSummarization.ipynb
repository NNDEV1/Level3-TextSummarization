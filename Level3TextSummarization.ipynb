{
  "nbformat": 4,
  "nbformat_minor": 0,
  "metadata": {
    "colab": {
      "name": "Level3TextSummarization.ipynb",
      "provenance": []
    },
    "kernelspec": {
      "name": "python3",
      "display_name": "Python 3"
    },
    "accelerator": "GPU",
    "widgets": {
      "application/vnd.jupyter.widget-state+json": {
        "427d364ed0084a72b46fd99b2a53fc22": {
          "model_module": "@jupyter-widgets/controls",
          "model_name": "HBoxModel",
          "state": {
            "_view_name": "HBoxView",
            "_dom_classes": [],
            "_model_name": "HBoxModel",
            "_view_module": "@jupyter-widgets/controls",
            "_model_module_version": "1.5.0",
            "_view_count": null,
            "_view_module_version": "1.5.0",
            "box_style": "",
            "layout": "IPY_MODEL_fce1fc75ca01419a9d075ba8f7d65f95",
            "_model_module": "@jupyter-widgets/controls",
            "children": [
              "IPY_MODEL_6b56740d8a694bb68a4dc8d8198692fd",
              "IPY_MODEL_6fc7eab1f51f44899ae6a0beb4f33cd7",
              "IPY_MODEL_dea1b10b7de4448295b563135af414a6"
            ]
          }
        },
        "fce1fc75ca01419a9d075ba8f7d65f95": {
          "model_module": "@jupyter-widgets/base",
          "model_name": "LayoutModel",
          "state": {
            "_view_name": "LayoutView",
            "grid_template_rows": null,
            "right": null,
            "justify_content": null,
            "_view_module": "@jupyter-widgets/base",
            "overflow": null,
            "_model_module_version": "1.2.0",
            "_view_count": null,
            "flex_flow": null,
            "width": null,
            "min_width": null,
            "border": null,
            "align_items": null,
            "bottom": null,
            "_model_module": "@jupyter-widgets/base",
            "top": null,
            "grid_column": null,
            "overflow_y": null,
            "overflow_x": null,
            "grid_auto_flow": null,
            "grid_area": null,
            "grid_template_columns": null,
            "flex": null,
            "_model_name": "LayoutModel",
            "justify_items": null,
            "grid_row": null,
            "max_height": null,
            "align_content": null,
            "visibility": null,
            "align_self": null,
            "height": null,
            "min_height": null,
            "padding": null,
            "grid_auto_rows": null,
            "grid_gap": null,
            "max_width": null,
            "order": null,
            "_view_module_version": "1.2.0",
            "grid_template_areas": null,
            "object_position": null,
            "object_fit": null,
            "grid_auto_columns": null,
            "margin": null,
            "display": null,
            "left": null
          }
        },
        "6b56740d8a694bb68a4dc8d8198692fd": {
          "model_module": "@jupyter-widgets/controls",
          "model_name": "HTMLModel",
          "state": {
            "_view_name": "HTMLView",
            "style": "IPY_MODEL_8b9959f5f7cf4cfc8732cd3770cf6c2d",
            "_dom_classes": [],
            "description": "",
            "_model_name": "HTMLModel",
            "placeholder": "​",
            "_view_module": "@jupyter-widgets/controls",
            "_model_module_version": "1.5.0",
            "value": "Downloading: 100%",
            "_view_count": null,
            "_view_module_version": "1.5.0",
            "description_tooltip": null,
            "_model_module": "@jupyter-widgets/controls",
            "layout": "IPY_MODEL_2303d6879f624e38a656e3a1ccf99f6a"
          }
        },
        "6fc7eab1f51f44899ae6a0beb4f33cd7": {
          "model_module": "@jupyter-widgets/controls",
          "model_name": "FloatProgressModel",
          "state": {
            "_view_name": "ProgressView",
            "style": "IPY_MODEL_c7980c29c8b443a3bc3305bdebc90ca7",
            "_dom_classes": [],
            "description": "",
            "_model_name": "FloatProgressModel",
            "bar_style": "success",
            "max": 1343,
            "_view_module": "@jupyter-widgets/controls",
            "_model_module_version": "1.5.0",
            "value": 1343,
            "_view_count": null,
            "_view_module_version": "1.5.0",
            "orientation": "horizontal",
            "min": 0,
            "description_tooltip": null,
            "_model_module": "@jupyter-widgets/controls",
            "layout": "IPY_MODEL_be5d4a343ab444cbabf9ee61f1828f1e"
          }
        },
        "dea1b10b7de4448295b563135af414a6": {
          "model_module": "@jupyter-widgets/controls",
          "model_name": "HTMLModel",
          "state": {
            "_view_name": "HTMLView",
            "style": "IPY_MODEL_a882f1dffe024ad89ed3a119eed38f3e",
            "_dom_classes": [],
            "description": "",
            "_model_name": "HTMLModel",
            "placeholder": "​",
            "_view_module": "@jupyter-widgets/controls",
            "_model_module_version": "1.5.0",
            "value": " 1.34k/1.34k [00:00&lt;00:00, 35.3kB/s]",
            "_view_count": null,
            "_view_module_version": "1.5.0",
            "description_tooltip": null,
            "_model_module": "@jupyter-widgets/controls",
            "layout": "IPY_MODEL_30ed415b8d3746f8abab8e064859112e"
          }
        },
        "8b9959f5f7cf4cfc8732cd3770cf6c2d": {
          "model_module": "@jupyter-widgets/controls",
          "model_name": "DescriptionStyleModel",
          "state": {
            "_view_name": "StyleView",
            "_model_name": "DescriptionStyleModel",
            "description_width": "",
            "_view_module": "@jupyter-widgets/base",
            "_model_module_version": "1.5.0",
            "_view_count": null,
            "_view_module_version": "1.2.0",
            "_model_module": "@jupyter-widgets/controls"
          }
        },
        "2303d6879f624e38a656e3a1ccf99f6a": {
          "model_module": "@jupyter-widgets/base",
          "model_name": "LayoutModel",
          "state": {
            "_view_name": "LayoutView",
            "grid_template_rows": null,
            "right": null,
            "justify_content": null,
            "_view_module": "@jupyter-widgets/base",
            "overflow": null,
            "_model_module_version": "1.2.0",
            "_view_count": null,
            "flex_flow": null,
            "width": null,
            "min_width": null,
            "border": null,
            "align_items": null,
            "bottom": null,
            "_model_module": "@jupyter-widgets/base",
            "top": null,
            "grid_column": null,
            "overflow_y": null,
            "overflow_x": null,
            "grid_auto_flow": null,
            "grid_area": null,
            "grid_template_columns": null,
            "flex": null,
            "_model_name": "LayoutModel",
            "justify_items": null,
            "grid_row": null,
            "max_height": null,
            "align_content": null,
            "visibility": null,
            "align_self": null,
            "height": null,
            "min_height": null,
            "padding": null,
            "grid_auto_rows": null,
            "grid_gap": null,
            "max_width": null,
            "order": null,
            "_view_module_version": "1.2.0",
            "grid_template_areas": null,
            "object_position": null,
            "object_fit": null,
            "grid_auto_columns": null,
            "margin": null,
            "display": null,
            "left": null
          }
        },
        "c7980c29c8b443a3bc3305bdebc90ca7": {
          "model_module": "@jupyter-widgets/controls",
          "model_name": "ProgressStyleModel",
          "state": {
            "_view_name": "StyleView",
            "_model_name": "ProgressStyleModel",
            "description_width": "",
            "_view_module": "@jupyter-widgets/base",
            "_model_module_version": "1.5.0",
            "_view_count": null,
            "_view_module_version": "1.2.0",
            "bar_color": null,
            "_model_module": "@jupyter-widgets/controls"
          }
        },
        "be5d4a343ab444cbabf9ee61f1828f1e": {
          "model_module": "@jupyter-widgets/base",
          "model_name": "LayoutModel",
          "state": {
            "_view_name": "LayoutView",
            "grid_template_rows": null,
            "right": null,
            "justify_content": null,
            "_view_module": "@jupyter-widgets/base",
            "overflow": null,
            "_model_module_version": "1.2.0",
            "_view_count": null,
            "flex_flow": null,
            "width": null,
            "min_width": null,
            "border": null,
            "align_items": null,
            "bottom": null,
            "_model_module": "@jupyter-widgets/base",
            "top": null,
            "grid_column": null,
            "overflow_y": null,
            "overflow_x": null,
            "grid_auto_flow": null,
            "grid_area": null,
            "grid_template_columns": null,
            "flex": null,
            "_model_name": "LayoutModel",
            "justify_items": null,
            "grid_row": null,
            "max_height": null,
            "align_content": null,
            "visibility": null,
            "align_self": null,
            "height": null,
            "min_height": null,
            "padding": null,
            "grid_auto_rows": null,
            "grid_gap": null,
            "max_width": null,
            "order": null,
            "_view_module_version": "1.2.0",
            "grid_template_areas": null,
            "object_position": null,
            "object_fit": null,
            "grid_auto_columns": null,
            "margin": null,
            "display": null,
            "left": null
          }
        },
        "a882f1dffe024ad89ed3a119eed38f3e": {
          "model_module": "@jupyter-widgets/controls",
          "model_name": "DescriptionStyleModel",
          "state": {
            "_view_name": "StyleView",
            "_model_name": "DescriptionStyleModel",
            "description_width": "",
            "_view_module": "@jupyter-widgets/base",
            "_model_module_version": "1.5.0",
            "_view_count": null,
            "_view_module_version": "1.2.0",
            "_model_module": "@jupyter-widgets/controls"
          }
        },
        "30ed415b8d3746f8abab8e064859112e": {
          "model_module": "@jupyter-widgets/base",
          "model_name": "LayoutModel",
          "state": {
            "_view_name": "LayoutView",
            "grid_template_rows": null,
            "right": null,
            "justify_content": null,
            "_view_module": "@jupyter-widgets/base",
            "overflow": null,
            "_model_module_version": "1.2.0",
            "_view_count": null,
            "flex_flow": null,
            "width": null,
            "min_width": null,
            "border": null,
            "align_items": null,
            "bottom": null,
            "_model_module": "@jupyter-widgets/base",
            "top": null,
            "grid_column": null,
            "overflow_y": null,
            "overflow_x": null,
            "grid_auto_flow": null,
            "grid_area": null,
            "grid_template_columns": null,
            "flex": null,
            "_model_name": "LayoutModel",
            "justify_items": null,
            "grid_row": null,
            "max_height": null,
            "align_content": null,
            "visibility": null,
            "align_self": null,
            "height": null,
            "min_height": null,
            "padding": null,
            "grid_auto_rows": null,
            "grid_gap": null,
            "max_width": null,
            "order": null,
            "_view_module_version": "1.2.0",
            "grid_template_areas": null,
            "object_position": null,
            "object_fit": null,
            "grid_auto_columns": null,
            "margin": null,
            "display": null,
            "left": null
          }
        },
        "3d51d0bf5d414a649df6e9f36fe3ad05": {
          "model_module": "@jupyter-widgets/controls",
          "model_name": "HBoxModel",
          "state": {
            "_view_name": "HBoxView",
            "_dom_classes": [],
            "_model_name": "HBoxModel",
            "_view_module": "@jupyter-widgets/controls",
            "_model_module_version": "1.5.0",
            "_view_count": null,
            "_view_module_version": "1.5.0",
            "box_style": "",
            "layout": "IPY_MODEL_47107b497cac48aa81f1cf841dd47bfe",
            "_model_module": "@jupyter-widgets/controls",
            "children": [
              "IPY_MODEL_86083a71b64d479ab05e723091be3290",
              "IPY_MODEL_9df884668b5c480eb2e7a838e272a2b3",
              "IPY_MODEL_9716f15f926a4aeea12c556fd4950085"
            ]
          }
        },
        "47107b497cac48aa81f1cf841dd47bfe": {
          "model_module": "@jupyter-widgets/base",
          "model_name": "LayoutModel",
          "state": {
            "_view_name": "LayoutView",
            "grid_template_rows": null,
            "right": null,
            "justify_content": null,
            "_view_module": "@jupyter-widgets/base",
            "overflow": null,
            "_model_module_version": "1.2.0",
            "_view_count": null,
            "flex_flow": null,
            "width": null,
            "min_width": null,
            "border": null,
            "align_items": null,
            "bottom": null,
            "_model_module": "@jupyter-widgets/base",
            "top": null,
            "grid_column": null,
            "overflow_y": null,
            "overflow_x": null,
            "grid_auto_flow": null,
            "grid_area": null,
            "grid_template_columns": null,
            "flex": null,
            "_model_name": "LayoutModel",
            "justify_items": null,
            "grid_row": null,
            "max_height": null,
            "align_content": null,
            "visibility": null,
            "align_self": null,
            "height": null,
            "min_height": null,
            "padding": null,
            "grid_auto_rows": null,
            "grid_gap": null,
            "max_width": null,
            "order": null,
            "_view_module_version": "1.2.0",
            "grid_template_areas": null,
            "object_position": null,
            "object_fit": null,
            "grid_auto_columns": null,
            "margin": null,
            "display": null,
            "left": null
          }
        },
        "86083a71b64d479ab05e723091be3290": {
          "model_module": "@jupyter-widgets/controls",
          "model_name": "HTMLModel",
          "state": {
            "_view_name": "HTMLView",
            "style": "IPY_MODEL_8a98d5d4dea64686942355d44835aa40",
            "_dom_classes": [],
            "description": "",
            "_model_name": "HTMLModel",
            "placeholder": "​",
            "_view_module": "@jupyter-widgets/controls",
            "_model_module_version": "1.5.0",
            "value": "Downloading: 100%",
            "_view_count": null,
            "_view_module_version": "1.5.0",
            "description_tooltip": null,
            "_model_module": "@jupyter-widgets/controls",
            "layout": "IPY_MODEL_e891f13709a3475797919bc18d24231b"
          }
        },
        "9df884668b5c480eb2e7a838e272a2b3": {
          "model_module": "@jupyter-widgets/controls",
          "model_name": "FloatProgressModel",
          "state": {
            "_view_name": "ProgressView",
            "style": "IPY_MODEL_7beb3ea011724d07857959171deda8a7",
            "_dom_classes": [],
            "description": "",
            "_model_name": "FloatProgressModel",
            "bar_style": "success",
            "max": 898823,
            "_view_module": "@jupyter-widgets/controls",
            "_model_module_version": "1.5.0",
            "value": 898823,
            "_view_count": null,
            "_view_module_version": "1.5.0",
            "orientation": "horizontal",
            "min": 0,
            "description_tooltip": null,
            "_model_module": "@jupyter-widgets/controls",
            "layout": "IPY_MODEL_620da6cfc8d5452dabf728e88d92b98a"
          }
        },
        "9716f15f926a4aeea12c556fd4950085": {
          "model_module": "@jupyter-widgets/controls",
          "model_name": "HTMLModel",
          "state": {
            "_view_name": "HTMLView",
            "style": "IPY_MODEL_bfd5fd2157ee4a388b7a4e7c496e119d",
            "_dom_classes": [],
            "description": "",
            "_model_name": "HTMLModel",
            "placeholder": "​",
            "_view_module": "@jupyter-widgets/controls",
            "_model_module_version": "1.5.0",
            "value": " 899k/899k [00:00&lt;00:00, 2.00MB/s]",
            "_view_count": null,
            "_view_module_version": "1.5.0",
            "description_tooltip": null,
            "_model_module": "@jupyter-widgets/controls",
            "layout": "IPY_MODEL_f3a75c86f8d044969a830cbe29ebf54a"
          }
        },
        "8a98d5d4dea64686942355d44835aa40": {
          "model_module": "@jupyter-widgets/controls",
          "model_name": "DescriptionStyleModel",
          "state": {
            "_view_name": "StyleView",
            "_model_name": "DescriptionStyleModel",
            "description_width": "",
            "_view_module": "@jupyter-widgets/base",
            "_model_module_version": "1.5.0",
            "_view_count": null,
            "_view_module_version": "1.2.0",
            "_model_module": "@jupyter-widgets/controls"
          }
        },
        "e891f13709a3475797919bc18d24231b": {
          "model_module": "@jupyter-widgets/base",
          "model_name": "LayoutModel",
          "state": {
            "_view_name": "LayoutView",
            "grid_template_rows": null,
            "right": null,
            "justify_content": null,
            "_view_module": "@jupyter-widgets/base",
            "overflow": null,
            "_model_module_version": "1.2.0",
            "_view_count": null,
            "flex_flow": null,
            "width": null,
            "min_width": null,
            "border": null,
            "align_items": null,
            "bottom": null,
            "_model_module": "@jupyter-widgets/base",
            "top": null,
            "grid_column": null,
            "overflow_y": null,
            "overflow_x": null,
            "grid_auto_flow": null,
            "grid_area": null,
            "grid_template_columns": null,
            "flex": null,
            "_model_name": "LayoutModel",
            "justify_items": null,
            "grid_row": null,
            "max_height": null,
            "align_content": null,
            "visibility": null,
            "align_self": null,
            "height": null,
            "min_height": null,
            "padding": null,
            "grid_auto_rows": null,
            "grid_gap": null,
            "max_width": null,
            "order": null,
            "_view_module_version": "1.2.0",
            "grid_template_areas": null,
            "object_position": null,
            "object_fit": null,
            "grid_auto_columns": null,
            "margin": null,
            "display": null,
            "left": null
          }
        },
        "7beb3ea011724d07857959171deda8a7": {
          "model_module": "@jupyter-widgets/controls",
          "model_name": "ProgressStyleModel",
          "state": {
            "_view_name": "StyleView",
            "_model_name": "ProgressStyleModel",
            "description_width": "",
            "_view_module": "@jupyter-widgets/base",
            "_model_module_version": "1.5.0",
            "_view_count": null,
            "_view_module_version": "1.2.0",
            "bar_color": null,
            "_model_module": "@jupyter-widgets/controls"
          }
        },
        "620da6cfc8d5452dabf728e88d92b98a": {
          "model_module": "@jupyter-widgets/base",
          "model_name": "LayoutModel",
          "state": {
            "_view_name": "LayoutView",
            "grid_template_rows": null,
            "right": null,
            "justify_content": null,
            "_view_module": "@jupyter-widgets/base",
            "overflow": null,
            "_model_module_version": "1.2.0",
            "_view_count": null,
            "flex_flow": null,
            "width": null,
            "min_width": null,
            "border": null,
            "align_items": null,
            "bottom": null,
            "_model_module": "@jupyter-widgets/base",
            "top": null,
            "grid_column": null,
            "overflow_y": null,
            "overflow_x": null,
            "grid_auto_flow": null,
            "grid_area": null,
            "grid_template_columns": null,
            "flex": null,
            "_model_name": "LayoutModel",
            "justify_items": null,
            "grid_row": null,
            "max_height": null,
            "align_content": null,
            "visibility": null,
            "align_self": null,
            "height": null,
            "min_height": null,
            "padding": null,
            "grid_auto_rows": null,
            "grid_gap": null,
            "max_width": null,
            "order": null,
            "_view_module_version": "1.2.0",
            "grid_template_areas": null,
            "object_position": null,
            "object_fit": null,
            "grid_auto_columns": null,
            "margin": null,
            "display": null,
            "left": null
          }
        },
        "bfd5fd2157ee4a388b7a4e7c496e119d": {
          "model_module": "@jupyter-widgets/controls",
          "model_name": "DescriptionStyleModel",
          "state": {
            "_view_name": "StyleView",
            "_model_name": "DescriptionStyleModel",
            "description_width": "",
            "_view_module": "@jupyter-widgets/base",
            "_model_module_version": "1.5.0",
            "_view_count": null,
            "_view_module_version": "1.2.0",
            "_model_module": "@jupyter-widgets/controls"
          }
        },
        "f3a75c86f8d044969a830cbe29ebf54a": {
          "model_module": "@jupyter-widgets/base",
          "model_name": "LayoutModel",
          "state": {
            "_view_name": "LayoutView",
            "grid_template_rows": null,
            "right": null,
            "justify_content": null,
            "_view_module": "@jupyter-widgets/base",
            "overflow": null,
            "_model_module_version": "1.2.0",
            "_view_count": null,
            "flex_flow": null,
            "width": null,
            "min_width": null,
            "border": null,
            "align_items": null,
            "bottom": null,
            "_model_module": "@jupyter-widgets/base",
            "top": null,
            "grid_column": null,
            "overflow_y": null,
            "overflow_x": null,
            "grid_auto_flow": null,
            "grid_area": null,
            "grid_template_columns": null,
            "flex": null,
            "_model_name": "LayoutModel",
            "justify_items": null,
            "grid_row": null,
            "max_height": null,
            "align_content": null,
            "visibility": null,
            "align_self": null,
            "height": null,
            "min_height": null,
            "padding": null,
            "grid_auto_rows": null,
            "grid_gap": null,
            "max_width": null,
            "order": null,
            "_view_module_version": "1.2.0",
            "grid_template_areas": null,
            "object_position": null,
            "object_fit": null,
            "grid_auto_columns": null,
            "margin": null,
            "display": null,
            "left": null
          }
        },
        "691175c03b2c4bbeb0be31404851df1c": {
          "model_module": "@jupyter-widgets/controls",
          "model_name": "HBoxModel",
          "state": {
            "_view_name": "HBoxView",
            "_dom_classes": [],
            "_model_name": "HBoxModel",
            "_view_module": "@jupyter-widgets/controls",
            "_model_module_version": "1.5.0",
            "_view_count": null,
            "_view_module_version": "1.5.0",
            "box_style": "",
            "layout": "IPY_MODEL_a9835cf88f614cea8d8da00379a6c288",
            "_model_module": "@jupyter-widgets/controls",
            "children": [
              "IPY_MODEL_c7fef9b5144f494fb6e38a8c8cff444a",
              "IPY_MODEL_75c5f118f3cf43c1b4d7928c27d05b69",
              "IPY_MODEL_a1bcc48c087c45c48add66fa514777cb"
            ]
          }
        },
        "a9835cf88f614cea8d8da00379a6c288": {
          "model_module": "@jupyter-widgets/base",
          "model_name": "LayoutModel",
          "state": {
            "_view_name": "LayoutView",
            "grid_template_rows": null,
            "right": null,
            "justify_content": null,
            "_view_module": "@jupyter-widgets/base",
            "overflow": null,
            "_model_module_version": "1.2.0",
            "_view_count": null,
            "flex_flow": null,
            "width": null,
            "min_width": null,
            "border": null,
            "align_items": null,
            "bottom": null,
            "_model_module": "@jupyter-widgets/base",
            "top": null,
            "grid_column": null,
            "overflow_y": null,
            "overflow_x": null,
            "grid_auto_flow": null,
            "grid_area": null,
            "grid_template_columns": null,
            "flex": null,
            "_model_name": "LayoutModel",
            "justify_items": null,
            "grid_row": null,
            "max_height": null,
            "align_content": null,
            "visibility": null,
            "align_self": null,
            "height": null,
            "min_height": null,
            "padding": null,
            "grid_auto_rows": null,
            "grid_gap": null,
            "max_width": null,
            "order": null,
            "_view_module_version": "1.2.0",
            "grid_template_areas": null,
            "object_position": null,
            "object_fit": null,
            "grid_auto_columns": null,
            "margin": null,
            "display": null,
            "left": null
          }
        },
        "c7fef9b5144f494fb6e38a8c8cff444a": {
          "model_module": "@jupyter-widgets/controls",
          "model_name": "HTMLModel",
          "state": {
            "_view_name": "HTMLView",
            "style": "IPY_MODEL_693c1929a7424cb4a19117301fa4c619",
            "_dom_classes": [],
            "description": "",
            "_model_name": "HTMLModel",
            "placeholder": "​",
            "_view_module": "@jupyter-widgets/controls",
            "_model_module_version": "1.5.0",
            "value": "Downloading: 100%",
            "_view_count": null,
            "_view_module_version": "1.5.0",
            "description_tooltip": null,
            "_model_module": "@jupyter-widgets/controls",
            "layout": "IPY_MODEL_d579e5f3d6784a0791efc1fc80700c24"
          }
        },
        "75c5f118f3cf43c1b4d7928c27d05b69": {
          "model_module": "@jupyter-widgets/controls",
          "model_name": "FloatProgressModel",
          "state": {
            "_view_name": "ProgressView",
            "style": "IPY_MODEL_afc43354fee04ae880bd083b009f61ba",
            "_dom_classes": [],
            "description": "",
            "_model_name": "FloatProgressModel",
            "bar_style": "success",
            "max": 456318,
            "_view_module": "@jupyter-widgets/controls",
            "_model_module_version": "1.5.0",
            "value": 456318,
            "_view_count": null,
            "_view_module_version": "1.5.0",
            "orientation": "horizontal",
            "min": 0,
            "description_tooltip": null,
            "_model_module": "@jupyter-widgets/controls",
            "layout": "IPY_MODEL_fcfb3e651f9d4bcda7aaba1da312ab90"
          }
        },
        "a1bcc48c087c45c48add66fa514777cb": {
          "model_module": "@jupyter-widgets/controls",
          "model_name": "HTMLModel",
          "state": {
            "_view_name": "HTMLView",
            "style": "IPY_MODEL_f7aa8cc7302d432eac4b9be6042985fb",
            "_dom_classes": [],
            "description": "",
            "_model_name": "HTMLModel",
            "placeholder": "​",
            "_view_module": "@jupyter-widgets/controls",
            "_model_module_version": "1.5.0",
            "value": " 456k/456k [00:00&lt;00:00, 796kB/s]",
            "_view_count": null,
            "_view_module_version": "1.5.0",
            "description_tooltip": null,
            "_model_module": "@jupyter-widgets/controls",
            "layout": "IPY_MODEL_1ae0b8e254864998b31d923d4aa5d792"
          }
        },
        "693c1929a7424cb4a19117301fa4c619": {
          "model_module": "@jupyter-widgets/controls",
          "model_name": "DescriptionStyleModel",
          "state": {
            "_view_name": "StyleView",
            "_model_name": "DescriptionStyleModel",
            "description_width": "",
            "_view_module": "@jupyter-widgets/base",
            "_model_module_version": "1.5.0",
            "_view_count": null,
            "_view_module_version": "1.2.0",
            "_model_module": "@jupyter-widgets/controls"
          }
        },
        "d579e5f3d6784a0791efc1fc80700c24": {
          "model_module": "@jupyter-widgets/base",
          "model_name": "LayoutModel",
          "state": {
            "_view_name": "LayoutView",
            "grid_template_rows": null,
            "right": null,
            "justify_content": null,
            "_view_module": "@jupyter-widgets/base",
            "overflow": null,
            "_model_module_version": "1.2.0",
            "_view_count": null,
            "flex_flow": null,
            "width": null,
            "min_width": null,
            "border": null,
            "align_items": null,
            "bottom": null,
            "_model_module": "@jupyter-widgets/base",
            "top": null,
            "grid_column": null,
            "overflow_y": null,
            "overflow_x": null,
            "grid_auto_flow": null,
            "grid_area": null,
            "grid_template_columns": null,
            "flex": null,
            "_model_name": "LayoutModel",
            "justify_items": null,
            "grid_row": null,
            "max_height": null,
            "align_content": null,
            "visibility": null,
            "align_self": null,
            "height": null,
            "min_height": null,
            "padding": null,
            "grid_auto_rows": null,
            "grid_gap": null,
            "max_width": null,
            "order": null,
            "_view_module_version": "1.2.0",
            "grid_template_areas": null,
            "object_position": null,
            "object_fit": null,
            "grid_auto_columns": null,
            "margin": null,
            "display": null,
            "left": null
          }
        },
        "afc43354fee04ae880bd083b009f61ba": {
          "model_module": "@jupyter-widgets/controls",
          "model_name": "ProgressStyleModel",
          "state": {
            "_view_name": "StyleView",
            "_model_name": "ProgressStyleModel",
            "description_width": "",
            "_view_module": "@jupyter-widgets/base",
            "_model_module_version": "1.5.0",
            "_view_count": null,
            "_view_module_version": "1.2.0",
            "bar_color": null,
            "_model_module": "@jupyter-widgets/controls"
          }
        },
        "fcfb3e651f9d4bcda7aaba1da312ab90": {
          "model_module": "@jupyter-widgets/base",
          "model_name": "LayoutModel",
          "state": {
            "_view_name": "LayoutView",
            "grid_template_rows": null,
            "right": null,
            "justify_content": null,
            "_view_module": "@jupyter-widgets/base",
            "overflow": null,
            "_model_module_version": "1.2.0",
            "_view_count": null,
            "flex_flow": null,
            "width": null,
            "min_width": null,
            "border": null,
            "align_items": null,
            "bottom": null,
            "_model_module": "@jupyter-widgets/base",
            "top": null,
            "grid_column": null,
            "overflow_y": null,
            "overflow_x": null,
            "grid_auto_flow": null,
            "grid_area": null,
            "grid_template_columns": null,
            "flex": null,
            "_model_name": "LayoutModel",
            "justify_items": null,
            "grid_row": null,
            "max_height": null,
            "align_content": null,
            "visibility": null,
            "align_self": null,
            "height": null,
            "min_height": null,
            "padding": null,
            "grid_auto_rows": null,
            "grid_gap": null,
            "max_width": null,
            "order": null,
            "_view_module_version": "1.2.0",
            "grid_template_areas": null,
            "object_position": null,
            "object_fit": null,
            "grid_auto_columns": null,
            "margin": null,
            "display": null,
            "left": null
          }
        },
        "f7aa8cc7302d432eac4b9be6042985fb": {
          "model_module": "@jupyter-widgets/controls",
          "model_name": "DescriptionStyleModel",
          "state": {
            "_view_name": "StyleView",
            "_model_name": "DescriptionStyleModel",
            "description_width": "",
            "_view_module": "@jupyter-widgets/base",
            "_model_module_version": "1.5.0",
            "_view_count": null,
            "_view_module_version": "1.2.0",
            "_model_module": "@jupyter-widgets/controls"
          }
        },
        "1ae0b8e254864998b31d923d4aa5d792": {
          "model_module": "@jupyter-widgets/base",
          "model_name": "LayoutModel",
          "state": {
            "_view_name": "LayoutView",
            "grid_template_rows": null,
            "right": null,
            "justify_content": null,
            "_view_module": "@jupyter-widgets/base",
            "overflow": null,
            "_model_module_version": "1.2.0",
            "_view_count": null,
            "flex_flow": null,
            "width": null,
            "min_width": null,
            "border": null,
            "align_items": null,
            "bottom": null,
            "_model_module": "@jupyter-widgets/base",
            "top": null,
            "grid_column": null,
            "overflow_y": null,
            "overflow_x": null,
            "grid_auto_flow": null,
            "grid_area": null,
            "grid_template_columns": null,
            "flex": null,
            "_model_name": "LayoutModel",
            "justify_items": null,
            "grid_row": null,
            "max_height": null,
            "align_content": null,
            "visibility": null,
            "align_self": null,
            "height": null,
            "min_height": null,
            "padding": null,
            "grid_auto_rows": null,
            "grid_gap": null,
            "max_width": null,
            "order": null,
            "_view_module_version": "1.2.0",
            "grid_template_areas": null,
            "object_position": null,
            "object_fit": null,
            "grid_auto_columns": null,
            "margin": null,
            "display": null,
            "left": null
          }
        },
        "a417a579a406466eaea327ff4dfa4629": {
          "model_module": "@jupyter-widgets/controls",
          "model_name": "HBoxModel",
          "state": {
            "_view_name": "HBoxView",
            "_dom_classes": [],
            "_model_name": "HBoxModel",
            "_view_module": "@jupyter-widgets/controls",
            "_model_module_version": "1.5.0",
            "_view_count": null,
            "_view_module_version": "1.5.0",
            "box_style": "",
            "layout": "IPY_MODEL_d520a1deab8b472faa8947bf97bd9300",
            "_model_module": "@jupyter-widgets/controls",
            "children": [
              "IPY_MODEL_cbc79398af284eea8db2f68882d83143",
              "IPY_MODEL_3a6314935bcc4ea3847b3cfa1a8e4629",
              "IPY_MODEL_2a5da2823fe740a5986acea3487a26f4"
            ]
          }
        },
        "d520a1deab8b472faa8947bf97bd9300": {
          "model_module": "@jupyter-widgets/base",
          "model_name": "LayoutModel",
          "state": {
            "_view_name": "LayoutView",
            "grid_template_rows": null,
            "right": null,
            "justify_content": null,
            "_view_module": "@jupyter-widgets/base",
            "overflow": null,
            "_model_module_version": "1.2.0",
            "_view_count": null,
            "flex_flow": null,
            "width": null,
            "min_width": null,
            "border": null,
            "align_items": null,
            "bottom": null,
            "_model_module": "@jupyter-widgets/base",
            "top": null,
            "grid_column": null,
            "overflow_y": null,
            "overflow_x": null,
            "grid_auto_flow": null,
            "grid_area": null,
            "grid_template_columns": null,
            "flex": null,
            "_model_name": "LayoutModel",
            "justify_items": null,
            "grid_row": null,
            "max_height": null,
            "align_content": null,
            "visibility": null,
            "align_self": null,
            "height": null,
            "min_height": null,
            "padding": null,
            "grid_auto_rows": null,
            "grid_gap": null,
            "max_width": null,
            "order": null,
            "_view_module_version": "1.2.0",
            "grid_template_areas": null,
            "object_position": null,
            "object_fit": null,
            "grid_auto_columns": null,
            "margin": null,
            "display": null,
            "left": null
          }
        },
        "cbc79398af284eea8db2f68882d83143": {
          "model_module": "@jupyter-widgets/controls",
          "model_name": "HTMLModel",
          "state": {
            "_view_name": "HTMLView",
            "style": "IPY_MODEL_2a66da8beede49c39179f17cdf6c22bd",
            "_dom_classes": [],
            "description": "",
            "_model_name": "HTMLModel",
            "placeholder": "​",
            "_view_module": "@jupyter-widgets/controls",
            "_model_module_version": "1.5.0",
            "value": "Downloading: 100%",
            "_view_count": null,
            "_view_module_version": "1.5.0",
            "description_tooltip": null,
            "_model_module": "@jupyter-widgets/controls",
            "layout": "IPY_MODEL_e16c364c88384014ac0de488f1cc18b0"
          }
        },
        "3a6314935bcc4ea3847b3cfa1a8e4629": {
          "model_module": "@jupyter-widgets/controls",
          "model_name": "FloatProgressModel",
          "state": {
            "_view_name": "ProgressView",
            "style": "IPY_MODEL_6d1f303076d04f26ae9e9c0cadab5697",
            "_dom_classes": [],
            "description": "",
            "_model_name": "FloatProgressModel",
            "bar_style": "success",
            "max": 1625270765,
            "_view_module": "@jupyter-widgets/controls",
            "_model_module_version": "1.5.0",
            "value": 1625270765,
            "_view_count": null,
            "_view_module_version": "1.5.0",
            "orientation": "horizontal",
            "min": 0,
            "description_tooltip": null,
            "_model_module": "@jupyter-widgets/controls",
            "layout": "IPY_MODEL_bda326438f214bd6a6097f8f02c2ebc0"
          }
        },
        "2a5da2823fe740a5986acea3487a26f4": {
          "model_module": "@jupyter-widgets/controls",
          "model_name": "HTMLModel",
          "state": {
            "_view_name": "HTMLView",
            "style": "IPY_MODEL_daa1d7615b424f97b1f16c3ac198c73a",
            "_dom_classes": [],
            "description": "",
            "_model_name": "HTMLModel",
            "placeholder": "​",
            "_view_module": "@jupyter-widgets/controls",
            "_model_module_version": "1.5.0",
            "value": " 1.63G/1.63G [00:49&lt;00:00, 39.8MB/s]",
            "_view_count": null,
            "_view_module_version": "1.5.0",
            "description_tooltip": null,
            "_model_module": "@jupyter-widgets/controls",
            "layout": "IPY_MODEL_4d36835609d94d319540273dc06df5ae"
          }
        },
        "2a66da8beede49c39179f17cdf6c22bd": {
          "model_module": "@jupyter-widgets/controls",
          "model_name": "DescriptionStyleModel",
          "state": {
            "_view_name": "StyleView",
            "_model_name": "DescriptionStyleModel",
            "description_width": "",
            "_view_module": "@jupyter-widgets/base",
            "_model_module_version": "1.5.0",
            "_view_count": null,
            "_view_module_version": "1.2.0",
            "_model_module": "@jupyter-widgets/controls"
          }
        },
        "e16c364c88384014ac0de488f1cc18b0": {
          "model_module": "@jupyter-widgets/base",
          "model_name": "LayoutModel",
          "state": {
            "_view_name": "LayoutView",
            "grid_template_rows": null,
            "right": null,
            "justify_content": null,
            "_view_module": "@jupyter-widgets/base",
            "overflow": null,
            "_model_module_version": "1.2.0",
            "_view_count": null,
            "flex_flow": null,
            "width": null,
            "min_width": null,
            "border": null,
            "align_items": null,
            "bottom": null,
            "_model_module": "@jupyter-widgets/base",
            "top": null,
            "grid_column": null,
            "overflow_y": null,
            "overflow_x": null,
            "grid_auto_flow": null,
            "grid_area": null,
            "grid_template_columns": null,
            "flex": null,
            "_model_name": "LayoutModel",
            "justify_items": null,
            "grid_row": null,
            "max_height": null,
            "align_content": null,
            "visibility": null,
            "align_self": null,
            "height": null,
            "min_height": null,
            "padding": null,
            "grid_auto_rows": null,
            "grid_gap": null,
            "max_width": null,
            "order": null,
            "_view_module_version": "1.2.0",
            "grid_template_areas": null,
            "object_position": null,
            "object_fit": null,
            "grid_auto_columns": null,
            "margin": null,
            "display": null,
            "left": null
          }
        },
        "6d1f303076d04f26ae9e9c0cadab5697": {
          "model_module": "@jupyter-widgets/controls",
          "model_name": "ProgressStyleModel",
          "state": {
            "_view_name": "StyleView",
            "_model_name": "ProgressStyleModel",
            "description_width": "",
            "_view_module": "@jupyter-widgets/base",
            "_model_module_version": "1.5.0",
            "_view_count": null,
            "_view_module_version": "1.2.0",
            "bar_color": null,
            "_model_module": "@jupyter-widgets/controls"
          }
        },
        "bda326438f214bd6a6097f8f02c2ebc0": {
          "model_module": "@jupyter-widgets/base",
          "model_name": "LayoutModel",
          "state": {
            "_view_name": "LayoutView",
            "grid_template_rows": null,
            "right": null,
            "justify_content": null,
            "_view_module": "@jupyter-widgets/base",
            "overflow": null,
            "_model_module_version": "1.2.0",
            "_view_count": null,
            "flex_flow": null,
            "width": null,
            "min_width": null,
            "border": null,
            "align_items": null,
            "bottom": null,
            "_model_module": "@jupyter-widgets/base",
            "top": null,
            "grid_column": null,
            "overflow_y": null,
            "overflow_x": null,
            "grid_auto_flow": null,
            "grid_area": null,
            "grid_template_columns": null,
            "flex": null,
            "_model_name": "LayoutModel",
            "justify_items": null,
            "grid_row": null,
            "max_height": null,
            "align_content": null,
            "visibility": null,
            "align_self": null,
            "height": null,
            "min_height": null,
            "padding": null,
            "grid_auto_rows": null,
            "grid_gap": null,
            "max_width": null,
            "order": null,
            "_view_module_version": "1.2.0",
            "grid_template_areas": null,
            "object_position": null,
            "object_fit": null,
            "grid_auto_columns": null,
            "margin": null,
            "display": null,
            "left": null
          }
        },
        "daa1d7615b424f97b1f16c3ac198c73a": {
          "model_module": "@jupyter-widgets/controls",
          "model_name": "DescriptionStyleModel",
          "state": {
            "_view_name": "StyleView",
            "_model_name": "DescriptionStyleModel",
            "description_width": "",
            "_view_module": "@jupyter-widgets/base",
            "_model_module_version": "1.5.0",
            "_view_count": null,
            "_view_module_version": "1.2.0",
            "_model_module": "@jupyter-widgets/controls"
          }
        },
        "4d36835609d94d319540273dc06df5ae": {
          "model_module": "@jupyter-widgets/base",
          "model_name": "LayoutModel",
          "state": {
            "_view_name": "LayoutView",
            "grid_template_rows": null,
            "right": null,
            "justify_content": null,
            "_view_module": "@jupyter-widgets/base",
            "overflow": null,
            "_model_module_version": "1.2.0",
            "_view_count": null,
            "flex_flow": null,
            "width": null,
            "min_width": null,
            "border": null,
            "align_items": null,
            "bottom": null,
            "_model_module": "@jupyter-widgets/base",
            "top": null,
            "grid_column": null,
            "overflow_y": null,
            "overflow_x": null,
            "grid_auto_flow": null,
            "grid_area": null,
            "grid_template_columns": null,
            "flex": null,
            "_model_name": "LayoutModel",
            "justify_items": null,
            "grid_row": null,
            "max_height": null,
            "align_content": null,
            "visibility": null,
            "align_self": null,
            "height": null,
            "min_height": null,
            "padding": null,
            "grid_auto_rows": null,
            "grid_gap": null,
            "max_width": null,
            "order": null,
            "_view_module_version": "1.2.0",
            "grid_template_areas": null,
            "object_position": null,
            "object_fit": null,
            "grid_auto_columns": null,
            "margin": null,
            "display": null,
            "left": null
          }
        }
      }
    }
  },
  "cells": [
    {
      "cell_type": "code",
      "metadata": {
        "id": "GvqRR0g9vpLI",
        "colab": {
          "base_uri": "https://localhost:8080/"
        },
        "outputId": "d1dc881b-3e0d-4758-9b34-22a1f0f096a1"
      },
      "source": [
        "!pip install transformers --quiet\n",
        "!pip install simpletransformers --quiet\n",
        "!pip install allennlp==1.0.0 allennlp-models==1.0.0 --quiet\n",
        "\n",
        "from urllib import request\n",
        "from bs4 import BeautifulSoup as bs\n",
        "import re\n",
        "import nltk\n",
        "import heapq\n",
        "from transformers import pipeline\n",
        "\n",
        "\n",
        "nltk.download('punkt')\n",
        "nltk.download('stopwords')"
      ],
      "execution_count": 2,
      "outputs": [
        {
          "output_type": "stream",
          "text": [
            "\u001b[K     |████████████████████████████████| 2.6 MB 7.7 MB/s \n",
            "\u001b[K     |████████████████████████████████| 636 kB 68.8 MB/s \n",
            "\u001b[K     |████████████████████████████████| 3.3 MB 33.3 MB/s \n",
            "\u001b[K     |████████████████████████████████| 895 kB 74.5 MB/s \n",
            "\u001b[K     |████████████████████████████████| 221 kB 8.5 MB/s \n",
            "\u001b[K     |████████████████████████████████| 124 kB 67.6 MB/s \n",
            "\u001b[K     |████████████████████████████████| 43 kB 2.5 MB/s \n",
            "\u001b[K     |████████████████████████████████| 76 kB 5.6 MB/s \n",
            "\u001b[K     |████████████████████████████████| 1.8 MB 60.0 MB/s \n",
            "\u001b[K     |████████████████████████████████| 8.0 MB 16.6 MB/s \n",
            "\u001b[K     |████████████████████████████████| 264 kB 67.0 MB/s \n",
            "\u001b[K     |████████████████████████████████| 1.2 MB 58.1 MB/s \n",
            "\u001b[K     |████████████████████████████████| 138 kB 65.4 MB/s \n",
            "\u001b[K     |████████████████████████████████| 97 kB 9.0 MB/s \n",
            "\u001b[K     |████████████████████████████████| 133 kB 64.5 MB/s \n",
            "\u001b[K     |████████████████████████████████| 170 kB 70.3 MB/s \n",
            "\u001b[K     |████████████████████████████████| 63 kB 2.2 MB/s \n",
            "\u001b[K     |████████████████████████████████| 62 kB 1.0 MB/s \n",
            "\u001b[K     |████████████████████████████████| 118 kB 54.5 MB/s \n",
            "\u001b[K     |████████████████████████████████| 243 kB 56.5 MB/s \n",
            "\u001b[K     |████████████████████████████████| 4.2 MB 63.7 MB/s \n",
            "\u001b[K     |████████████████████████████████| 75 kB 4.5 MB/s \n",
            "\u001b[K     |████████████████████████████████| 111 kB 75.7 MB/s \n",
            "\u001b[K     |████████████████████████████████| 122 kB 57.5 MB/s \n",
            "\u001b[K     |████████████████████████████████| 786 kB 70.5 MB/s \n",
            "\u001b[K     |████████████████████████████████| 368 kB 65.5 MB/s \n",
            "\u001b[?25h  Building wheel for subprocess32 (setup.py) ... \u001b[?25l\u001b[?25hdone\n",
            "  Building wheel for pathtools (setup.py) ... \u001b[?25l\u001b[?25hdone\n",
            "  Building wheel for seqeval (setup.py) ... \u001b[?25l\u001b[?25hdone\n",
            "  Building wheel for blinker (setup.py) ... \u001b[?25l\u001b[?25hdone\n",
            "\u001b[31mERROR: pip's dependency resolver does not currently take into account all the packages that are installed. This behaviour is the source of the following dependency conflicts.\n",
            "jupyter-console 5.2.0 requires prompt-toolkit<2.0.0,>=1.0.0, but you have prompt-toolkit 3.0.19 which is incompatible.\n",
            "google-colab 1.0.0 requires ipykernel~=4.10, but you have ipykernel 6.0.3 which is incompatible.\n",
            "google-colab 1.0.0 requires ipython~=5.5.0, but you have ipython 7.26.0 which is incompatible.\n",
            "google-colab 1.0.0 requires requests~=2.23.0, but you have requests 2.26.0 which is incompatible.\n",
            "datascience 0.10.6 requires folium==0.2.1, but you have folium 0.8.3 which is incompatible.\u001b[0m\n",
            "\u001b[K     |████████████████████████████████| 473 kB 7.5 MB/s \n",
            "\u001b[K     |████████████████████████████████| 282 kB 64.5 MB/s \n",
            "\u001b[K     |████████████████████████████████| 131 kB 73.7 MB/s \n",
            "\u001b[K     |████████████████████████████████| 674 kB 50.3 MB/s \n",
            "\u001b[K     |████████████████████████████████| 259 kB 64.5 MB/s \n",
            "\u001b[K     |████████████████████████████████| 753.2 MB 14 kB/s \n",
            "\u001b[K     |████████████████████████████████| 56 kB 5.8 MB/s \n",
            "\u001b[K     |████████████████████████████████| 5.6 MB 27.2 MB/s \n",
            "\u001b[K     |████████████████████████████████| 7.8 MB 33.0 MB/s \n",
            "\u001b[K     |████████████████████████████████| 79 kB 10.0 MB/s \n",
            "\u001b[?25h  Building wheel for overrides (setup.py) ... \u001b[?25l\u001b[?25hdone\n",
            "  Building wheel for jsonnet (setup.py) ... \u001b[?25l\u001b[?25hdone\n",
            "  Building wheel for word2number (setup.py) ... \u001b[?25l\u001b[?25hdone\n",
            "\u001b[31mERROR: pip's dependency resolver does not currently take into account all the packages that are installed. This behaviour is the source of the following dependency conflicts.\n",
            "torchvision 0.10.0+cu102 requires torch==1.9.0, but you have torch 1.5.1 which is incompatible.\n",
            "torchtext 0.10.0 requires torch==1.9.0, but you have torch 1.5.1 which is incompatible.\n",
            "simpletransformers 0.61.13 requires transformers>=4.2.0, but you have transformers 2.11.0 which is incompatible.\u001b[0m\n"
          ],
          "name": "stdout"
        },
        {
          "output_type": "stream",
          "text": [
            "\u001b[34m\u001b[1mwandb\u001b[0m: \u001b[33mWARNING\u001b[0m W&B installed but not logged in.  Run `wandb login` or set the WANDB_API_KEY env variable.\n"
          ],
          "name": "stderr"
        },
        {
          "output_type": "stream",
          "text": [
            "[nltk_data] Downloading package punkt to /root/nltk_data...\n",
            "[nltk_data]   Unzipping tokenizers/punkt.zip.\n",
            "[nltk_data] Downloading package stopwords to /root/nltk_data...\n",
            "[nltk_data]   Unzipping corpora/stopwords.zip.\n"
          ],
          "name": "stdout"
        },
        {
          "output_type": "execute_result",
          "data": {
            "text/plain": [
              "True"
            ]
          },
          "metadata": {
            "tags": []
          },
          "execution_count": 2
        }
      ]
    },
    {
      "cell_type": "code",
      "metadata": {
        "id": "XjGi5wlSvz0S",
        "colab": {
          "base_uri": "https://localhost:8080/"
        },
        "outputId": "adf0b0dc-2975-4466-9348-253426b59617"
      },
      "source": [
        "url = 'https://en.wikipedia.org/wiki/Olympic_Games'\n",
        "TotalContent = \"\"\n",
        "\n",
        "htmlDoc = request.urlopen(url)\n",
        "\n",
        "soupObj = bs(htmlDoc, 'html.parser')\n",
        "paragraphContents = soupObj.findAll('p')\n",
        "\n",
        "for content in paragraphContents:\n",
        "\n",
        "  TotalContent += content.text\n",
        "\n",
        "\n",
        "\n",
        "total_cleaned_content = re.sub(r'\\[[0-9]*\\]', ' ', TotalContent)\n",
        "total_cleaned_content = re.sub(r'\\s+', ' ', total_cleaned_content)\n",
        "\n",
        "sentence_tokens = nltk.sent_tokenize(total_cleaned_content)\n",
        "\n",
        "total_cleaned_content = re.sub(r'[^a-zA-Z]', ' ', total_cleaned_content)\n",
        "total_cleaned_content = re.sub(r'\\s+', ' ', total_cleaned_content)\n",
        "\n",
        "print(sentence_tokens)"
      ],
      "execution_count": 3,
      "outputs": [
        {
          "output_type": "stream",
          "text": [
            "[' The modern Olympic Games or Olympics (French: Jeux olympiques) are leading international sporting events featuring summer and winter sports competitions in which thousands of athletes from around the world participate in a variety of competitions.', \"The Olympic Games are considered the world's foremost sports competition with more than 200 nations participating.\", 'The Olympic Games are normally held every four years, alternating between the Summer and Winter Olympics every two years in the four-year period.', 'Their creation was inspired by the ancient Olympic Games (Ancient Greek: Ὀλυμπιακοί Ἀγῶνες), held in Olympia, Greece from the 8th century BC to the 4th century AD.', 'Baron Pierre de Coubertin founded the International Olympic Committee (IOC) in 1894, leading to the first modern Games in Athens in 1896.', 'The IOC is the governing body of the Olympic Movement,[definition needed] with the Olympic Charter defining its structure and authority.', 'The evolution of the Olympic Movement during the 20th and 21st centuries has resulted in several changes to the Olympic Games.', 'Some of these adjustments include the creation of the Winter Olympic Games for snow and ice sports, the Paralympic Games for athletes with disabilities, the Youth Olympic Games for athletes aged 14 to 18, the five Continental games (Pan American, African, Asian, European, and Pacific), and the World Games for sports that are not contested in the Olympic Games.', 'The IOC also endorses the Deaflympics and the Special Olympics.', 'The IOC has needed to adapt to a variety of economic, political, and technological advancements.', 'The abuse of amateur rules by the Eastern Bloc nations prompted the IOC to shift away from pure amateurism, as envisioned by Coubertin, to the acceptance of professional athletes participating at the Games.', 'The growing importance of mass media has created the issue of corporate sponsorship and general commercialisation of the Games.', 'World wars led to the cancellation of the 1916, 1940, and 1944 Olympics; large-scale boycotts during the Cold War limited participation in the 1980 and 1984 Olympics; and the 2020 Olympics were postponed until 2021 as a result of the COVID-19 pandemic.', 'The Olympic Movement consists of international sports federations (IFs), National Olympic Committees (NOCs), and organising committees for each specific Olympic Games.', 'As the decision-making body, the IOC is responsible for choosing the host city for each Games, and organises and funds the Games according to the Olympic Charter.', 'The IOC also determines the Olympic programme, consisting of the sports to be contested at the Games.', 'There are several Olympic rituals and symbols, such as the Olympic flag and torch, as well as the opening and closing ceremonies.', 'Over 14,000 athletes competed at the 2016 Summer Olympics and 2018 Winter Olympics combined, in 35 different sports and over 400 events.', 'The first, second, and third-place finishers in each event receive Olympic medals: gold, silver, and bronze, respectively.', 'The Games have grown so much that nearly every nation is now represented.', 'This growth has created numerous challenges and controversies, including boycotts, doping, bribery, and a terrorist attack in 1972.', 'Every two years the Olympics and its media exposure provide athletes with the chance to attain national and sometimes international fame.', 'The Games also provide an opportunity for the host city and country to showcase themselves to the world.', 'The Ancient Olympic Games were religious and athletic festivals held every four years at the sanctuary of Zeus in Olympia, Greece.', 'Competition was among representatives of several city-states and kingdoms of Ancient Greece.', 'These Games featured mainly athletic but also combat sports such as wrestling and the pankration, horse and chariot racing events.', 'It has been widely written that during the Games, all conflicts among the participating city-states were postponed until the Games were finished.', 'This cessation of hostilities was known as the Olympic peace or truce.', 'This idea is a modern myth because the Greeks never suspended their wars.', 'The truce did allow those religious pilgrims who were travelling to Olympia to pass through warring territories unmolested because they were protected by Zeus.', 'The origin of the Olympics is shrouded in mystery and legend; one of the most popular myths identifies Heracles and his father Zeus as the progenitors of the Games.', 'According to legend, it was Heracles who first called the Games \"Olympic\" and established the custom of holding them every four years.', 'The myth continues that after Heracles completed his twelve labours, he built the Olympic Stadium as an honour to Zeus.', 'Following its completion, he walked in a straight line for 200 steps and called this distance a \"stadion\" (Greek: στάδιον, Latin: stadium, \"stage\"), which later became a unit of distance.', 'The most widely accepted inception date for the Ancient Olympics is 776 BC; this is based on inscriptions, found at Olympia, listing the winners of a footrace held every four years starting in 776 BC.', 'The Ancient Games featured running events, a pentathlon (consisting of a jumping event, discus and javelin throws, a foot race, and wrestling), boxing, wrestling, pankration, and equestrian events.', 'Tradition has it that Coroebus, a cook from the city of Elis, was the first Olympic champion.', 'The Olympics were of fundamental religious importance, featuring sporting events alongside ritual sacrifices honouring both Zeus (whose famous statue by Phidias stood in his temple at Olympia) and Pelops, divine hero and mythical king of Olympia.', 'Pelops was famous for his chariot race with King Oenomaus of Pisatis.', 'The winners of the events were admired and immortalised in poems and statues.', 'The Games were held every four years, and this period, known as an Olympiad, was used by Greeks as one of their units of time measurement.', 'The Games were part of a cycle known as the Panhellenic Games, which included the Pythian Games, the Nemean Games, and the Isthmian Games.', 'The Olympic Games reached the height of their success in the 6th and 5th centuries BC, but then gradually declined in importance as the Romans gained power and influence in Greece.', 'While there is no scholarly consensus as to when the Games officially ended, the most commonly held date is 393 AD, when the emperor Theodosius I decreed that all pagan cults and practices be eliminated.', 'Another date commonly cited is 426 AD, when his successor, Theodosius II, ordered the destruction of all Greek temples.', 'Various uses of the term \"Olympic\" to describe athletic events in the modern era have been documented since the 17th century.', 'The first such event was the Cotswold Games or \"Cotswold Olimpick Games\", an annual meeting near Chipping Campden, England, involving various sports.', 'It was first organised by the lawyer Robert Dover between 1612 and 1642, with several later celebrations leading up to the present day.', 'The British Olympic Association, in its bid for the 2012 Olympic Games in London, mentioned these games as \"the first stirrings of Britain\\'s Olympic beginnings\".', \"L'Olympiade de la République, a national Olympic festival held annually from 1796 to 1798 in Revolutionary France also attempted to emulate the ancient Olympic Games.\", 'The competition included several disciplines from the ancient Greek Olympics.', 'The 1796 Games also marked the introduction of the metric system into sport.', 'In 1834 and 1836, Olympic games were held in Ramlösa [sv] (Olympiska spelen i Ramlösa), and an additional in Stockholm, Sweden in 1843, all organised by Gustaf Johan Schartau and others.', 'At most 25,000 spectators saw the games.', 'In 1850, an Olympian Class was started by William Penny Brookes at Much Wenlock, in Shropshire, England.', 'In 1859, Brookes changed the name to the Wenlock Olympian Games.', 'This annual sports festival continues to this day.', 'The Wenlock Olympian Society was founded by Brookes on 15 November 1860.', 'Between 1862 and 1867, Liverpool held an annual Grand Olympic Festival.', \"Devised by John Hulley and Charles Melly, these games were the first to be wholly amateur in nature and international in outlook, although only 'gentlemen amateurs' could compete.\", 'The programme of the first modern Olympiad in Athens in 1896 was almost identical to that of the Liverpool Olympics.', 'In 1865 Hulley, Brookes and E.G.', 'Ravenstein founded the National Olympian Association in Liverpool, a forerunner of the British Olympic Association.', 'Its articles of foundation provided the framework for the International Olympic Charter.', \"In 1866, a national Olympic Games in Great Britain was organised at London's Crystal Palace.\", 'Greek interest in reviving the Olympic Games began with the Greek War of Independence from the Ottoman Empire in 1821.', 'It was first proposed by poet and newspaper editor Panagiotis Soutsos in his poem \"Dialogue of the Dead\", published in 1833.', 'Evangelos Zappas, a wealthy Greek-Romanian philanthropist, first wrote to King Otto of Greece, in 1856, offering to fund a permanent revival of the Olympic Games.', 'Zappas sponsored the first Olympic Games in 1859, which was held in an Athens city square.', 'Athletes participated from Greece and the Ottoman Empire.', 'Zappas funded the restoration of the ancient Panathenaic Stadium so that it could host all future Olympic Games.', 'The stadium hosted Olympics in 1870 and 1875.', 'Thirty thousand spectators attended that Games in 1870, though no official attendance records are available for the 1875 Games.', 'In 1890, after attending the Olympian Games of the Wenlock Olympian Society, Baron Pierre de Coubertin was inspired to found the International Olympic Committee (IOC).', 'Coubertin built on the ideas and work of Brookes and Zappas with the aim of establishing internationally rotating Olympic Games that would occur every four years.', 'He presented these ideas during the first Olympic Congress of the newly created International Olympic Committee.', 'This meeting was held from 16 to 23 June 1894, at the University of Paris.', 'On the last day of the Congress, it was decided that the first Olympic Games to come under the auspices of the IOC would take place in Athens in 1896.', 'The IOC elected the Greek writer Demetrius Vikelas as its first president.', 'The first Games held under the auspices of the IOC was hosted in the Panathenaic Stadium in Athens in 1896.', 'The Games brought together 14 nations and 241 athletes who competed in 43 events.', 'Zappas and his cousin Konstantinos Zappas had left the Greek government a trust to fund future Olympic Games.', 'This trust was used to help finance the 1896 Games.', 'George Averoff contributed generously for the refurbishment of the stadium in preparation for the Games.', 'The Greek government also provided funding, which was expected to be recouped through the sale of tickets and from the sale of the first Olympic commemorative stamp set.', 'Greek officials and the public were enthusiastic about the experience of hosting an Olympic Games.', 'This feeling was shared by many of the athletes, who even demanded that Athens be the permanent Olympic host city.', 'The IOC intended for subsequent Games to be rotated to various host cities around the world.', 'The second Olympics was held in Paris.', 'After the success of the 1896 Games, the Olympics entered a period of stagnation which threatened its survival.', 'The Olympic Games held at the Paris Exposition in 1900 and the Louisiana Purchase Exposition at St. Louis in 1904 failed to attract much participation or notice.', 'Of the 650 athletes in the 1904 Olympics, 580 were American; the winner of the marathon was later disqualified upon discovery of a photograph of him riding in a car during the race.', 'The Games rebounded with the 1906 Intercalated Games (so-called because they were the second Olympics to take place within the third Olympiad), which were held in Athens.', 'These Games attracted a broad international field of participants and generated a great deal of public interest, marking the beginning of a rise in both the popularity and the size of the Olympics.', 'The 1906 Games were officially recognised by the IOC at the time (although not any longer), and no Intercalated Games have been held since.', 'The Winter Olympics was created to feature snow and ice sports that were logistically impossible to hold during the Summer Games.', 'Figure skating (in 1908 and 1920) and ice hockey (in 1920) were featured as Olympic events at the Summer Olympics.', 'The IOC desired to expand this list of sports to encompass other winter activities.', 'At the 1921 Olympic Congress in Lausanne, it was decided to hold a winter version of the Olympic Games.', 'A winter sports week (it was actually 11 days) was held in 1924 in Chamonix, France, in connection with the Paris Games held three months later; this event became the first Winter Olympic Games.', 'Although it was intended that the same country host both the Winter and Summer Games in a given year, this idea was quickly abandoned.', 'The IOC mandated that the Winter Games be celebrated every four years in the same year as their summer counterpart.', 'This tradition was upheld through the 1992 Games in Albertville, France; after that, beginning with the 1994 Games, the Winter Olympics were held every four years, two years after each Summer Olympics.', 'In 1948, Sir Ludwig Guttmann, determined to promote the rehabilitation of soldiers after World War II, organised a multi-sport event between several hospitals to coincide with the 1948 London Olympics.', \"Originally known as the Stoke Mandeville Games, Guttmann's event became an annual sports festival.\", 'Over the next 12 years, Guttmann and others continued their efforts to use sports as an avenue to healing.', 'In 1960, Guttmann brought 400 athletes to Rome to compete in the \"Parallel Olympics\", which ran in parallel with the Summer Olympics and came to be known as the first Paralympics.', 'Since then, the Paralympics have been held in every Olympic year and, starting with the 1988 Summer Games in Seoul, the host city for the Olympics has also played host to the Paralympics.', '[a] The International Olympic Committee (IOC) and the International Paralympic Committee (IPC) signed an agreement in 2001 which guaranteed that host cities would be contracted to manage both the Olympic and Paralympic Games.', 'The agreement came into effect at the 2008 Summer Games in Beijing, and at the 2010 Winter Games in Vancouver.', 'Two years before the 2012 Games, the LOCOG chairman Lord Coe made the following statement about the Paralympics and Olympics in London: We want to change public attitudes towards disability, celebrate the excellence of Paralympic sport and to enshrine from the very outset that the two Games are an integrated whole.', 'In 2010, the Olympic Games were complemented by the Youth Games, which give athletes between the ages of 14 and 18 the chance to compete.', 'The Youth Olympic Games were conceived by IOC president Jacques Rogge in 2001 and approved during the 119th Congress of the IOC.', 'The first Summer Youth Games were held in Singapore from 14 to 26 August 2010, while the inaugural Winter Games were hosted in Innsbruck, Austria, two years later.', 'These Games will be shorter than the senior Games; the summer version will last twelve days, while the winter version will last nine days.', 'The IOC allows 3,500 athletes and 875 officials to participate at the Summer Youth Games, and 970 athletes and 580 officials at the Winter Youth Games.', 'The sports to be contested will coincide with those scheduled for the senior Games, however there will be variations on the sports including mixed NOC and mixed gender teams as well as a reduced number of disciplines and events.', 'The Summer Olympics have grown from 241 participants representing 14 nations in 1896, to more than 11,200 competitors representing 207 nations in 2016.', 'The scope and scale of the Winter Olympics is smaller; for example, Pyeongchang hosted 2,922 athletes from 92 nations in 2018.', 'Most of the athletes and officials are housed in the Olympic Village for the duration of the Games.', 'This accommodation centre is designed to be a self-contained home for all Olympic participants, and is furnished with cafeterias, health clinics, and locations for religious expression.', 'The IOC has allowed the formation of National Olympic Committees (NOCs) to represent individual nations.', 'These do not meet the strict requirements for political sovereignty that other international organisations demand.', 'As a result, colonies and dependencies are permitted to compete at Olympic Games, examples being territories such as Puerto Rico, Bermuda, and Hong Kong, all of which compete as separate nations despite being legally a part of another country.', 'The current version of the Olympic Charter allows for the establishment of new NOCs to represent nations that qualify as \"an independent State recognised by the international community\".', 'Consequently, the IOC did not allow the formation of NOCs for Sint Maarten and Curaçao when they gained the same constitutional status as Aruba in 2010, although the IOC had recognised the Aruban Olympic Committee in 1986.', 'Since 2012, athletes from the former Netherlands Antilles have had the option to represent either the Netherlands or Aruba.', 'The Oxford Olympics Study 2016 found that, since 1960, sports-related costs for the Summer Games were on average US$5.2 billion and for the Winter Games $3.1 billion.', 'These figures do not include wider infrastructure costs like roads, urban rail, and airports, which often cost as much or more than the sports-related costs.', 'The most expensive Summer Games were Beijing 2008 at US$40–44 billion, and the most expensive Winter Games were Sochi 2014 at US$51 billion.', 'As of 2016, costs per athlete were, on average, US$599,000 for the Summer Games and $1.3 million for the Winter Games; for London 2012, the cost per athlete was $1.4 million, and the figure was $7.9 million for Sochi 2014.', 'Where ambitious construction for the 1976 Games in Montreal and the 1980 Games in Moscow had burdened organisers with expenses greatly in excess of revenues, Los Angeles strictly controlled expenses for the 1984 Games by using existing facilities that were paid for by corporate sponsors.', 'The Olympic Committee led by Peter Ueberroth used some of the profits to endow the LA84 Foundation to promote youth sports in Southern California, educate coaches and maintain a sports library.', 'The 1984 Summer Olympics are often considered the most financially successful modern Olympics and a model for future Games.', 'Budget overruns are common for the Games.', 'Average overrun for Games since 1960 is 156% in real terms, which means that actual costs turned out to be on average 2.56 times the budget that was estimated at the time of winning the bid to host the Games.', 'Montreal 1976 had the highest cost overrun for Summer Games, and for any Games, at 720%; Lake Placid 1980 had the highest cost overrun for Winter Games, at 324%.', 'London 2012 had a cost overrun of 76%, Sochi 2014 of 289%.', 'It has been documented that cost and cost overrun for the Games follow a power-law distribution, which means that, first, the Games are prone to large cost overruns and, second, it is only a matter of time until an overrun occurs that is larger than the largest to date.', 'In short, hosting the Games is economically and financially extremely risky.', 'Many economists[who?]', 'are sceptical about the economic benefits of hosting the Olympic Games, emphasising that such \"mega-events\" often have large costs while yielding relatively few tangible benefits in the long run.', \"Conversely hosting (or even bidding for) the Olympics appears to increase the host country's exports, as the host or candidate country sends a signal about trade openness when bidding to host the Games.\", 'Moreover, research suggests that hosting the Summer Olympics has a strong positive effect on the philanthropic contributions of corporations headquartered in the host city, which seems to benefit the local nonprofit sector.', 'This positive effect begins in the years leading up to the Games and might persist for several years afterwards, although not permanently.', 'This finding suggests that hosting the Olympics might create opportunities for cities to influence local corporations in ways that benefit the local nonprofit sector and civil society.', 'The Games have also had significant negative effects on host communities; for example, the Centre on Housing Rights and Evictions reports that the Olympics displaced more than two million people over two decades, often disproportionately affecting disadvantaged groups.', 'The 2014 Winter Olympics in Sochi were the most expensive Olympic Games in history, costing in excess of US$50 billion.', \"According to a report by the European Bank for Reconstruction and Development that was released at the time of the games, this cost will not boost Russia's national economy, but may attract business to Sochi and the southern Krasnodar region of Russia in the future as a result of improved services.\", 'But by December 2014, The Guardian stated that Sochi \"now feels like a ghost town\", citing the spread-out nature of the stadiums and arenas, the still-unfinished construction, and the overall effects of Russia\\'s political and economic turmoil.', 'Furthermore, at least four cities withdrew their bids for the 2022 Winter Olympics, citing the high costs or the lack of local support, resulting in only a two-city race between Almaty, Kazakhstan and Beijing, China.', 'Thus in July 2016, The Guardian stated that the biggest threat to the future of the Olympics is that very few cities want to host them.', 'Bidding for the 2024 Summer Olympics also became a two-city race between Paris and Los Angeles, so the IOC took the unusual step of simultaneously awarding both the 2024 Games to Paris and the 2028 Games to Los Angeles.', 'The 2028 Los Angeles bid was praised by the IOC for using a record-breaking number of existing and temporary facilities and relying on corporate money.', 'The Olympic Movement encompasses a large number of national and international sporting organisations and federations, recognised media partners, as well as athletes, officials, judges, and every other person and institution that agrees to abide by the rules of the Olympic Charter.', 'As the umbrella organisation of the Olympic Movement, the International Olympic Committee (IOC) is responsible for selecting the host city, overseeing the planning of the Olympic Games, updating and approving the Olympic sports programme, and negotiating sponsorship and broadcasting rights.', 'The Olympic Movement is made of three major elements: French and English are the official languages of the Olympic Movement.', 'The other language used at each Olympic Games is the language of the host country (or languages, if a country has more than one official language apart from French or English).', 'Every proclamation (such as the announcement of each country during the parade of nations in the opening ceremony) is spoken in these three (or more) languages, or the main two depending on whether the host country is an English or French speaking country: French is always spoken first, followed by an English translation, and then the dominant language of the host nation (when this is not English or French).', 'The IOC has often been accused of being an intractable organisation, with several life members on the committee.', 'The presidential terms of Avery Brundage and Juan Antonio Samaranch were especially controversial.', 'Brundage fought strongly for amateurism and against the commercialisation of the Olympic Games, even as these attitudes came to be seen as incongruous with the realities of modern sports.', 'The advent of state-sponsored athletes from the Eastern Bloc countries further eroded the ideology of the pure amateur, as it placed self-financed amateurs of Western countries at a disadvantage.', 'Brundage was accused of racism—for resisting the exclusion of apartheid South Africa—and antisemitism.', 'Under the Samaranch presidency, the office was accused of both nepotism and corruption.', \"Samaranch's ties with the Franco regime in Spain were also a source of criticism.\", 'In 1998, it was reported that several IOC members had taken gifts from members of the Salt Lake City bid committee for the hosting of the 2002 Winter Olympics.', 'There were soon four independent investigations underway: by the IOC, the United States Olympic Committee (USOC), the Salt Lake Organizing Committee (SLOC), and the United States Department of Justice (DOJ).', 'Although nothing strictly illegal had occurred, it was felt that the acceptance of the gifts was morally dubious.', 'As a result of the investigation, ten members of the IOC were expelled and a further ten sanctioned.', 'Stricter rules were adopted for future bids, and caps were introduced to define how much IOC members could accept from bid cities.', 'Additionally, new term and age limits were put into place for IOC membership, and fifteen former Olympic athletes were added to the committee.', 'Nevertheless, from sporting and business standpoints, the 2002 Olympics were one of the most successful Winter Games in history; records were set in both the broadcasting and marketing programs.', 'Over 2 billion viewers watched more than 13 billion viewer-hours.', 'The 2002 Games were also a financial success, raising more money with fewer sponsors than any prior Olympic Games, leaving SLOC with a surplus of $40 million.', 'This excess revenue was used to create the Utah Athletic Foundation (also known as the Utah Olympic Legacy Foundation), which maintains and operates many of the surviving Olympic venues.', 'It was reported in 1999 that the Nagano Olympic bid committee had spent approximately $14 million on entertaining the 62 IOC members and many of their associates.', 'The precise figures are unknown since Nagano destroyed the financial records after the IOC requested that the entertainment expenditures should not be made public.', 'A BBC documentary entitled Panorama: Buying the Games, which aired in August 2004, investigated the taking of bribes in the bidding process for the 2012 Summer Olympics.', 'The documentary claimed that it was possible to bribe IOC members into voting for a particular candidate city.', 'After being narrowly defeated in their bid for the 2012 Games, Parisian mayor Bertrand Delanoë specifically accused the British prime minister Tony Blair and the London bid committee, headed by former Olympic champion Sebastian Coe, of breaking the bid rules.', 'He cited French president Jacques Chirac as a witness; Chirac gave guarded interviews concerning his involvement but the allegation was never fully explored.', \"Turin's 2006 Winter Olympic bid was also clouded by controversy.\", 'A prominent IOC member, Marc Hodler, closely connected to the rival bid of Sion, alleged bribery of IOC officials by members of the Turin Organising Committee.', \"These accusations led to a wide-ranging investigation, and also served to sour many IOC members against Sion's bid which potentially helped Turin to capture the host city nomination.\", 'In July 2012, the Anti-Defamation League called the continued refusal by the IOC to hold a moment of silence at the opening ceremony for the eleven Israeli athletes killed by Palestinian terrorists at the 1972 Munich Olympics, \"a continuing stubborn insensitivity and callousness to the memory of the murdered Israeli athletes.\"', 'In April 2018, Norwegian track and field athletics manager Håkon Lutdal argued for abolishing the Olympic Games, arguing against the concept of gathering many sports in a single town, city or region no matter how popular or unpopular those sports are there.', 'Instead, he argued for elevating the status of various world championships in different sports, usually at locations attracting more interested spectators.', 'In 2020, a group of Oxford University scholars documented high costs and cost overruns for the Games and criticised the IOC for not taking enough responsibility for controlling increasing costs.', 'The IOC criticised the study and the Oxford scholars countered the criticism, point by point, in an open letter to IOC President Thomas Bach.', 'The Olympic Games have been commercialised to various degrees since the inaugural 1896 Summer Olympics in Athens, when a number of companies paid for advertising, including Kodak.', 'In 1908, Oxo, Odol mouthwash, and Indian Foot Powder became official sponsors of the London Olympic Games.', 'Coca-Cola first sponsored the Summer Olympics in 1928, and has remained an Olympic sponsor ever since.', 'Before the IOC took control of sponsorship, the NOCs had responsibility for negotiating their own contracts for sponsorship and use of the Olympic symbols.', 'The IOC originally resisted funding by corporate sponsors.', 'It was not until the retirement of IOC President Avery Brundage, in 1972, that the IOC began to explore the potential of the television medium and the lucrative advertising markets available to them.', 'Under the leadership of Juan Antonio Samaranch the Games began to shift toward international sponsors who sought to link their products to the Olympic brand.', 'During the first half of the 20th century, the IOC ran on a small budget.', 'As president of the IOC from 1952 to 1972, Avery Brundage rejected all attempts to link the Olympics with commercial interest.', \"Brundage believed the lobby of corporate interests would unduly impact the IOC's decision-making.\", \"Brundage's resistance to this revenue stream meant the IOC left organising committees to negotiate their own sponsorship contracts and use the Olympic symbols.\", 'When Brundage retired the IOC had US$2 million in assets; eight years later the IOC coffers had swelled to US$45 million.', 'This was primarily due to a shift in ideology toward expansion of the Games through corporate sponsorship and the sale of television rights.', 'When Juan Antonio Samaranch was elected IOC president in 1980 his desire was to make the IOC financially independent.', 'The 1984 Summer Olympics became a watershed moment in Olympic history.', 'The Los Angeles-based organising committee, led by Peter Ueberroth, was able to generate a surplus of US$225 million, which was an unprecedented amount at that time.', 'The organising committee had been able to create such a surplus in part by selling exclusive sponsorship rights to select companies.', 'The IOC sought to gain control of these sponsorship rights.', 'Samaranch helped to establish The Olympic Programme (TOP) in 1985, in order to create an Olympic brand.', 'Membership in TOP was, and is, very exclusive and expensive.', 'Fees cost US$50 million for a four-year membership.', 'Members of TOP received exclusive global advertising rights for their product category, and use of the Olympic symbol, the interlocking rings, in their publications and advertisements.', 'The 1936 Summer Olympics in Berlin were the first Games to be broadcast on television, though only to local audiences.', 'The 1956 Winter Olympics in Italy were the first internationally televised Olympic Games, and the broadcasting rights for the following Winter Games in California were sold for the first time to specialised television broadcasting networks—CBS paid US$394,000 for the American rights.', 'In the following decades, the Olympics became one of the ideological fronts of the Cold War, and the International Olympic Committee wanted to take advantage of this heightened interest via the broadcast medium.', 'The sale of broadcast rights enabled the IOC to increase the exposure of the Olympic Games, thereby generating more interest, which in turn enhanced the appeal of TV air time to the advertisers.', 'This cycle allowed the IOC to charge ever-increasing fees for those rights.', 'For example, CBS paid US$375 million for the American broadcast rights for the 1998 Nagano Games, while NBC spent US$3.5 billion for the American rights to air every Olympic Games from 2000 to 2012.', 'In 2011, NBC agreed to a $4.38 billion contract with the IOC to broadcast the Olympics through the 2020 Games, the most expensive television rights deal in Olympic history.', 'NBC then agreed to a $7.75 billion contract extension on 7 May 2014, to air the Olympics through the 2032 Games.', 'NBC also acquired the American television rights to the Youth Olympic Games, beginning in 2014, and the Paralympic Games.', \"More than half of the Olympic Committee's global sponsors are American companies, and NBC is one of the major sources of revenue for the IOC.\", 'Viewership increased exponentially from the 1960s until the end of the 20th century.', 'This was due to the advent of satellites for broadcasting live television worldwide starting in 1964, and the introduction of colour television in 1968.', 'The global audience for the 1968 Mexico City Games was estimated to be 600 million, whereas the audience numbers at the Los Angeles Games of 1984 had increased to 900 million; this number had swelled to 3.5 billion by the 1992 Summer Olympics in Barcelona.', 'With such high costs charged to broadcast the Games, the added pressure of the internet, and increased competition from cable, the television lobby demanded concessions from the IOC to boost ratings.', 'The IOC responded by making a number of changes to the Olympic programme; at the Summer Games, the gymnastics competition was expanded from seven to nine nights, and a Champions Gala was added to attract greater interest; the events programmes were also expanded for swimming and diving, both popular sports with a broad base of television viewers.', 'Due to the substantial fees NBC has paid for rights to the Olympics, the IOC has allowed the network to influence the event scheduling to maximise U.S. television ratings when possible.', 'The sale of the Olympic brand has been controversial.', 'The argument is that the Games have become indistinguishable from any other commercialised sporting spectacle.', 'Another criticism is that the Games are funded by host cities and national governments; the IOC incurs none of the cost, yet controls all the rights and profits from the Olympic symbols.', 'The IOC also takes a percentage of all sponsorship and broadcast income.', 'Host cities continue to compete ardently for the right to host the Games, even though there is no certainty that they will earn back their investments.', 'Research has shown that trade is around 30 percent higher for countries that have hosted the Olympics.', 'The Olympic Movement uses symbols to represent the ideals embodied in the Olympic Charter.', 'The Olympic symbol, better known as the Olympic rings, consists of five intertwined rings and represents the unity of the five inhabited continents (Africa, The Americas (is considered one continent), Asia, Europe, and Oceania).', 'The coloured version of the rings—blue, yellow, black, green, and red—over a white field forms the Olympic flag.', 'These colours were chosen because every nation had at least one of them on its national flag.', 'The flag was adopted in 1914 but flown for the first time only at the 1920 Summer Olympics in Antwerp, Belgium.', 'It has since been hoisted during each celebration of the Games.', 'The Olympic motto, Citius, Altius, Fortius, a Latin expression meaning \"Faster, Higher, Stronger\" was proposed by Pierre de Coubertin in 1894 and has been official since 1924.', \"The motto was coined by Coubertin's friend, the Dominican priest Henri Didon OP, for a Paris youth gathering of 1891.\", \"Coubertin's Olympic ideals are expressed in the Olympic creed: The most important thing in the Olympic Games is not to win but to take part, just as the most important thing in life is not the triumph but the struggle.\", 'The essential thing is not to have conquered but to have fought well.', 'Months before each Games, the Olympic Flame is lit at the Temple of Hera in Olympia in a ceremony that reflects ancient Greek rituals.', \"A female performer, acting as a priestess joined by ten female performers as Vestal Virgins, ignites a torch by placing it inside a parabolic mirror which focuses the sun's rays; she then lights the torch of the first relay bearer, thus initiating the Olympic torch relay that will carry the flame to the host city's Olympic stadium, where it plays an important role in the opening ceremony.\", 'Though the flame has been an Olympic symbol since 1928, the torch relay was only introduced at the 1936 Summer Games to promote the Third Reich.', 'The Olympic mascot, an animal or human figure representing the cultural heritage of the host country, was introduced in 1968.', \"It has played an important part of the Games' identity promotion since the 1980 Summer Olympics, when the Soviet bear cub Misha reached international stardom.\", 'The mascot of the Summer Olympics in London was named Wenlock after the town of Much Wenlock in Shropshire.', 'Much Wenlock still hosts the Wenlock Olympian Games, which were an inspiration to Pierre de Coubertin for the Olympic Games.', 'As mandated by the Olympic Charter, various elements frame the opening ceremony of the Olympic Games.', 'This ceremony takes place on a Friday and is held prior to the commencement of the sporting events (apart from some group-stage football matches, softball games, and rowing heats).', 'Most of the rituals for the opening ceremony were established at the 1920 Summer Olympics in Antwerp.', \"The ceremony typically starts with the entrance of the president of the International Olympic Comittee and a representative of the host country followed by the hoisting of the host country's flag and a performance of its national anthem.\", 'The host nation then presents artistic displays of music, singing, dance, and theatre representative of its culture.', \"The artistic presentations have grown in scale and complexity as successive hosts attempt to provide a ceremony that outlasts its predecessor's in terms of memorability.\", 'The opening ceremony of the Beijing Games reportedly cost $100 million, with much of the cost incurred in the artistic segment.', 'After the artistic portion of the ceremony, the athletes parade into the stadium grouped by nation.', 'Greece is traditionally the first nation to enter and leads the parade in order to honour the origins of the Olympics.', \"Nations then enter the stadium alphabetically according to the host country's chosen language, with the host country's athletes being the last to enter.\", 'During the 2004 Summer Olympics, which was hosted in Athens, Greece, the Greek flag entered the stadium first, while the Greek delegation entered last.', 'Beginning with the 2020 Summer Olympics, the succeeding hosts of the respective Olympic Games (summer or winter) will enter immediately before the current host in descending order.', 'Speeches are given, formally opening the Games.', \"Finally, the Olympic torch is brought into the stadium and passed on until it reaches the final torch carrier, often a successful Olympic athlete from the host nation, who lights the Olympic flame in the stadium's cauldron.\", 'The closing ceremony of the Olympic Games takes place on a Sunday and after all sporting events have concluded.', 'Flag-bearers from each participating country enter the stadium, followed by the athletes who enter together, without any national distinction.', 'Three national flags are hoisted while the corresponding national anthems are played: the flag of the current host country; the flag of Greece, to honour the birthplace of the Olympic Games; and the flag of the country hosting the next Summer or Winter Olympic Games.', 'The president of the organising committee and the IOC president make their closing speeches, the Games are officially closed, and the Olympic flame is extinguished.', 'In what is known as the Antwerp Ceremony, the current mayor of the city that organised the Games transfers a special Olympic flag to the president of the IOC, who then passes it on to the current mayor of the city hosting the next Olympic Games.', 'The next host nation then also briefly introduces itself with artistic displays of dance and theatre representative of its culture.', 'As is customary, the last medal presentation of the Games is held as part of the closing ceremony.', 'Typically, the marathon medals are presented at the Summer Olympics, while the cross-country skiing mass start medals are awarded at the Winter Olympics.', 'A medal ceremony is held after the conclusion of each Olympic event.', 'The winner, and the second- and third-place competitors or teams, stand on top of a three-tiered rostrum to be awarded their respective medals by a member of the IOC.', \"After the medals have been received, the national flags of the three medallists are raised while the national anthem of the gold medallist's country is played.\", 'Volunteering citizens of the host country also act as hosts during the medal ceremonies, assisting the officials who present the medals and acting as flag-bearers.', 'In the Summer Olympics, each medal ceremony is held at the venue where the event has taken place, but the ceremonies at the Winter Olympics are usually held in a special \"plaza\".', 'The Olympic Games programme consists of 35 sports, 30 disciplines and 408 events.', 'For example, wrestling is a Summer Olympic sport, comprising two disciplines: Greco-Roman and Freestyle.', 'It is further broken down into fourteen events for men and four events for women, each representing a different weight class.', 'The Summer Olympics programme includes 26 sports, while the Winter Olympics programme features 15 sports.', 'Athletics, swimming, fencing, and artistic gymnastics are the only summer sports that have never been absent from the Olympic programme.', 'Cross-country skiing, figure skating, ice hockey, Nordic combined, ski jumping, and speed skating have been featured at every Winter Olympics programme since its inception in 1924.', 'Current Olympic sports, like badminton, basketball, and volleyball, first appeared on the programme as demonstration sports, and were later promoted to full Olympic sports.', 'Some sports that were featured in earlier Games were later dropped from the programme.', 'Olympic sports are governed by international sports federations (IFs) recognised by the IOC as the global supervisors of those sports.', 'There are 35 federations represented at the IOC.', 'There are sports recognised by the IOC that are not included in the Olympic programme.', 'These sports are not considered Olympic sports, but they can be promoted to this status during a programme revision that occurs in the first IOC session following a celebration of the Olympic Games.', 'During such revisions, sports can be excluded or included in the programme on the basis of a two-thirds majority vote of the members of the IOC.', 'There are recognised sports that have never been on an Olympic programme in any capacity, for example, squash.', 'In October and November 2004, the IOC established an Olympic Programme Commission, which was tasked with reviewing the sports on the Olympic programme and all non-Olympic recognised sports.', 'The goal was to apply a systematic approach to establishing the Olympic programme for each celebration of the Games.', 'The commission formulated seven criteria to judge whether a sport should be included on the Olympic programme.', \"These criteria are history and tradition of the sport, universality, popularity of the sport, image, athletes' health, development of the International Federation that governs the sport, and costs of holding the sport.\", 'From this study five recognised sports emerged as candidates for inclusion at the 2012 Summer Olympics: golf, karate, rugby sevens, roller sports and squash.', 'These sports were reviewed by the IOC Executive Board and then referred to the General Session in Singapore in July 2005.', 'Of the five sports recommended for inclusion only two were selected as finalists: karate and squash.', 'Neither sport attained the required two-thirds vote and consequently they were not promoted to the Olympic programme.', 'In October 2009 the IOC voted to instate golf and rugby sevens as Olympic sports for the 2016 and 2020 Summer Olympic Games.', 'The 114th IOC Session, in 2002, limited the Summer Games programme to a maximum of 28 sports, 301 events, and 10,500 athletes.', 'Three years later, at the 117th IOC Session, the first major programme revision was performed, which resulted in the exclusion of baseball and softball from the official programme of the 2012 London Games.', 'Since there was no agreement in the promotion of two other sports, the 2012 programme featured just 26 sports.', 'The 2016 and 2020 Games will return to the maximum of 28 sports given the addition of rugby and golf.', 'The ethos of the aristocracy as exemplified in the English public school greatly influenced Pierre de Coubertin.', 'The public schools subscribed to the belief that sport formed an important part of education, an attitude summed up in the saying mens sana in corpore sano, a sound mind in a sound body.', 'In this ethos, a gentleman was one who became an all-rounder, not the best at one specific thing.', 'There was also a prevailing concept of fairness, in which practising or training was considered tantamount to cheating.', 'Those who practised a sport professionally were considered to have an unfair advantage over those who practised it merely as a hobby.', 'The exclusion of professionals caused several controversies throughout the history of the modern Olympics.', 'The 1912 Olympic pentathlon and decathlon champion Jim Thorpe was stripped of his medals when it was discovered that he had played semi-professional baseball before the Olympics.', 'His medals were posthumously restored by the IOC in 1983 on compassionate grounds.', 'Swiss and Austrian skiers boycotted the 1936 Winter Olympics in support of their skiing teachers, who were not allowed to compete because they earned money with their sport and were thus considered professionals.', 'The advent of the state-sponsored \"full-time amateur athlete\" of the Eastern Bloc countries eroded the ideology of the pure amateur, as it put the self-financed amateurs of the Western countries at a disadvantage.', 'The Soviet Union entered teams of athletes who were all nominally students, soldiers, or working in a profession, but all of whom were in reality paid by the state to train on a full-time basis.', 'The situation greatly disadvantaged American and Western European athletes, and was a major factor in the decline of American medal hauls in the 1970s and 1980s.', 'As a result, the Olympics shifted away from amateurism, as envisioned by Pierre de Coubertin, to allowing participation of professional athletes, but only in the 1990s, after the collapse of the Soviet Union and its influence within the International Olympic Committee.', \"Near the end of the 1960s, the Canadian Amateur Hockey Association (CAHA) felt their amateur players could no longer be competitive against the Soviet team's full-time athletes and the other constantly improving European teams.\", 'They pushed for the ability to use players from professional leagues but met opposition from the IIHF and IOC.', 'At the IIHF Congress in 1969, the IIHF decided to allow Canada to use nine non-NHL professional hockey players at the 1970 World Championships in Montreal and Winnipeg, Manitoba, Canada.', \"The decision was reversed in January 1970 after Brundage said that ice hockey's status as an Olympic sport would be in jeopardy if the change was made.\", 'In response, Canada withdrew from international ice hockey competition and officials stated that they would not return until \"open competition\" was instituted.', 'Günther Sabetzki became president of the IIHF in 1975 and helped to resolve the dispute with the CAHA.', 'In 1976, the IIHF agreed to allow \"open competition\" between all players in the World Championships.', \"However, NHL players were still not allowed to play in the Olympics until 1988, because of the IOC's amateur-only policy.\", 'Greece, Australia, France, and United Kingdom are the only countries to be represented at every Olympic Games since their inception in 1896.', 'While countries sometimes miss an Olympics due to a lack of qualified athletes, some choose to boycott a celebration of the Games for various reasons.', 'The Olympic Council of Ireland boycotted the 1936 Berlin Games, because the IOC insisted its team needed to be restricted to the Irish Free State rather than representing the entire island of Ireland.', \"There were three boycotts of the 1956 Melbourne Olympics: the Netherlands, Spain, and Switzerland refused to attend because of the repression of the Hungarian uprising by the Soviet Union, but did send an equestrian delegation to Stockholm; Cambodia, Egypt, Iraq, and Lebanon boycotted the Games because of the Suez Crisis; and the People's Republic of China boycotted the Games due to the participation of the Republic of China, composed of athletes coming from Taiwan.\", 'In 1972 and 1976 a large number of African countries threatened the IOC with a boycott to force them to ban South Africa and Rhodesia, because of their segregationist rule.', 'New Zealand was also one of the African boycott targets, because its national rugby union team had toured apartheid-ruled South Africa.', 'The IOC conceded in the first two cases, but refused to ban New Zealand on the grounds that rugby was not an Olympic sport.', 'Fulfilling their threat, twenty African countries were joined by Guyana and Iraq in a withdrawal from the Montreal Games, after a few of their athletes had already competed.', 'The Republic of China (Taiwan) was excluded from the 1976 Games by order of Pierre Elliott Trudeau, the prime minister of Canada.', \"Trudeau's action was widely condemned as having brought shame on Canada for having succumbed to political pressure to keep the Chinese delegation from competing under its name.\", 'The ROC refused a proposed compromise that would have still allowed them to use the ROC flag and anthem as long as the name was changed.', 'Athletes from Taiwan did not participate again until 1984, when they returned under the name of Chinese Taipei and with a special flag and anthem.', \"In 1980 and 1984, the Cold War opponents boycotted each other's Games.\", 'The United States and sixty-five other countries boycotted the Moscow Olympics in 1980 because of the Soviet invasion of Afghanistan.', 'This boycott reduced the number of nations participating to 80, the lowest number since 1956.', 'The Soviet Union and 15 other nations countered by boycotting the Los Angeles Olympics of 1984.', 'Although a boycott led by the Soviet Union depleted the field in certain sports, 140 National Olympic Committees took part, which was a record at the time.', 'The fact that Romania, a Warsaw Pact country, opted to compete despite Soviet demands led to a warm reception of the Romanian team by the United States.', 'When the Romanian athletes entered during the opening ceremonies, they received a standing ovation from the spectators, which comprised mostly U.S. citizens.', 'The boycotting nations of the Eastern Bloc staged their own alternate event, the Friendship Games, in July and August.', \"There had been growing calls for boycotts of Chinese goods and the 2008 Olympics in Beijing in protest of China's human rights record, and in response to Tibetan disturbances.\", 'Ultimately, no nation supported a boycott.', \"In August 2008, the government of Georgia called for a boycott of the 2014 Winter Olympics, set to be held in Sochi, Russia, in response to Russia's participation in the 2008 South Ossetia war.\", 'The Olympic Games have been used as a platform to promote political ideologies almost from its inception.', 'Nazi Germany wished to portray the National Socialist Party as benevolent and peace-loving when they hosted the 1936 Games, though they used the Games to display Aryan superiority.', 'Germany was the most successful nation at the Games, which did much to support their allegations of Aryan supremacy, but notable victories by African American Jesse Owens, who won four gold medals, and Hungarian Jew Ibolya Csák, blunted the message.', 'The Soviet Union did not participate until the 1952 Summer Olympics in Helsinki.', 'Instead, starting in 1928, the Soviets organised an international sports event called Spartakiads.', 'During the interwar period of the 1920s and 1930s, communist and socialist organisations in several countries, including the United States, attempted to counter what they called the \"bourgeois\" Olympics with the Workers Olympics.', 'It was not until the 1956 Summer Games that the Soviets emerged as a sporting superpower and, in doing so, took full advantage of the publicity that came with winning at the Olympics.', \"Soviet Union's success might be attributed to a heavy state's investment in sports to fulfill its political agenda on an international stage.\", 'Individual athletes have also used the Olympic stage to promote their own political agenda.', 'At the 1968 Summer Olympics in Mexico City, two American track and field athletes, Tommie Smith and John Carlos, who finished first and third in the 200 metres, performed the Black Power salute on the victory stand.', 'The second-place finisher, Peter Norman of Australia, wore an Olympic Project for Human Rights badge in support of Smith and Carlos.', 'In response to the protest, IOC president Avery Brundage ordered Smith and Carlos suspended from the US team and banned from the Olympic Village.', 'When the US Olympic Committee refused, Brundage threatened to ban the entire US track team.', 'This threat led to the expulsion of the two athletes from the Games.', 'In another notable incident in the gymnastics competition, while standing on the medal podium after the balance beam event final, in which Natalia Kuchinskaya of the Soviet Union had controversially taken the gold, Czechoslovakian gymnast Věra Čáslavská quietly turned her head down and away during the playing of the Soviet national anthem.', \"The action was Čáslavská's silent protest against the recent Soviet invasion of Czechoslovakia.\", 'Her protest was repeated when she accepted her medal for her floor exercise routine when the judges changed the preliminary scores of the Soviet Larisa Petrik to allow her to tie with Čáslavská for the gold.', 'While Čáslavská\\'s countrymen supported her actions and her outspoken opposition to Communism (she had publicly signed and supported Ludvik Vaculik\\'s \"Two Thousand Words\" manifesto), the new regime responded by banning her from both sporting events and international travel for many years and made her an outcast from society until the fall of communism.', 'Currently, the government of Iran has taken steps to avoid any competition between its athletes and those from Israel.', 'An Iranian judoka, Arash Miresmaeili, did not compete in a match against an Israeli during the 2004 Summer Olympics.', 'Although he was officially disqualified for being overweight, Miresmaeli was awarded US$125,000 in prize money by the Iranian government, an amount paid to all Iranian gold medal winners.', 'He was officially cleared of intentionally avoiding the bout, but his receipt of the prize money raised suspicion.', 'In the early 20th century, many Olympic athletes began using drugs to improve their athletic abilities.', 'For example, in 1904, Thomas Hicks, a gold medallist in the marathon, was given strychnine by his coach (at the time, taking different substances was allowed, as there was no data regarding the effect of these substances on a body of an athlete).', 'The only Olympic death linked to performance enhancing occurred at the 1960 Rome games.', 'A Danish cyclist, Knud Enemark Jensen, fell from his bicycle and later died.', \"A coroner's inquiry found that he was under the influence of amphetamines.\", 'By the mid-1960s, sports federations started to ban the use of performance-enhancing drugs; in 1967 the IOC followed suit.', 'According to British journalist Andrew Jennings, a KGB colonel stated that the agency\\'s officers had posed as anti-doping authorities from the International Olympic Committee to undermine doping tests and that Soviet athletes were \"rescued with [these] tremendous efforts\".', 'On the topic of the 1980 Summer Olympics, a 1989 Australian study said \"There is hardly a medal winner at the Moscow Games, certainly not a gold medal winner, who is not on one sort of drug or another: usually several kinds.', 'The Moscow Games might as well have been called the Chemists\\' Games.\"', \"Documents obtained in 2016 revealed the Soviet Union's plans for a statewide doping system in track and field in preparation for the 1984 Summer Olympics in Los Angeles.\", \"Dated prior to the country's decision to boycott the Games, the document detailed the existing steroids operations of the program, along with suggestions for further enhancements.\", \"The communication, directed to the Soviet Union's head of track and field, was prepared by Dr. Sergei Portugalov of the Institute for Physical Culture.\", 'Portugalov was also one of the main figures involved in the implementation of the Russian doping programme prior to the 2016 Summer Olympics.', 'The first Olympic athlete to test positive for the use of performance-enhancing drugs was Hans-Gunnar Liljenwall, a Swedish pentathlete at the 1968 Summer Olympics, who lost his bronze medal for alcohol use.', 'One of the most publicised doping-related disqualifications occurred after the 1988 Summer Olympics where Canadian sprinter Ben Johnson (who won the 100-metre dash) tested positive for stanozolol.', 'In 1999, the IOC formed the World Anti-Doping Agency (WADA) in an effort to systematise the research and detection of performance-enhancing drugs.', 'There was a sharp increase in positive drug tests at the 2000 Summer Olympics and 2002 Winter Olympics due to improved testing conditions.', 'Several medallists in weightlifting and cross-country skiing from post-Soviet states were disqualified because of doping offences.', 'The IOC-established drug testing regimen (now known as the Olympic Standard) has set the worldwide benchmark that other sporting federations attempt to emulate.', 'During the Beijing games, 3,667 athletes were tested by the IOC under the auspices of the World Anti-Doping Agency.', 'Both urine and blood tests were used to detect banned substances.', 'In London over 6,000 Olympic and Paralympic athletes were tested.', 'Prior to the Games 107 athletes tested positive for banned substances and were not allowed to compete.', 'Doping in Russian sports has a systemic nature.', 'Russia has had 44 Olympic medals stripped for doping violations – the most of any country, more than three times the number of the runner-up, and more than a quarter of the global total.', 'From 2011 to 2015, more than a thousand Russian competitors in various sports, including summer, winter, and Paralympic sports, benefited from a cover-up.', 'Russia was partially banned from the 2016 Summer Olympics and was banned from the 2018 Winter Olympics (while being allowed to participate as the Olympic Athletes from Russia) due to the state-sponsored doping programme.', 'In December 2019, Russia was banned for four years from all major sporting events for systematic doping and lying to WADA.', 'The ban was issued by WADA on 9 December 2019, and the Russian anti-doping agency RUSADA had 21 days to make an appeal to the Court of Arbitration for Sport (CAS).', 'The ban meant that Russian athletes would only be allowed to compete under the Olympic flag after passing anti-doping tests.', 'Russia appealed the decision to the CAS.', \"The CAS, on review of Russia's appeal of its case from WADA, ruled on December 17, 2020 to reduce the penalty that WADA had placed.\", 'Instead of banning Russia from sporting events, the ruling allowed Russia to participate at the Olympics and other international events, but for a period of two years, the team cannot use the Russian name, flag, or anthem and must present themselves as \"Neutral Athlete\" or \"Neutral Team\".', 'The ruling does allow for team uniforms to display \"Russia\" on the uniform as well as the use of the Russian flag colors within the uniform\\'s design, although the name should be up to equal predominance as the \"Neutral Athlete/Team\" designation.', 'Women were first allowed to compete at the 1900 Summer Olympics in Paris, but at the 1992 Summer Olympics 35 countries were still only fielding all-male delegations.', 'This number dropped rapidly over the following years.', 'In 2000, Bahrain sent two women competitors for the first time: Fatema Hameed Gerashi and Mariam Mohamed Hadi Al Hilli.', 'In 2004, Robina Muqimyar and Fariba Rezayee became the first women to compete for Afghanistan at the Olympics.', 'In 2008, the United Arab Emirates sent female athletes (Maitha Al Maktoum competed in taekwondo, and Latifa Al Maktoum in equestrian) to the Olympic Games for the first time.', \"Both athletes were from Dubai's ruling family.\", 'By 2010, only three countries had never sent female athletes to the Games: Brunei, Saudi Arabia, and Qatar.', 'Brunei had taken part in only three celebrations of the Games, sending a single athlete on each occasion, but Saudi Arabia and Qatar had been competing regularly with all-male teams.', 'In 2010, the International Olympic Committee announced it would \"press\" these countries to enable and facilitate the participation of women for the 2012 Summer Olympics in London.', \"Anita DeFrantz, chair of the IOC's Women and Sports Commission, suggested that countries be barred if they prevented women from competing.\", 'Shortly thereafter, the Qatar Olympic Committee announced that it \"hoped to send up to four female athletes in shooting and fencing\" to the 2012 Summer Games.', 'In 2008, Ali Al-Ahmed, director of the Institute for Gulf Affairs, likewise called for Saudi Arabia to be barred from the Games, describing its ban on women athletes as a violation of the International Olympic Committee charter.', 'He noted: \"For the last 15 years, many international nongovernmental organisations worldwide have been trying to lobby the IOC for better enforcement of its own laws banning gender discrimination.', '...', 'While their efforts did result in increasing numbers of women Olympians, the IOC has been reluctant to take a strong position and threaten the discriminating countries with suspension or expulsion.\"', 'In July 2010, The Independent reported: \"Pressure is growing on the International Olympic Committee to kick out Saudi Arabia, who are likely to be the only major nation not to include women in their Olympic team for 2012.', '... Should Saudi Arabia ... send a male-only team to London, we understand they will face protests from equal rights and women\\'s groups which threaten to disrupt the Games\".', 'At the 2012 Summer Olympics, every participating nation included female athletes for the first time in Olympic history.', 'Saudi Arabia included two female athletes in its delegation; Qatar, four; and Brunei, one (Maziah Mahusin, in the 400 m hurdles).', 'Qatar made one of its first female Olympians, Bahiya al-Hamad (shooting), its flagbearer at the 2012 Games, and runner Maryam Yusuf Jamal of Bahrain became the first Gulf female athlete to win a medal when she won a bronze for her showing in the 1500 m race.', 'The only sport on the Olympic programme that features men and women competing together is the equestrian disciplines.', 'There is no \"Women\\'s Eventing\", or \"Men\\'s Dressage\".', 'As of 2008, there were still more medal events for men than women.', \"With the addition of women's boxing to the programme in the 2012 Summer Olympics, however, female athletes were able to compete in all the same sports as men.\", 'In the winter Olympics, women are still unable to compete in the Nordic combined.', 'There are currently two Olympic events in which male athletes may not compete: synchronised swimming and rhythmic gymnastics.', 'The world wars caused three Olympiads to pass without a celebration of the Games: the 1916 Games were cancelled because of World War I, and the summer and winter games of 1940 and 1944 were cancelled because of World War II.', 'The Russo-Georgian War between Georgia and Russia erupted on the opening day of the 2008 Summer Olympics in Beijing.', 'Both President Bush and Prime Minister Putin were attending the Olympics at that time and spoke together about the conflict at a luncheon hosted by the Chinese president Hu Jintao.', 'Terrorism most directly affected the Olympic Games in 1972.', 'When the Summer Games were held in Munich, Germany, eleven members of the Israeli Olympic team were taken hostage by the Palestinian terrorist group Black September in what is now known as the Munich massacre.', 'The terrorists killed two of the athletes soon after taking them hostage and killed the other nine during a failed liberation attempt.', 'A German police officer and five of the terrorists also died.', 'Following the selection of Barcelona, Spain, to host the 1992 Summer Olympics, the separatist ETA terrorist organisation launched attacks in the region, including the 1991 bombing in the Catalonian city of Vic that killed ten people.', 'Terrorism affected two Olympic Games held in the United States.', 'During the 1996 Summer Olympics in Atlanta, a bomb was detonated at the Centennial Olympic Park, killing two people and injuring 111 others.', 'The bomb was set by Eric Rudolph, an American domestic terrorist, who is serving a life sentence for the bombing.', 'The 2002 Winter Olympics in Salt Lake City took place just five months after the September 11 attacks, which meant a higher level of security than ever before provided for an Olympic Games.', 'The opening ceremonies of the Games featured symbols relating to 9/11, including the flag that flew at Ground Zero and honour guards of NYPD and FDNY members.', 'The Olympic Charter requires that an athlete be a national of the country for which they compete.', 'Dual nationals may compete for either country, as long as three years have passed since the competitor competed for the former country.', 'However, if the NOCs and IF involved agree, then the IOC Executive Board may reduce or cancel this period.', 'This waiting period exists only for athletes who previously competed for one nation and want to compete for another.', 'If an athlete gains a new or second nationality, then they do not need to wait any designated amount of time before participating for the new or second nation.', 'The IOC is only concerned with issues of citizenship and nationality after individual nations have granted citizenship to athletes.', 'Occasionally, an athlete will become a citizen of a different country to enable them to compete in the Olympics.', 'This is often because they are attracted to sponsorship deals or training facilities in the other country, or the athlete might be unable to qualify from within their country of birth.', 'In preparation for the 2014 Winter Olympics in Sochi, the Russian Olympic Committee naturalised a Korean-born short-track speed-skater, Ahn Hyun-soo, and an American-born snowboarder, Vic Wild.', 'The two athletes won five gold medals and one bronze medal between them at the 2014 Games.', 'One of the most famous cases of changing nationality for the Olympics was Zola Budd, a South African runner who emigrated to the United Kingdom because there was an apartheid-era ban on the Olympics in South Africa.', 'Budd was eligible for British citizenship because her grandfather was born in Britain, but British citizens accused the government of expediting the citizenship process for her.', 'Other notable examples include Kenyan runner Bernard Lagat, who became a United States citizen in May 2004.', 'The Kenyan constitution required that one renounce their Kenyan citizenship when they became a citizen of another nation.', 'Lagat competed for Kenya in the 2004 Athens Olympics even though he had already become a United States citizen.', 'According to Kenya, he was no longer a Kenyan citizen, jeopardising his silver medal.', 'Lagat said he started the citizenship process in late 2003 and did not expect to become an American citizen until after the Athens games.', 'He was allowed to keep his medal by the IOC.', 'Medals are awarded to the athletes or teams who place first, second, and third in each event.', 'The winners receive gold medals, which were solid gold until 1912, later made of gilded silver, and now gold-plated silver.', 'Every gold medal must contain at least six grams of pure gold.', 'The runners-up are awarded silver medals and the third-place athletes receive bronze medals.', 'In events contested by a single-elimination tournament (most notably boxing), third place might not be determined and the losers of both semi-finals each receive a bronze medal.', 'At the 1896 Olympics, only the winner and runner-up of each event received medals—silver for first and bronze for second, with no gold medals awarded.', 'The current three-medal format was introduced at the 1904 Olympics.', 'From 1948 onward, athletes placing fourth, fifth, and sixth have received certificates, which came to be known officially as Olympic diplomas; from 1984, these have also been awarded to the seventh- and eighth-place finishers.', 'At the 2004 Summer Olympics in Athens, the gold, silver, and bronze medal winners were also presented with olive wreaths.', \"The IOC does not keep statistics of medals won on a national level (except for team sports), but the NOCs and the media record medal statistics and use them as a measure of each nation's success.\", 'As of the 2016 Games in Rio de Janeiro, all of the current 206 NOCs and 19 obsolete NOCs have participated in at least one edition of the Summer Olympics.', 'Competitors from five nations—Australia, France,[b] Great Britain,[c] Greece, and Switzerland[d]—have competed in all 28 Summer Olympics.', 'Athletes competing under the Olympic flag, Mixed Teams and the Refugee Team have competed at six Summer Games.', 'A total of 119 NOCs (110 of the current 206 NOCs and nine obsolete NOCs) have participated in at least one edition of the Winter Olympics.', 'Competitors from 14 nations—Austria, Canada, Czech Republic,[e] Finland, France, Great Britain, Hungary, Italy, Norway, Poland, Slovakia,[e] Sweden, Switzerland, and the United States—have participated in all 23 Winter Games to date.', 'The host city for an Olympic Games had historically been chosen seven to eight years ahead of their celebration.', 'Beginning with the 2024 and 2028 Olympics selection process in 2017, the IOC has proceeded to announce the winning bid with a longer lead-in time in order to provide time for the winning cities/regions to prepare.', 'The process of selection is carried out in two phases that span a two-year period.', \"The prospective host city applies to its country's National Olympic Committee; if more than one city from the same country submits a proposal to its NOC, the national committee typically holds an internal selection, since only one city per NOC can be presented to the International Olympic Committee for consideration.\", 'Once the deadline for submission of proposals by the NOCs is reached, the first phase (Application) begins with the applicant cities asked to complete a questionnaire regarding several key criteria related to the organisation of the Olympic Games.', 'In this form, the applicants must give assurances that they will comply with the Olympic Charter and with any other regulations established by the IOC Executive Committee.', \"The evaluation of the filled questionnaires by a specialised group provides the IOC with an overview of each applicant's project and their potential to host the Games.\", 'On the basis of this technical evaluation, the IOC Executive Board selects the applicants that will proceed to the candidature stage.', 'Once the candidate cities are selected, they must submit to the IOC a bigger and more detailed presentation of their project as part of a candidature file.', 'Each city is thoroughly analysed by an evaluation commission.', \"This commission will also visit the candidate cities, interviewing local officials and inspecting prospective venue sites, and submit a report on its findings one month prior to the IOC's final decision.\", 'During the interview process the candidate city must also guarantee that it will be able to fund the Games.', 'After the work of the evaluation commission, a list of candidates is presented to the General Session of the IOC, which must assemble in a country that does not have a candidate city in the running.', 'The IOC members gathered in the Session have the final vote on the host city.', 'Once elected, the host city bid committee (together with the NOC of the respective country) signs a Host City Contract with the IOC, officially becoming an Olympic host nation and host city.', 'By 2032, the Olympic Games will have been hosted by 47 cities in 23 countries.', 'As of 2021, since the 1988 Summer Olympics in Seoul, South Korea, the Olympics have been held in Asia or Oceania four times, a sharp increase compared to the previous 92 years of modern Olympic history.', 'The 2016 Games in Rio de Janeiro were the first Olympics for a South American country.', 'No bids from countries in Africa have succeeded.', 'The United States hosted four Summer Games, more than any other nation.', 'The British capital London holds the distinction of hosting three Olympic Games, all Summer, more than any other city.', 'Paris, which previously hosted in 1900 and 1924, is due to host the Summer Games for a third time in 2024, and Los Angeles, which previously hosted in 1932 and 1984, is due to host the Summer Games for a third time in 2028.', 'The other nations hosting the Summer Games at least twice are Germany, Australia, France and Greece.', 'The other cities hosting the Summer Games at least twice are Los Angeles, Paris and Athens.', 'The 2020 Summer Olympics is due to be held in Tokyo, which will be the first Asian city to host the Olympics for the second time.', 'The United States hosted four Winter Games, more than any other nation.', 'The other nations hosting multiple Winter Games are France with three, while Switzerland, Austria, Norway, Japan, Canada and Italy have hosted twice.', 'Among host cities, Lake Placid, Innsbruck and St. Moritz have played host to the Winter Olympic Games more than once, each holding that honour twice.', \"The most recent Winter Games were held in Pyeongchang in 2018, South Korea's first Winter Olympics and second Olympics overall (after the 1988 Summer Olympics in Seoul).\", 'Beijing is due to host the 2022 Winter Olympics, which will make it the first city to host both the Summer and Winter Games.']\n"
          ],
          "name": "stdout"
        }
      ]
    },
    {
      "cell_type": "code",
      "metadata": {
        "id": "7qgNxVvFxBVQ",
        "colab": {
          "base_uri": "https://localhost:8080/"
        },
        "outputId": "485a5c0f-0f56-4fa4-c3a5-d15ea436f43b"
      },
      "source": [
        "words_tokens = nltk.word_tokenize(total_cleaned_content)\n",
        "\n",
        "stopwords = nltk.corpus.stopwords.words('english')\n",
        "\n",
        "word_frequencies = {}\n",
        "\n",
        "for word in words_tokens:\n",
        "\n",
        "  if word not in stopwords:\n",
        "\n",
        "    if word not in word_frequencies.keys():\n",
        "\n",
        "      word_frequencies[word] = 1\n",
        "    else:\n",
        "\n",
        "      word_frequencies[word] += 1\n",
        "\n",
        "\n",
        "print(words_tokens)\n"
      ],
      "execution_count": 4,
      "outputs": [
        {
          "output_type": "stream",
          "text": [
            "['The', 'modern', 'Olympic', 'Games', 'or', 'Olympics', 'French', 'Jeux', 'olympiques', 'are', 'leading', 'international', 'sporting', 'events', 'featuring', 'summer', 'and', 'winter', 'sports', 'competitions', 'in', 'which', 'thousands', 'of', 'athletes', 'from', 'around', 'the', 'world', 'participate', 'in', 'a', 'variety', 'of', 'competitions', 'The', 'Olympic', 'Games', 'are', 'considered', 'the', 'world', 's', 'foremost', 'sports', 'competition', 'with', 'more', 'than', 'nations', 'participating', 'The', 'Olympic', 'Games', 'are', 'normally', 'held', 'every', 'four', 'years', 'alternating', 'between', 'the', 'Summer', 'and', 'Winter', 'Olympics', 'every', 'two', 'years', 'in', 'the', 'four', 'year', 'period', 'Their', 'creation', 'was', 'inspired', 'by', 'the', 'ancient', 'Olympic', 'Games', 'Ancient', 'Greek', 'held', 'in', 'Olympia', 'Greece', 'from', 'the', 'th', 'century', 'BC', 'to', 'the', 'th', 'century', 'AD', 'Baron', 'Pierre', 'de', 'Coubertin', 'founded', 'the', 'International', 'Olympic', 'Committee', 'IOC', 'in', 'leading', 'to', 'the', 'first', 'modern', 'Games', 'in', 'Athens', 'in', 'The', 'IOC', 'is', 'the', 'governing', 'body', 'of', 'the', 'Olympic', 'Movement', 'definition', 'needed', 'with', 'the', 'Olympic', 'Charter', 'defining', 'its', 'structure', 'and', 'authority', 'The', 'evolution', 'of', 'the', 'Olympic', 'Movement', 'during', 'the', 'th', 'and', 'st', 'centuries', 'has', 'resulted', 'in', 'several', 'changes', 'to', 'the', 'Olympic', 'Games', 'Some', 'of', 'these', 'adjustments', 'include', 'the', 'creation', 'of', 'the', 'Winter', 'Olympic', 'Games', 'for', 'snow', 'and', 'ice', 'sports', 'the', 'Paralympic', 'Games', 'for', 'athletes', 'with', 'disabilities', 'the', 'Youth', 'Olympic', 'Games', 'for', 'athletes', 'aged', 'to', 'the', 'five', 'Continental', 'games', 'Pan', 'American', 'African', 'Asian', 'European', 'and', 'Pacific', 'and', 'the', 'World', 'Games', 'for', 'sports', 'that', 'are', 'not', 'contested', 'in', 'the', 'Olympic', 'Games', 'The', 'IOC', 'also', 'endorses', 'the', 'Deaflympics', 'and', 'the', 'Special', 'Olympics', 'The', 'IOC', 'has', 'needed', 'to', 'adapt', 'to', 'a', 'variety', 'of', 'economic', 'political', 'and', 'technological', 'advancements', 'The', 'abuse', 'of', 'amateur', 'rules', 'by', 'the', 'Eastern', 'Bloc', 'nations', 'prompted', 'the', 'IOC', 'to', 'shift', 'away', 'from', 'pure', 'amateurism', 'as', 'envisioned', 'by', 'Coubertin', 'to', 'the', 'acceptance', 'of', 'professional', 'athletes', 'participating', 'at', 'the', 'Games', 'The', 'growing', 'importance', 'of', 'mass', 'media', 'has', 'created', 'the', 'issue', 'of', 'corporate', 'sponsorship', 'and', 'general', 'commercialisation', 'of', 'the', 'Games', 'World', 'wars', 'led', 'to', 'the', 'cancellation', 'of', 'the', 'and', 'Olympics', 'large', 'scale', 'boycotts', 'during', 'the', 'Cold', 'War', 'limited', 'participation', 'in', 'the', 'and', 'Olympics', 'and', 'the', 'Olympics', 'were', 'postponed', 'until', 'as', 'a', 'result', 'of', 'the', 'COVID', 'pandemic', 'The', 'Olympic', 'Movement', 'consists', 'of', 'international', 'sports', 'federations', 'IFs', 'National', 'Olympic', 'Committees', 'NOCs', 'and', 'organising', 'committees', 'for', 'each', 'specific', 'Olympic', 'Games', 'As', 'the', 'decision', 'making', 'body', 'the', 'IOC', 'is', 'responsible', 'for', 'choosing', 'the', 'host', 'city', 'for', 'each', 'Games', 'and', 'organises', 'and', 'funds', 'the', 'Games', 'according', 'to', 'the', 'Olympic', 'Charter', 'The', 'IOC', 'also', 'determines', 'the', 'Olympic', 'programme', 'consisting', 'of', 'the', 'sports', 'to', 'be', 'contested', 'at', 'the', 'Games', 'There', 'are', 'several', 'Olympic', 'rituals', 'and', 'symbols', 'such', 'as', 'the', 'Olympic', 'flag', 'and', 'torch', 'as', 'well', 'as', 'the', 'opening', 'and', 'closing', 'ceremonies', 'Over', 'athletes', 'competed', 'at', 'the', 'Summer', 'Olympics', 'and', 'Winter', 'Olympics', 'combined', 'in', 'different', 'sports', 'and', 'over', 'events', 'The', 'first', 'second', 'and', 'third', 'place', 'finishers', 'in', 'each', 'event', 'receive', 'Olympic', 'medals', 'gold', 'silver', 'and', 'bronze', 'respectively', 'The', 'Games', 'have', 'grown', 'so', 'much', 'that', 'nearly', 'every', 'nation', 'is', 'now', 'represented', 'This', 'growth', 'has', 'created', 'numerous', 'challenges', 'and', 'controversies', 'including', 'boycotts', 'doping', 'bribery', 'and', 'a', 'terrorist', 'attack', 'in', 'Every', 'two', 'years', 'the', 'Olympics', 'and', 'its', 'media', 'exposure', 'provide', 'athletes', 'with', 'the', 'chance', 'to', 'attain', 'national', 'and', 'sometimes', 'international', 'fame', 'The', 'Games', 'also', 'provide', 'an', 'opportunity', 'for', 'the', 'host', 'city', 'and', 'country', 'to', 'showcase', 'themselves', 'to', 'the', 'world', 'The', 'Ancient', 'Olympic', 'Games', 'were', 'religious', 'and', 'athletic', 'festivals', 'held', 'every', 'four', 'years', 'at', 'the', 'sanctuary', 'of', 'Zeus', 'in', 'Olympia', 'Greece', 'Competition', 'was', 'among', 'representatives', 'of', 'several', 'city', 'states', 'and', 'kingdoms', 'of', 'Ancient', 'Greece', 'These', 'Games', 'featured', 'mainly', 'athletic', 'but', 'also', 'combat', 'sports', 'such', 'as', 'wrestling', 'and', 'the', 'pankration', 'horse', 'and', 'chariot', 'racing', 'events', 'It', 'has', 'been', 'widely', 'written', 'that', 'during', 'the', 'Games', 'all', 'conflicts', 'among', 'the', 'participating', 'city', 'states', 'were', 'postponed', 'until', 'the', 'Games', 'were', 'finished', 'This', 'cessation', 'of', 'hostilities', 'was', 'known', 'as', 'the', 'Olympic', 'peace', 'or', 'truce', 'This', 'idea', 'is', 'a', 'modern', 'myth', 'because', 'the', 'Greeks', 'never', 'suspended', 'their', 'wars', 'The', 'truce', 'did', 'allow', 'those', 'religious', 'pilgrims', 'who', 'were', 'travelling', 'to', 'Olympia', 'to', 'pass', 'through', 'warring', 'territories', 'unmolested', 'because', 'they', 'were', 'protected', 'by', 'Zeus', 'The', 'origin', 'of', 'the', 'Olympics', 'is', 'shrouded', 'in', 'mystery', 'and', 'legend', 'one', 'of', 'the', 'most', 'popular', 'myths', 'identifies', 'Heracles', 'and', 'his', 'father', 'Zeus', 'as', 'the', 'progenitors', 'of', 'the', 'Games', 'According', 'to', 'legend', 'it', 'was', 'Heracles', 'who', 'first', 'called', 'the', 'Games', 'Olympic', 'and', 'established', 'the', 'custom', 'of', 'holding', 'them', 'every', 'four', 'years', 'The', 'myth', 'continues', 'that', 'after', 'Heracles', 'completed', 'his', 'twelve', 'labours', 'he', 'built', 'the', 'Olympic', 'Stadium', 'as', 'an', 'honour', 'to', 'Zeus', 'Following', 'its', 'completion', 'he', 'walked', 'in', 'a', 'straight', 'line', 'for', 'steps', 'and', 'called', 'this', 'distance', 'a', 'stadion', 'Greek', 'Latin', 'stadium', 'stage', 'which', 'later', 'became', 'a', 'unit', 'of', 'distance', 'The', 'most', 'widely', 'accepted', 'inception', 'date', 'for', 'the', 'Ancient', 'Olympics', 'is', 'BC', 'this', 'is', 'based', 'on', 'inscriptions', 'found', 'at', 'Olympia', 'listing', 'the', 'winners', 'of', 'a', 'footrace', 'held', 'every', 'four', 'years', 'starting', 'in', 'BC', 'The', 'Ancient', 'Games', 'featured', 'running', 'events', 'a', 'pentathlon', 'consisting', 'of', 'a', 'jumping', 'event', 'discus', 'and', 'javelin', 'throws', 'a', 'foot', 'race', 'and', 'wrestling', 'boxing', 'wrestling', 'pankration', 'and', 'equestrian', 'events', 'Tradition', 'has', 'it', 'that', 'Coroebus', 'a', 'cook', 'from', 'the', 'city', 'of', 'Elis', 'was', 'the', 'first', 'Olympic', 'champion', 'The', 'Olympics', 'were', 'of', 'fundamental', 'religious', 'importance', 'featuring', 'sporting', 'events', 'alongside', 'ritual', 'sacrifices', 'honouring', 'both', 'Zeus', 'whose', 'famous', 'statue', 'by', 'Phidias', 'stood', 'in', 'his', 'temple', 'at', 'Olympia', 'and', 'Pelops', 'divine', 'hero', 'and', 'mythical', 'king', 'of', 'Olympia', 'Pelops', 'was', 'famous', 'for', 'his', 'chariot', 'race', 'with', 'King', 'Oenomaus', 'of', 'Pisatis', 'The', 'winners', 'of', 'the', 'events', 'were', 'admired', 'and', 'immortalised', 'in', 'poems', 'and', 'statues', 'The', 'Games', 'were', 'held', 'every', 'four', 'years', 'and', 'this', 'period', 'known', 'as', 'an', 'Olympiad', 'was', 'used', 'by', 'Greeks', 'as', 'one', 'of', 'their', 'units', 'of', 'time', 'measurement', 'The', 'Games', 'were', 'part', 'of', 'a', 'cycle', 'known', 'as', 'the', 'Panhellenic', 'Games', 'which', 'included', 'the', 'Pythian', 'Games', 'the', 'Nemean', 'Games', 'and', 'the', 'Isthmian', 'Games', 'The', 'Olympic', 'Games', 'reached', 'the', 'height', 'of', 'their', 'success', 'in', 'the', 'th', 'and', 'th', 'centuries', 'BC', 'but', 'then', 'gradually', 'declined', 'in', 'importance', 'as', 'the', 'Romans', 'gained', 'power', 'and', 'influence', 'in', 'Greece', 'While', 'there', 'is', 'no', 'scholarly', 'consensus', 'as', 'to', 'when', 'the', 'Games', 'officially', 'ended', 'the', 'most', 'commonly', 'held', 'date', 'is', 'AD', 'when', 'the', 'emperor', 'Theodosius', 'I', 'decreed', 'that', 'all', 'pagan', 'cults', 'and', 'practices', 'be', 'eliminated', 'Another', 'date', 'commonly', 'cited', 'is', 'AD', 'when', 'his', 'successor', 'Theodosius', 'II', 'ordered', 'the', 'destruction', 'of', 'all', 'Greek', 'temples', 'Various', 'uses', 'of', 'the', 'term', 'Olympic', 'to', 'describe', 'athletic', 'events', 'in', 'the', 'modern', 'era', 'have', 'been', 'documented', 'since', 'the', 'th', 'century', 'The', 'first', 'such', 'event', 'was', 'the', 'Cotswold', 'Games', 'or', 'Cotswold', 'Olimpick', 'Games', 'an', 'annual', 'meeting', 'near', 'Chipping', 'Campden', 'England', 'involving', 'various', 'sports', 'It', 'was', 'first', 'organised', 'by', 'the', 'lawyer', 'Robert', 'Dover', 'between', 'and', 'with', 'several', 'later', 'celebrations', 'leading', 'up', 'to', 'the', 'present', 'day', 'The', 'British', 'Olympic', 'Association', 'in', 'its', 'bid', 'for', 'the', 'Olympic', 'Games', 'in', 'London', 'mentioned', 'these', 'games', 'as', 'the', 'first', 'stirrings', 'of', 'Britain', 's', 'Olympic', 'beginnings', 'L', 'Olympiade', 'de', 'la', 'R', 'publique', 'a', 'national', 'Olympic', 'festival', 'held', 'annually', 'from', 'to', 'in', 'Revolutionary', 'France', 'also', 'attempted', 'to', 'emulate', 'the', 'ancient', 'Olympic', 'Games', 'The', 'competition', 'included', 'several', 'disciplines', 'from', 'the', 'ancient', 'Greek', 'Olympics', 'The', 'Games', 'also', 'marked', 'the', 'introduction', 'of', 'the', 'metric', 'system', 'into', 'sport', 'In', 'and', 'Olympic', 'games', 'were', 'held', 'in', 'Raml', 'sa', 'sv', 'Olympiska', 'spelen', 'i', 'Raml', 'sa', 'and', 'an', 'additional', 'in', 'Stockholm', 'Sweden', 'in', 'all', 'organised', 'by', 'Gustaf', 'Johan', 'Schartau', 'and', 'others', 'At', 'most', 'spectators', 'saw', 'the', 'games', 'In', 'an', 'Olympian', 'Class', 'was', 'started', 'by', 'William', 'Penny', 'Brookes', 'at', 'Much', 'Wenlock', 'in', 'Shropshire', 'England', 'In', 'Brookes', 'changed', 'the', 'name', 'to', 'the', 'Wenlock', 'Olympian', 'Games', 'This', 'annual', 'sports', 'festival', 'continues', 'to', 'this', 'day', 'The', 'Wenlock', 'Olympian', 'Society', 'was', 'founded', 'by', 'Brookes', 'on', 'November', 'Between', 'and', 'Liverpool', 'held', 'an', 'annual', 'Grand', 'Olympic', 'Festival', 'Devised', 'by', 'John', 'Hulley', 'and', 'Charles', 'Melly', 'these', 'games', 'were', 'the', 'first', 'to', 'be', 'wholly', 'amateur', 'in', 'nature', 'and', 'international', 'in', 'outlook', 'although', 'only', 'gentlemen', 'amateurs', 'could', 'compete', 'The', 'programme', 'of', 'the', 'first', 'modern', 'Olympiad', 'in', 'Athens', 'in', 'was', 'almost', 'identical', 'to', 'that', 'of', 'the', 'Liverpool', 'Olympics', 'In', 'Hulley', 'Brookes', 'and', 'E', 'G', 'Ravenstein', 'founded', 'the', 'National', 'Olympian', 'Association', 'in', 'Liverpool', 'a', 'forerunner', 'of', 'the', 'British', 'Olympic', 'Association', 'Its', 'articles', 'of', 'foundation', 'provided', 'the', 'framework', 'for', 'the', 'International', 'Olympic', 'Charter', 'In', 'a', 'national', 'Olympic', 'Games', 'in', 'Great', 'Britain', 'was', 'organised', 'at', 'London', 's', 'Crystal', 'Palace', 'Greek', 'interest', 'in', 'reviving', 'the', 'Olympic', 'Games', 'began', 'with', 'the', 'Greek', 'War', 'of', 'Independence', 'from', 'the', 'Ottoman', 'Empire', 'in', 'It', 'was', 'first', 'proposed', 'by', 'poet', 'and', 'newspaper', 'editor', 'Panagiotis', 'Soutsos', 'in', 'his', 'poem', 'Dialogue', 'of', 'the', 'Dead', 'published', 'in', 'Evangelos', 'Zappas', 'a', 'wealthy', 'Greek', 'Romanian', 'philanthropist', 'first', 'wrote', 'to', 'King', 'Otto', 'of', 'Greece', 'in', 'offering', 'to', 'fund', 'a', 'permanent', 'revival', 'of', 'the', 'Olympic', 'Games', 'Zappas', 'sponsored', 'the', 'first', 'Olympic', 'Games', 'in', 'which', 'was', 'held', 'in', 'an', 'Athens', 'city', 'square', 'Athletes', 'participated', 'from', 'Greece', 'and', 'the', 'Ottoman', 'Empire', 'Zappas', 'funded', 'the', 'restoration', 'of', 'the', 'ancient', 'Panathenaic', 'Stadium', 'so', 'that', 'it', 'could', 'host', 'all', 'future', 'Olympic', 'Games', 'The', 'stadium', 'hosted', 'Olympics', 'in', 'and', 'Thirty', 'thousand', 'spectators', 'attended', 'that', 'Games', 'in', 'though', 'no', 'official', 'attendance', 'records', 'are', 'available', 'for', 'the', 'Games', 'In', 'after', 'attending', 'the', 'Olympian', 'Games', 'of', 'the', 'Wenlock', 'Olympian', 'Society', 'Baron', 'Pierre', 'de', 'Coubertin', 'was', 'inspired', 'to', 'found', 'the', 'International', 'Olympic', 'Committee', 'IOC', 'Coubertin', 'built', 'on', 'the', 'ideas', 'and', 'work', 'of', 'Brookes', 'and', 'Zappas', 'with', 'the', 'aim', 'of', 'establishing', 'internationally', 'rotating', 'Olympic', 'Games', 'that', 'would', 'occur', 'every', 'four', 'years', 'He', 'presented', 'these', 'ideas', 'during', 'the', 'first', 'Olympic', 'Congress', 'of', 'the', 'newly', 'created', 'International', 'Olympic', 'Committee', 'This', 'meeting', 'was', 'held', 'from', 'to', 'June', 'at', 'the', 'University', 'of', 'Paris', 'On', 'the', 'last', 'day', 'of', 'the', 'Congress', 'it', 'was', 'decided', 'that', 'the', 'first', 'Olympic', 'Games', 'to', 'come', 'under', 'the', 'auspices', 'of', 'the', 'IOC', 'would', 'take', 'place', 'in', 'Athens', 'in', 'The', 'IOC', 'elected', 'the', 'Greek', 'writer', 'Demetrius', 'Vikelas', 'as', 'its', 'first', 'president', 'The', 'first', 'Games', 'held', 'under', 'the', 'auspices', 'of', 'the', 'IOC', 'was', 'hosted', 'in', 'the', 'Panathenaic', 'Stadium', 'in', 'Athens', 'in', 'The', 'Games', 'brought', 'together', 'nations', 'and', 'athletes', 'who', 'competed', 'in', 'events', 'Zappas', 'and', 'his', 'cousin', 'Konstantinos', 'Zappas', 'had', 'left', 'the', 'Greek', 'government', 'a', 'trust', 'to', 'fund', 'future', 'Olympic', 'Games', 'This', 'trust', 'was', 'used', 'to', 'help', 'finance', 'the', 'Games', 'George', 'Averoff', 'contributed', 'generously', 'for', 'the', 'refurbishment', 'of', 'the', 'stadium', 'in', 'preparation', 'for', 'the', 'Games', 'The', 'Greek', 'government', 'also', 'provided', 'funding', 'which', 'was', 'expected', 'to', 'be', 'recouped', 'through', 'the', 'sale', 'of', 'tickets', 'and', 'from', 'the', 'sale', 'of', 'the', 'first', 'Olympic', 'commemorative', 'stamp', 'set', 'Greek', 'officials', 'and', 'the', 'public', 'were', 'enthusiastic', 'about', 'the', 'experience', 'of', 'hosting', 'an', 'Olympic', 'Games', 'This', 'feeling', 'was', 'shared', 'by', 'many', 'of', 'the', 'athletes', 'who', 'even', 'demanded', 'that', 'Athens', 'be', 'the', 'permanent', 'Olympic', 'host', 'city', 'The', 'IOC', 'intended', 'for', 'subsequent', 'Games', 'to', 'be', 'rotated', 'to', 'various', 'host', 'cities', 'around', 'the', 'world', 'The', 'second', 'Olympics', 'was', 'held', 'in', 'Paris', 'After', 'the', 'success', 'of', 'the', 'Games', 'the', 'Olympics', 'entered', 'a', 'period', 'of', 'stagnation', 'which', 'threatened', 'its', 'survival', 'The', 'Olympic', 'Games', 'held', 'at', 'the', 'Paris', 'Exposition', 'in', 'and', 'the', 'Louisiana', 'Purchase', 'Exposition', 'at', 'St', 'Louis', 'in', 'failed', 'to', 'attract', 'much', 'participation', 'or', 'notice', 'Of', 'the', 'athletes', 'in', 'the', 'Olympics', 'were', 'American', 'the', 'winner', 'of', 'the', 'marathon', 'was', 'later', 'disqualified', 'upon', 'discovery', 'of', 'a', 'photograph', 'of', 'him', 'riding', 'in', 'a', 'car', 'during', 'the', 'race', 'The', 'Games', 'rebounded', 'with', 'the', 'Intercalated', 'Games', 'so', 'called', 'because', 'they', 'were', 'the', 'second', 'Olympics', 'to', 'take', 'place', 'within', 'the', 'third', 'Olympiad', 'which', 'were', 'held', 'in', 'Athens', 'These', 'Games', 'attracted', 'a', 'broad', 'international', 'field', 'of', 'participants', 'and', 'generated', 'a', 'great', 'deal', 'of', 'public', 'interest', 'marking', 'the', 'beginning', 'of', 'a', 'rise', 'in', 'both', 'the', 'popularity', 'and', 'the', 'size', 'of', 'the', 'Olympics', 'The', 'Games', 'were', 'officially', 'recognised', 'by', 'the', 'IOC', 'at', 'the', 'time', 'although', 'not', 'any', 'longer', 'and', 'no', 'Intercalated', 'Games', 'have', 'been', 'held', 'since', 'The', 'Winter', 'Olympics', 'was', 'created', 'to', 'feature', 'snow', 'and', 'ice', 'sports', 'that', 'were', 'logistically', 'impossible', 'to', 'hold', 'during', 'the', 'Summer', 'Games', 'Figure', 'skating', 'in', 'and', 'and', 'ice', 'hockey', 'in', 'were', 'featured', 'as', 'Olympic', 'events', 'at', 'the', 'Summer', 'Olympics', 'The', 'IOC', 'desired', 'to', 'expand', 'this', 'list', 'of', 'sports', 'to', 'encompass', 'other', 'winter', 'activities', 'At', 'the', 'Olympic', 'Congress', 'in', 'Lausanne', 'it', 'was', 'decided', 'to', 'hold', 'a', 'winter', 'version', 'of', 'the', 'Olympic', 'Games', 'A', 'winter', 'sports', 'week', 'it', 'was', 'actually', 'days', 'was', 'held', 'in', 'in', 'Chamonix', 'France', 'in', 'connection', 'with', 'the', 'Paris', 'Games', 'held', 'three', 'months', 'later', 'this', 'event', 'became', 'the', 'first', 'Winter', 'Olympic', 'Games', 'Although', 'it', 'was', 'intended', 'that', 'the', 'same', 'country', 'host', 'both', 'the', 'Winter', 'and', 'Summer', 'Games', 'in', 'a', 'given', 'year', 'this', 'idea', 'was', 'quickly', 'abandoned', 'The', 'IOC', 'mandated', 'that', 'the', 'Winter', 'Games', 'be', 'celebrated', 'every', 'four', 'years', 'in', 'the', 'same', 'year', 'as', 'their', 'summer', 'counterpart', 'This', 'tradition', 'was', 'upheld', 'through', 'the', 'Games', 'in', 'Albertville', 'France', 'after', 'that', 'beginning', 'with', 'the', 'Games', 'the', 'Winter', 'Olympics', 'were', 'held', 'every', 'four', 'years', 'two', 'years', 'after', 'each', 'Summer', 'Olympics', 'In', 'Sir', 'Ludwig', 'Guttmann', 'determined', 'to', 'promote', 'the', 'rehabilitation', 'of', 'soldiers', 'after', 'World', 'War', 'II', 'organised', 'a', 'multi', 'sport', 'event', 'between', 'several', 'hospitals', 'to', 'coincide', 'with', 'the', 'London', 'Olympics', 'Originally', 'known', 'as', 'the', 'Stoke', 'Mandeville', 'Games', 'Guttmann', 's', 'event', 'became', 'an', 'annual', 'sports', 'festival', 'Over', 'the', 'next', 'years', 'Guttmann', 'and', 'others', 'continued', 'their', 'efforts', 'to', 'use', 'sports', 'as', 'an', 'avenue', 'to', 'healing', 'In', 'Guttmann', 'brought', 'athletes', 'to', 'Rome', 'to', 'compete', 'in', 'the', 'Parallel', 'Olympics', 'which', 'ran', 'in', 'parallel', 'with', 'the', 'Summer', 'Olympics', 'and', 'came', 'to', 'be', 'known', 'as', 'the', 'first', 'Paralympics', 'Since', 'then', 'the', 'Paralympics', 'have', 'been', 'held', 'in', 'every', 'Olympic', 'year', 'and', 'starting', 'with', 'the', 'Summer', 'Games', 'in', 'Seoul', 'the', 'host', 'city', 'for', 'the', 'Olympics', 'has', 'also', 'played', 'host', 'to', 'the', 'Paralympics', 'a', 'The', 'International', 'Olympic', 'Committee', 'IOC', 'and', 'the', 'International', 'Paralympic', 'Committee', 'IPC', 'signed', 'an', 'agreement', 'in', 'which', 'guaranteed', 'that', 'host', 'cities', 'would', 'be', 'contracted', 'to', 'manage', 'both', 'the', 'Olympic', 'and', 'Paralympic', 'Games', 'The', 'agreement', 'came', 'into', 'effect', 'at', 'the', 'Summer', 'Games', 'in', 'Beijing', 'and', 'at', 'the', 'Winter', 'Games', 'in', 'Vancouver', 'Two', 'years', 'before', 'the', 'Games', 'the', 'LOCOG', 'chairman', 'Lord', 'Coe', 'made', 'the', 'following', 'statement', 'about', 'the', 'Paralympics', 'and', 'Olympics', 'in', 'London', 'We', 'want', 'to', 'change', 'public', 'attitudes', 'towards', 'disability', 'celebrate', 'the', 'excellence', 'of', 'Paralympic', 'sport', 'and', 'to', 'enshrine', 'from', 'the', 'very', 'outset', 'that', 'the', 'two', 'Games', 'are', 'an', 'integrated', 'whole', 'In', 'the', 'Olympic', 'Games', 'were', 'complemented', 'by', 'the', 'Youth', 'Games', 'which', 'give', 'athletes', 'between', 'the', 'ages', 'of', 'and', 'the', 'chance', 'to', 'compete', 'The', 'Youth', 'Olympic', 'Games', 'were', 'conceived', 'by', 'IOC', 'president', 'Jacques', 'Rogge', 'in', 'and', 'approved', 'during', 'the', 'th', 'Congress', 'of', 'the', 'IOC', 'The', 'first', 'Summer', 'Youth', 'Games', 'were', 'held', 'in', 'Singapore', 'from', 'to', 'August', 'while', 'the', 'inaugural', 'Winter', 'Games', 'were', 'hosted', 'in', 'Innsbruck', 'Austria', 'two', 'years', 'later', 'These', 'Games', 'will', 'be', 'shorter', 'than', 'the', 'senior', 'Games', 'the', 'summer', 'version', 'will', 'last', 'twelve', 'days', 'while', 'the', 'winter', 'version', 'will', 'last', 'nine', 'days', 'The', 'IOC', 'allows', 'athletes', 'and', 'officials', 'to', 'participate', 'at', 'the', 'Summer', 'Youth', 'Games', 'and', 'athletes', 'and', 'officials', 'at', 'the', 'Winter', 'Youth', 'Games', 'The', 'sports', 'to', 'be', 'contested', 'will', 'coincide', 'with', 'those', 'scheduled', 'for', 'the', 'senior', 'Games', 'however', 'there', 'will', 'be', 'variations', 'on', 'the', 'sports', 'including', 'mixed', 'NOC', 'and', 'mixed', 'gender', 'teams', 'as', 'well', 'as', 'a', 'reduced', 'number', 'of', 'disciplines', 'and', 'events', 'The', 'Summer', 'Olympics', 'have', 'grown', 'from', 'participants', 'representing', 'nations', 'in', 'to', 'more', 'than', 'competitors', 'representing', 'nations', 'in', 'The', 'scope', 'and', 'scale', 'of', 'the', 'Winter', 'Olympics', 'is', 'smaller', 'for', 'example', 'Pyeongchang', 'hosted', 'athletes', 'from', 'nations', 'in', 'Most', 'of', 'the', 'athletes', 'and', 'officials', 'are', 'housed', 'in', 'the', 'Olympic', 'Village', 'for', 'the', 'duration', 'of', 'the', 'Games', 'This', 'accommodation', 'centre', 'is', 'designed', 'to', 'be', 'a', 'self', 'contained', 'home', 'for', 'all', 'Olympic', 'participants', 'and', 'is', 'furnished', 'with', 'cafeterias', 'health', 'clinics', 'and', 'locations', 'for', 'religious', 'expression', 'The', 'IOC', 'has', 'allowed', 'the', 'formation', 'of', 'National', 'Olympic', 'Committees', 'NOCs', 'to', 'represent', 'individual', 'nations', 'These', 'do', 'not', 'meet', 'the', 'strict', 'requirements', 'for', 'political', 'sovereignty', 'that', 'other', 'international', 'organisations', 'demand', 'As', 'a', 'result', 'colonies', 'and', 'dependencies', 'are', 'permitted', 'to', 'compete', 'at', 'Olympic', 'Games', 'examples', 'being', 'territories', 'such', 'as', 'Puerto', 'Rico', 'Bermuda', 'and', 'Hong', 'Kong', 'all', 'of', 'which', 'compete', 'as', 'separate', 'nations', 'despite', 'being', 'legally', 'a', 'part', 'of', 'another', 'country', 'The', 'current', 'version', 'of', 'the', 'Olympic', 'Charter', 'allows', 'for', 'the', 'establishment', 'of', 'new', 'NOCs', 'to', 'represent', 'nations', 'that', 'qualify', 'as', 'an', 'independent', 'State', 'recognised', 'by', 'the', 'international', 'community', 'Consequently', 'the', 'IOC', 'did', 'not', 'allow', 'the', 'formation', 'of', 'NOCs', 'for', 'Sint', 'Maarten', 'and', 'Cura', 'ao', 'when', 'they', 'gained', 'the', 'same', 'constitutional', 'status', 'as', 'Aruba', 'in', 'although', 'the', 'IOC', 'had', 'recognised', 'the', 'Aruban', 'Olympic', 'Committee', 'in', 'Since', 'athletes', 'from', 'the', 'former', 'Netherlands', 'Antilles', 'have', 'had', 'the', 'option', 'to', 'represent', 'either', 'the', 'Netherlands', 'or', 'Aruba', 'The', 'Oxford', 'Olympics', 'Study', 'found', 'that', 'since', 'sports', 'related', 'costs', 'for', 'the', 'Summer', 'Games', 'were', 'on', 'average', 'US', 'billion', 'and', 'for', 'the', 'Winter', 'Games', 'billion', 'These', 'figures', 'do', 'not', 'include', 'wider', 'infrastructure', 'costs', 'like', 'roads', 'urban', 'rail', 'and', 'airports', 'which', 'often', 'cost', 'as', 'much', 'or', 'more', 'than', 'the', 'sports', 'related', 'costs', 'The', 'most', 'expensive', 'Summer', 'Games', 'were', 'Beijing', 'at', 'US', 'billion', 'and', 'the', 'most', 'expensive', 'Winter', 'Games', 'were', 'Sochi', 'at', 'US', 'billion', 'As', 'of', 'costs', 'per', 'athlete', 'were', 'on', 'average', 'US', 'for', 'the', 'Summer', 'Games', 'and', 'million', 'for', 'the', 'Winter', 'Games', 'for', 'London', 'the', 'cost', 'per', 'athlete', 'was', 'million', 'and', 'the', 'figure', 'was', 'million', 'for', 'Sochi', 'Where', 'ambitious', 'construction', 'for', 'the', 'Games', 'in', 'Montreal', 'and', 'the', 'Games', 'in', 'Moscow', 'had', 'burdened', 'organisers', 'with', 'expenses', 'greatly', 'in', 'excess', 'of', 'revenues', 'Los', 'Angeles', 'strictly', 'controlled', 'expenses', 'for', 'the', 'Games', 'by', 'using', 'existing', 'facilities', 'that', 'were', 'paid', 'for', 'by', 'corporate', 'sponsors', 'The', 'Olympic', 'Committee', 'led', 'by', 'Peter', 'Ueberroth', 'used', 'some', 'of', 'the', 'profits', 'to', 'endow', 'the', 'LA', 'Foundation', 'to', 'promote', 'youth', 'sports', 'in', 'Southern', 'California', 'educate', 'coaches', 'and', 'maintain', 'a', 'sports', 'library', 'The', 'Summer', 'Olympics', 'are', 'often', 'considered', 'the', 'most', 'financially', 'successful', 'modern', 'Olympics', 'and', 'a', 'model', 'for', 'future', 'Games', 'Budget', 'overruns', 'are', 'common', 'for', 'the', 'Games', 'Average', 'overrun', 'for', 'Games', 'since', 'is', 'in', 'real', 'terms', 'which', 'means', 'that', 'actual', 'costs', 'turned', 'out', 'to', 'be', 'on', 'average', 'times', 'the', 'budget', 'that', 'was', 'estimated', 'at', 'the', 'time', 'of', 'winning', 'the', 'bid', 'to', 'host', 'the', 'Games', 'Montreal', 'had', 'the', 'highest', 'cost', 'overrun', 'for', 'Summer', 'Games', 'and', 'for', 'any', 'Games', 'at', 'Lake', 'Placid', 'had', 'the', 'highest', 'cost', 'overrun', 'for', 'Winter', 'Games', 'at', 'London', 'had', 'a', 'cost', 'overrun', 'of', 'Sochi', 'of', 'It', 'has', 'been', 'documented', 'that', 'cost', 'and', 'cost', 'overrun', 'for', 'the', 'Games', 'follow', 'a', 'power', 'law', 'distribution', 'which', 'means', 'that', 'first', 'the', 'Games', 'are', 'prone', 'to', 'large', 'cost', 'overruns', 'and', 'second', 'it', 'is', 'only', 'a', 'matter', 'of', 'time', 'until', 'an', 'overrun', 'occurs', 'that', 'is', 'larger', 'than', 'the', 'largest', 'to', 'date', 'In', 'short', 'hosting', 'the', 'Games', 'is', 'economically', 'and', 'financially', 'extremely', 'risky', 'Many', 'economists', 'who', 'are', 'sceptical', 'about', 'the', 'economic', 'benefits', 'of', 'hosting', 'the', 'Olympic', 'Games', 'emphasising', 'that', 'such', 'mega', 'events', 'often', 'have', 'large', 'costs', 'while', 'yielding', 'relatively', 'few', 'tangible', 'benefits', 'in', 'the', 'long', 'run', 'Conversely', 'hosting', 'or', 'even', 'bidding', 'for', 'the', 'Olympics', 'appears', 'to', 'increase', 'the', 'host', 'country', 's', 'exports', 'as', 'the', 'host', 'or', 'candidate', 'country', 'sends', 'a', 'signal', 'about', 'trade', 'openness', 'when', 'bidding', 'to', 'host', 'the', 'Games', 'Moreover', 'research', 'suggests', 'that', 'hosting', 'the', 'Summer', 'Olympics', 'has', 'a', 'strong', 'positive', 'effect', 'on', 'the', 'philanthropic', 'contributions', 'of', 'corporations', 'headquartered', 'in', 'the', 'host', 'city', 'which', 'seems', 'to', 'benefit', 'the', 'local', 'nonprofit', 'sector', 'This', 'positive', 'effect', 'begins', 'in', 'the', 'years', 'leading', 'up', 'to', 'the', 'Games', 'and', 'might', 'persist', 'for', 'several', 'years', 'afterwards', 'although', 'not', 'permanently', 'This', 'finding', 'suggests', 'that', 'hosting', 'the', 'Olympics', 'might', 'create', 'opportunities', 'for', 'cities', 'to', 'influence', 'local', 'corporations', 'in', 'ways', 'that', 'benefit', 'the', 'local', 'nonprofit', 'sector', 'and', 'civil', 'society', 'The', 'Games', 'have', 'also', 'had', 'significant', 'negative', 'effects', 'on', 'host', 'communities', 'for', 'example', 'the', 'Centre', 'on', 'Housing', 'Rights', 'and', 'Evictions', 'reports', 'that', 'the', 'Olympics', 'displaced', 'more', 'than', 'two', 'million', 'people', 'over', 'two', 'decades', 'often', 'disproportionately', 'affecting', 'disadvantaged', 'groups', 'The', 'Winter', 'Olympics', 'in', 'Sochi', 'were', 'the', 'most', 'expensive', 'Olympic', 'Games', 'in', 'history', 'costing', 'in', 'excess', 'of', 'US', 'billion', 'According', 'to', 'a', 'report', 'by', 'the', 'European', 'Bank', 'for', 'Reconstruction', 'and', 'Development', 'that', 'was', 'released', 'at', 'the', 'time', 'of', 'the', 'games', 'this', 'cost', 'will', 'not', 'boost', 'Russia', 's', 'national', 'economy', 'but', 'may', 'attract', 'business', 'to', 'Sochi', 'and', 'the', 'southern', 'Krasnodar', 'region', 'of', 'Russia', 'in', 'the', 'future', 'as', 'a', 'result', 'of', 'improved', 'services', 'But', 'by', 'December', 'The', 'Guardian', 'stated', 'that', 'Sochi', 'now', 'feels', 'like', 'a', 'ghost', 'town', 'citing', 'the', 'spread', 'out', 'nature', 'of', 'the', 'stadiums', 'and', 'arenas', 'the', 'still', 'unfinished', 'construction', 'and', 'the', 'overall', 'effects', 'of', 'Russia', 's', 'political', 'and', 'economic', 'turmoil', 'Furthermore', 'at', 'least', 'four', 'cities', 'withdrew', 'their', 'bids', 'for', 'the', 'Winter', 'Olympics', 'citing', 'the', 'high', 'costs', 'or', 'the', 'lack', 'of', 'local', 'support', 'resulting', 'in', 'only', 'a', 'two', 'city', 'race', 'between', 'Almaty', 'Kazakhstan', 'and', 'Beijing', 'China', 'Thus', 'in', 'July', 'The', 'Guardian', 'stated', 'that', 'the', 'biggest', 'threat', 'to', 'the', 'future', 'of', 'the', 'Olympics', 'is', 'that', 'very', 'few', 'cities', 'want', 'to', 'host', 'them', 'Bidding', 'for', 'the', 'Summer', 'Olympics', 'also', 'became', 'a', 'two', 'city', 'race', 'between', 'Paris', 'and', 'Los', 'Angeles', 'so', 'the', 'IOC', 'took', 'the', 'unusual', 'step', 'of', 'simultaneously', 'awarding', 'both', 'the', 'Games', 'to', 'Paris', 'and', 'the', 'Games', 'to', 'Los', 'Angeles', 'The', 'Los', 'Angeles', 'bid', 'was', 'praised', 'by', 'the', 'IOC', 'for', 'using', 'a', 'record', 'breaking', 'number', 'of', 'existing', 'and', 'temporary', 'facilities', 'and', 'relying', 'on', 'corporate', 'money', 'The', 'Olympic', 'Movement', 'encompasses', 'a', 'large', 'number', 'of', 'national', 'and', 'international', 'sporting', 'organisations', 'and', 'federations', 'recognised', 'media', 'partners', 'as', 'well', 'as', 'athletes', 'officials', 'judges', 'and', 'every', 'other', 'person', 'and', 'institution', 'that', 'agrees', 'to', 'abide', 'by', 'the', 'rules', 'of', 'the', 'Olympic', 'Charter', 'As', 'the', 'umbrella', 'organisation', 'of', 'the', 'Olympic', 'Movement', 'the', 'International', 'Olympic', 'Committee', 'IOC', 'is', 'responsible', 'for', 'selecting', 'the', 'host', 'city', 'overseeing', 'the', 'planning', 'of', 'the', 'Olympic', 'Games', 'updating', 'and', 'approving', 'the', 'Olympic', 'sports', 'programme', 'and', 'negotiating', 'sponsorship', 'and', 'broadcasting', 'rights', 'The', 'Olympic', 'Movement', 'is', 'made', 'of', 'three', 'major', 'elements', 'French', 'and', 'English', 'are', 'the', 'official', 'languages', 'of', 'the', 'Olympic', 'Movement', 'The', 'other', 'language', 'used', 'at', 'each', 'Olympic', 'Games', 'is', 'the', 'language', 'of', 'the', 'host', 'country', 'or', 'languages', 'if', 'a', 'country', 'has', 'more', 'than', 'one', 'official', 'language', 'apart', 'from', 'French', 'or', 'English', 'Every', 'proclamation', 'such', 'as', 'the', 'announcement', 'of', 'each', 'country', 'during', 'the', 'parade', 'of', 'nations', 'in', 'the', 'opening', 'ceremony', 'is', 'spoken', 'in', 'these', 'three', 'or', 'more', 'languages', 'or', 'the', 'main', 'two', 'depending', 'on', 'whether', 'the', 'host', 'country', 'is', 'an', 'English', 'or', 'French', 'speaking', 'country', 'French', 'is', 'always', 'spoken', 'first', 'followed', 'by', 'an', 'English', 'translation', 'and', 'then', 'the', 'dominant', 'language', 'of', 'the', 'host', 'nation', 'when', 'this', 'is', 'not', 'English', 'or', 'French', 'The', 'IOC', 'has', 'often', 'been', 'accused', 'of', 'being', 'an', 'intractable', 'organisation', 'with', 'several', 'life', 'members', 'on', 'the', 'committee', 'The', 'presidential', 'terms', 'of', 'Avery', 'Brundage', 'and', 'Juan', 'Antonio', 'Samaranch', 'were', 'especially', 'controversial', 'Brundage', 'fought', 'strongly', 'for', 'amateurism', 'and', 'against', 'the', 'commercialisation', 'of', 'the', 'Olympic', 'Games', 'even', 'as', 'these', 'attitudes', 'came', 'to', 'be', 'seen', 'as', 'incongruous', 'with', 'the', 'realities', 'of', 'modern', 'sports', 'The', 'advent', 'of', 'state', 'sponsored', 'athletes', 'from', 'the', 'Eastern', 'Bloc', 'countries', 'further', 'eroded', 'the', 'ideology', 'of', 'the', 'pure', 'amateur', 'as', 'it', 'placed', 'self', 'financed', 'amateurs', 'of', 'Western', 'countries', 'at', 'a', 'disadvantage', 'Brundage', 'was', 'accused', 'of', 'racism', 'for', 'resisting', 'the', 'exclusion', 'of', 'apartheid', 'South', 'Africa', 'and', 'antisemitism', 'Under', 'the', 'Samaranch', 'presidency', 'the', 'office', 'was', 'accused', 'of', 'both', 'nepotism', 'and', 'corruption', 'Samaranch', 's', 'ties', 'with', 'the', 'Franco', 'regime', 'in', 'Spain', 'were', 'also', 'a', 'source', 'of', 'criticism', 'In', 'it', 'was', 'reported', 'that', 'several', 'IOC', 'members', 'had', 'taken', 'gifts', 'from', 'members', 'of', 'the', 'Salt', 'Lake', 'City', 'bid', 'committee', 'for', 'the', 'hosting', 'of', 'the', 'Winter', 'Olympics', 'There', 'were', 'soon', 'four', 'independent', 'investigations', 'underway', 'by', 'the', 'IOC', 'the', 'United', 'States', 'Olympic', 'Committee', 'USOC', 'the', 'Salt', 'Lake', 'Organizing', 'Committee', 'SLOC', 'and', 'the', 'United', 'States', 'Department', 'of', 'Justice', 'DOJ', 'Although', 'nothing', 'strictly', 'illegal', 'had', 'occurred', 'it', 'was', 'felt', 'that', 'the', 'acceptance', 'of', 'the', 'gifts', 'was', 'morally', 'dubious', 'As', 'a', 'result', 'of', 'the', 'investigation', 'ten', 'members', 'of', 'the', 'IOC', 'were', 'expelled', 'and', 'a', 'further', 'ten', 'sanctioned', 'Stricter', 'rules', 'were', 'adopted', 'for', 'future', 'bids', 'and', 'caps', 'were', 'introduced', 'to', 'define', 'how', 'much', 'IOC', 'members', 'could', 'accept', 'from', 'bid', 'cities', 'Additionally', 'new', 'term', 'and', 'age', 'limits', 'were', 'put', 'into', 'place', 'for', 'IOC', 'membership', 'and', 'fifteen', 'former', 'Olympic', 'athletes', 'were', 'added', 'to', 'the', 'committee', 'Nevertheless', 'from', 'sporting', 'and', 'business', 'standpoints', 'the', 'Olympics', 'were', 'one', 'of', 'the', 'most', 'successful', 'Winter', 'Games', 'in', 'history', 'records', 'were', 'set', 'in', 'both', 'the', 'broadcasting', 'and', 'marketing', 'programs', 'Over', 'billion', 'viewers', 'watched', 'more', 'than', 'billion', 'viewer', 'hours', 'The', 'Games', 'were', 'also', 'a', 'financial', 'success', 'raising', 'more', 'money', 'with', 'fewer', 'sponsors', 'than', 'any', 'prior', 'Olympic', 'Games', 'leaving', 'SLOC', 'with', 'a', 'surplus', 'of', 'million', 'This', 'excess', 'revenue', 'was', 'used', 'to', 'create', 'the', 'Utah', 'Athletic', 'Foundation', 'also', 'known', 'as', 'the', 'Utah', 'Olympic', 'Legacy', 'Foundation', 'which', 'maintains', 'and', 'operates', 'many', 'of', 'the', 'surviving', 'Olympic', 'venues', 'It', 'was', 'reported', 'in', 'that', 'the', 'Nagano', 'Olympic', 'bid', 'committee', 'had', 'spent', 'approximately', 'million', 'on', 'entertaining', 'the', 'IOC', 'members', 'and', 'many', 'of', 'their', 'associates', 'The', 'precise', 'figures', 'are', 'unknown', 'since', 'Nagano', 'destroyed', 'the', 'financial', 'records', 'after', 'the', 'IOC', 'requested', 'that', 'the', 'entertainment', 'expenditures', 'should', 'not', 'be', 'made', 'public', 'A', 'BBC', 'documentary', 'entitled', 'Panorama', 'Buying', 'the', 'Games', 'which', 'aired', 'in', 'August', 'investigated', 'the', 'taking', 'of', 'bribes', 'in', 'the', 'bidding', 'process', 'for', 'the', 'Summer', 'Olympics', 'The', 'documentary', 'claimed', 'that', 'it', 'was', 'possible', 'to', 'bribe', 'IOC', 'members', 'into', 'voting', 'for', 'a', 'particular', 'candidate', 'city', 'After', 'being', 'narrowly', 'defeated', 'in', 'their', 'bid', 'for', 'the', 'Games', 'Parisian', 'mayor', 'Bertrand', 'Delano', 'specifically', 'accused', 'the', 'British', 'prime', 'minister', 'Tony', 'Blair', 'and', 'the', 'London', 'bid', 'committee', 'headed', 'by', 'former', 'Olympic', 'champion', 'Sebastian', 'Coe', 'of', 'breaking', 'the', 'bid', 'rules', 'He', 'cited', 'French', 'president', 'Jacques', 'Chirac', 'as', 'a', 'witness', 'Chirac', 'gave', 'guarded', 'interviews', 'concerning', 'his', 'involvement', 'but', 'the', 'allegation', 'was', 'never', 'fully', 'explored', 'Turin', 's', 'Winter', 'Olympic', 'bid', 'was', 'also', 'clouded', 'by', 'controversy', 'A', 'prominent', 'IOC', 'member', 'Marc', 'Hodler', 'closely', 'connected', 'to', 'the', 'rival', 'bid', 'of', 'Sion', 'alleged', 'bribery', 'of', 'IOC', 'officials', 'by', 'members', 'of', 'the', 'Turin', 'Organising', 'Committee', 'These', 'accusations', 'led', 'to', 'a', 'wide', 'ranging', 'investigation', 'and', 'also', 'served', 'to', 'sour', 'many', 'IOC', 'members', 'against', 'Sion', 's', 'bid', 'which', 'potentially', 'helped', 'Turin', 'to', 'capture', 'the', 'host', 'city', 'nomination', 'In', 'July', 'the', 'Anti', 'Defamation', 'League', 'called', 'the', 'continued', 'refusal', 'by', 'the', 'IOC', 'to', 'hold', 'a', 'moment', 'of', 'silence', 'at', 'the', 'opening', 'ceremony', 'for', 'the', 'eleven', 'Israeli', 'athletes', 'killed', 'by', 'Palestinian', 'terrorists', 'at', 'the', 'Munich', 'Olympics', 'a', 'continuing', 'stubborn', 'insensitivity', 'and', 'callousness', 'to', 'the', 'memory', 'of', 'the', 'murdered', 'Israeli', 'athletes', 'In', 'April', 'Norwegian', 'track', 'and', 'field', 'athletics', 'manager', 'H', 'kon', 'Lutdal', 'argued', 'for', 'abolishing', 'the', 'Olympic', 'Games', 'arguing', 'against', 'the', 'concept', 'of', 'gathering', 'many', 'sports', 'in', 'a', 'single', 'town', 'city', 'or', 'region', 'no', 'matter', 'how', 'popular', 'or', 'unpopular', 'those', 'sports', 'are', 'there', 'Instead', 'he', 'argued', 'for', 'elevating', 'the', 'status', 'of', 'various', 'world', 'championships', 'in', 'different', 'sports', 'usually', 'at', 'locations', 'attracting', 'more', 'interested', 'spectators', 'In', 'a', 'group', 'of', 'Oxford', 'University', 'scholars', 'documented', 'high', 'costs', 'and', 'cost', 'overruns', 'for', 'the', 'Games', 'and', 'criticised', 'the', 'IOC', 'for', 'not', 'taking', 'enough', 'responsibility', 'for', 'controlling', 'increasing', 'costs', 'The', 'IOC', 'criticised', 'the', 'study', 'and', 'the', 'Oxford', 'scholars', 'countered', 'the', 'criticism', 'point', 'by', 'point', 'in', 'an', 'open', 'letter', 'to', 'IOC', 'President', 'Thomas', 'Bach', 'The', 'Olympic', 'Games', 'have', 'been', 'commercialised', 'to', 'various', 'degrees', 'since', 'the', 'inaugural', 'Summer', 'Olympics', 'in', 'Athens', 'when', 'a', 'number', 'of', 'companies', 'paid', 'for', 'advertising', 'including', 'Kodak', 'In', 'Oxo', 'Odol', 'mouthwash', 'and', 'Indian', 'Foot', 'Powder', 'became', 'official', 'sponsors', 'of', 'the', 'London', 'Olympic', 'Games', 'Coca', 'Cola', 'first', 'sponsored', 'the', 'Summer', 'Olympics', 'in', 'and', 'has', 'remained', 'an', 'Olympic', 'sponsor', 'ever', 'since', 'Before', 'the', 'IOC', 'took', 'control', 'of', 'sponsorship', 'the', 'NOCs', 'had', 'responsibility', 'for', 'negotiating', 'their', 'own', 'contracts', 'for', 'sponsorship', 'and', 'use', 'of', 'the', 'Olympic', 'symbols', 'The', 'IOC', 'originally', 'resisted', 'funding', 'by', 'corporate', 'sponsors', 'It', 'was', 'not', 'until', 'the', 'retirement', 'of', 'IOC', 'President', 'Avery', 'Brundage', 'in', 'that', 'the', 'IOC', 'began', 'to', 'explore', 'the', 'potential', 'of', 'the', 'television', 'medium', 'and', 'the', 'lucrative', 'advertising', 'markets', 'available', 'to', 'them', 'Under', 'the', 'leadership', 'of', 'Juan', 'Antonio', 'Samaranch', 'the', 'Games', 'began', 'to', 'shift', 'toward', 'international', 'sponsors', 'who', 'sought', 'to', 'link', 'their', 'products', 'to', 'the', 'Olympic', 'brand', 'During', 'the', 'first', 'half', 'of', 'the', 'th', 'century', 'the', 'IOC', 'ran', 'on', 'a', 'small', 'budget', 'As', 'president', 'of', 'the', 'IOC', 'from', 'to', 'Avery', 'Brundage', 'rejected', 'all', 'attempts', 'to', 'link', 'the', 'Olympics', 'with', 'commercial', 'interest', 'Brundage', 'believed', 'the', 'lobby', 'of', 'corporate', 'interests', 'would', 'unduly', 'impact', 'the', 'IOC', 's', 'decision', 'making', 'Brundage', 's', 'resistance', 'to', 'this', 'revenue', 'stream', 'meant', 'the', 'IOC', 'left', 'organising', 'committees', 'to', 'negotiate', 'their', 'own', 'sponsorship', 'contracts', 'and', 'use', 'the', 'Olympic', 'symbols', 'When', 'Brundage', 'retired', 'the', 'IOC', 'had', 'US', 'million', 'in', 'assets', 'eight', 'years', 'later', 'the', 'IOC', 'coffers', 'had', 'swelled', 'to', 'US', 'million', 'This', 'was', 'primarily', 'due', 'to', 'a', 'shift', 'in', 'ideology', 'toward', 'expansion', 'of', 'the', 'Games', 'through', 'corporate', 'sponsorship', 'and', 'the', 'sale', 'of', 'television', 'rights', 'When', 'Juan', 'Antonio', 'Samaranch', 'was', 'elected', 'IOC', 'president', 'in', 'his', 'desire', 'was', 'to', 'make', 'the', 'IOC', 'financially', 'independent', 'The', 'Summer', 'Olympics', 'became', 'a', 'watershed', 'moment', 'in', 'Olympic', 'history', 'The', 'Los', 'Angeles', 'based', 'organising', 'committee', 'led', 'by', 'Peter', 'Ueberroth', 'was', 'able', 'to', 'generate', 'a', 'surplus', 'of', 'US', 'million', 'which', 'was', 'an', 'unprecedented', 'amount', 'at', 'that', 'time', 'The', 'organising', 'committee', 'had', 'been', 'able', 'to', 'create', 'such', 'a', 'surplus', 'in', 'part', 'by', 'selling', 'exclusive', 'sponsorship', 'rights', 'to', 'select', 'companies', 'The', 'IOC', 'sought', 'to', 'gain', 'control', 'of', 'these', 'sponsorship', 'rights', 'Samaranch', 'helped', 'to', 'establish', 'The', 'Olympic', 'Programme', 'TOP', 'in', 'in', 'order', 'to', 'create', 'an', 'Olympic', 'brand', 'Membership', 'in', 'TOP', 'was', 'and', 'is', 'very', 'exclusive', 'and', 'expensive', 'Fees', 'cost', 'US', 'million', 'for', 'a', 'four', 'year', 'membership', 'Members', 'of', 'TOP', 'received', 'exclusive', 'global', 'advertising', 'rights', 'for', 'their', 'product', 'category', 'and', 'use', 'of', 'the', 'Olympic', 'symbol', 'the', 'interlocking', 'rings', 'in', 'their', 'publications', 'and', 'advertisements', 'The', 'Summer', 'Olympics', 'in', 'Berlin', 'were', 'the', 'first', 'Games', 'to', 'be', 'broadcast', 'on', 'television', 'though', 'only', 'to', 'local', 'audiences', 'The', 'Winter', 'Olympics', 'in', 'Italy', 'were', 'the', 'first', 'internationally', 'televised', 'Olympic', 'Games', 'and', 'the', 'broadcasting', 'rights', 'for', 'the', 'following', 'Winter', 'Games', 'in', 'California', 'were', 'sold', 'for', 'the', 'first', 'time', 'to', 'specialised', 'television', 'broadcasting', 'networks', 'CBS', 'paid', 'US', 'for', 'the', 'American', 'rights', 'In', 'the', 'following', 'decades', 'the', 'Olympics', 'became', 'one', 'of', 'the', 'ideological', 'fronts', 'of', 'the', 'Cold', 'War', 'and', 'the', 'International', 'Olympic', 'Committee', 'wanted', 'to', 'take', 'advantage', 'of', 'this', 'heightened', 'interest', 'via', 'the', 'broadcast', 'medium', 'The', 'sale', 'of', 'broadcast', 'rights', 'enabled', 'the', 'IOC', 'to', 'increase', 'the', 'exposure', 'of', 'the', 'Olympic', 'Games', 'thereby', 'generating', 'more', 'interest', 'which', 'in', 'turn', 'enhanced', 'the', 'appeal', 'of', 'TV', 'air', 'time', 'to', 'the', 'advertisers', 'This', 'cycle', 'allowed', 'the', 'IOC', 'to', 'charge', 'ever', 'increasing', 'fees', 'for', 'those', 'rights', 'For', 'example', 'CBS', 'paid', 'US', 'million', 'for', 'the', 'American', 'broadcast', 'rights', 'for', 'the', 'Nagano', 'Games', 'while', 'NBC', 'spent', 'US', 'billion', 'for', 'the', 'American', 'rights', 'to', 'air', 'every', 'Olympic', 'Games', 'from', 'to', 'In', 'NBC', 'agreed', 'to', 'a', 'billion', 'contract', 'with', 'the', 'IOC', 'to', 'broadcast', 'the', 'Olympics', 'through', 'the', 'Games', 'the', 'most', 'expensive', 'television', 'rights', 'deal', 'in', 'Olympic', 'history', 'NBC', 'then', 'agreed', 'to', 'a', 'billion', 'contract', 'extension', 'on', 'May', 'to', 'air', 'the', 'Olympics', 'through', 'the', 'Games', 'NBC', 'also', 'acquired', 'the', 'American', 'television', 'rights', 'to', 'the', 'Youth', 'Olympic', 'Games', 'beginning', 'in', 'and', 'the', 'Paralympic', 'Games', 'More', 'than', 'half', 'of', 'the', 'Olympic', 'Committee', 's', 'global', 'sponsors', 'are', 'American', 'companies', 'and', 'NBC', 'is', 'one', 'of', 'the', 'major', 'sources', 'of', 'revenue', 'for', 'the', 'IOC', 'Viewership', 'increased', 'exponentially', 'from', 'the', 's', 'until', 'the', 'end', 'of', 'the', 'th', 'century', 'This', 'was', 'due', 'to', 'the', 'advent', 'of', 'satellites', 'for', 'broadcasting', 'live', 'television', 'worldwide', 'starting', 'in', 'and', 'the', 'introduction', 'of', 'colour', 'television', 'in', 'The', 'global', 'audience', 'for', 'the', 'Mexico', 'City', 'Games', 'was', 'estimated', 'to', 'be', 'million', 'whereas', 'the', 'audience', 'numbers', 'at', 'the', 'Los', 'Angeles', 'Games', 'of', 'had', 'increased', 'to', 'million', 'this', 'number', 'had', 'swelled', 'to', 'billion', 'by', 'the', 'Summer', 'Olympics', 'in', 'Barcelona', 'With', 'such', 'high', 'costs', 'charged', 'to', 'broadcast', 'the', 'Games', 'the', 'added', 'pressure', 'of', 'the', 'internet', 'and', 'increased', 'competition', 'from', 'cable', 'the', 'television', 'lobby', 'demanded', 'concessions', 'from', 'the', 'IOC', 'to', 'boost', 'ratings', 'The', 'IOC', 'responded', 'by', 'making', 'a', 'number', 'of', 'changes', 'to', 'the', 'Olympic', 'programme', 'at', 'the', 'Summer', 'Games', 'the', 'gymnastics', 'competition', 'was', 'expanded', 'from', 'seven', 'to', 'nine', 'nights', 'and', 'a', 'Champions', 'Gala', 'was', 'added', 'to', 'attract', 'greater', 'interest', 'the', 'events', 'programmes', 'were', 'also', 'expanded', 'for', 'swimming', 'and', 'diving', 'both', 'popular', 'sports', 'with', 'a', 'broad', 'base', 'of', 'television', 'viewers', 'Due', 'to', 'the', 'substantial', 'fees', 'NBC', 'has', 'paid', 'for', 'rights', 'to', 'the', 'Olympics', 'the', 'IOC', 'has', 'allowed', 'the', 'network', 'to', 'influence', 'the', 'event', 'scheduling', 'to', 'maximise', 'U', 'S', 'television', 'ratings', 'when', 'possible', 'The', 'sale', 'of', 'the', 'Olympic', 'brand', 'has', 'been', 'controversial', 'The', 'argument', 'is', 'that', 'the', 'Games', 'have', 'become', 'indistinguishable', 'from', 'any', 'other', 'commercialised', 'sporting', 'spectacle', 'Another', 'criticism', 'is', 'that', 'the', 'Games', 'are', 'funded', 'by', 'host', 'cities', 'and', 'national', 'governments', 'the', 'IOC', 'incurs', 'none', 'of', 'the', 'cost', 'yet', 'controls', 'all', 'the', 'rights', 'and', 'profits', 'from', 'the', 'Olympic', 'symbols', 'The', 'IOC', 'also', 'takes', 'a', 'percentage', 'of', 'all', 'sponsorship', 'and', 'broadcast', 'income', 'Host', 'cities', 'continue', 'to', 'compete', 'ardently', 'for', 'the', 'right', 'to', 'host', 'the', 'Games', 'even', 'though', 'there', 'is', 'no', 'certainty', 'that', 'they', 'will', 'earn', 'back', 'their', 'investments', 'Research', 'has', 'shown', 'that', 'trade', 'is', 'around', 'percent', 'higher', 'for', 'countries', 'that', 'have', 'hosted', 'the', 'Olympics', 'The', 'Olympic', 'Movement', 'uses', 'symbols', 'to', 'represent', 'the', 'ideals', 'embodied', 'in', 'the', 'Olympic', 'Charter', 'The', 'Olympic', 'symbol', 'better', 'known', 'as', 'the', 'Olympic', 'rings', 'consists', 'of', 'five', 'intertwined', 'rings', 'and', 'represents', 'the', 'unity', 'of', 'the', 'five', 'inhabited', 'continents', 'Africa', 'The', 'Americas', 'is', 'considered', 'one', 'continent', 'Asia', 'Europe', 'and', 'Oceania', 'The', 'coloured', 'version', 'of', 'the', 'rings', 'blue', 'yellow', 'black', 'green', 'and', 'red', 'over', 'a', 'white', 'field', 'forms', 'the', 'Olympic', 'flag', 'These', 'colours', 'were', 'chosen', 'because', 'every', 'nation', 'had', 'at', 'least', 'one', 'of', 'them', 'on', 'its', 'national', 'flag', 'The', 'flag', 'was', 'adopted', 'in', 'but', 'flown', 'for', 'the', 'first', 'time', 'only', 'at', 'the', 'Summer', 'Olympics', 'in', 'Antwerp', 'Belgium', 'It', 'has', 'since', 'been', 'hoisted', 'during', 'each', 'celebration', 'of', 'the', 'Games', 'The', 'Olympic', 'motto', 'Citius', 'Altius', 'Fortius', 'a', 'Latin', 'expression', 'meaning', 'Faster', 'Higher', 'Stronger', 'was', 'proposed', 'by', 'Pierre', 'de', 'Coubertin', 'in', 'and', 'has', 'been', 'official', 'since', 'The', 'motto', 'was', 'coined', 'by', 'Coubertin', 's', 'friend', 'the', 'Dominican', 'priest', 'Henri', 'Didon', 'OP', 'for', 'a', 'Paris', 'youth', 'gathering', 'of', 'Coubertin', 's', 'Olympic', 'ideals', 'are', 'expressed', 'in', 'the', 'Olympic', 'creed', 'The', 'most', 'important', 'thing', 'in', 'the', 'Olympic', 'Games', 'is', 'not', 'to', 'win', 'but', 'to', 'take', 'part', 'just', 'as', 'the', 'most', 'important', 'thing', 'in', 'life', 'is', 'not', 'the', 'triumph', 'but', 'the', 'struggle', 'The', 'essential', 'thing', 'is', 'not', 'to', 'have', 'conquered', 'but', 'to', 'have', 'fought', 'well', 'Months', 'before', 'each', 'Games', 'the', 'Olympic', 'Flame', 'is', 'lit', 'at', 'the', 'Temple', 'of', 'Hera', 'in', 'Olympia', 'in', 'a', 'ceremony', 'that', 'reflects', 'ancient', 'Greek', 'rituals', 'A', 'female', 'performer', 'acting', 'as', 'a', 'priestess', 'joined', 'by', 'ten', 'female', 'performers', 'as', 'Vestal', 'Virgins', 'ignites', 'a', 'torch', 'by', 'placing', 'it', 'inside', 'a', 'parabolic', 'mirror', 'which', 'focuses', 'the', 'sun', 's', 'rays', 'she', 'then', 'lights', 'the', 'torch', 'of', 'the', 'first', 'relay', 'bearer', 'thus', 'initiating', 'the', 'Olympic', 'torch', 'relay', 'that', 'will', 'carry', 'the', 'flame', 'to', 'the', 'host', 'city', 's', 'Olympic', 'stadium', 'where', 'it', 'plays', 'an', 'important', 'role', 'in', 'the', 'opening', 'ceremony', 'Though', 'the', 'flame', 'has', 'been', 'an', 'Olympic', 'symbol', 'since', 'the', 'torch', 'relay', 'was', 'only', 'introduced', 'at', 'the', 'Summer', 'Games', 'to', 'promote', 'the', 'Third', 'Reich', 'The', 'Olympic', 'mascot', 'an', 'animal', 'or', 'human', 'figure', 'representing', 'the', 'cultural', 'heritage', 'of', 'the', 'host', 'country', 'was', 'introduced', 'in', 'It', 'has', 'played', 'an', 'important', 'part', 'of', 'the', 'Games', 'identity', 'promotion', 'since', 'the', 'Summer', 'Olympics', 'when', 'the', 'Soviet', 'bear', 'cub', 'Misha', 'reached', 'international', 'stardom', 'The', 'mascot', 'of', 'the', 'Summer', 'Olympics', 'in', 'London', 'was', 'named', 'Wenlock', 'after', 'the', 'town', 'of', 'Much', 'Wenlock', 'in', 'Shropshire', 'Much', 'Wenlock', 'still', 'hosts', 'the', 'Wenlock', 'Olympian', 'Games', 'which', 'were', 'an', 'inspiration', 'to', 'Pierre', 'de', 'Coubertin', 'for', 'the', 'Olympic', 'Games', 'As', 'mandated', 'by', 'the', 'Olympic', 'Charter', 'various', 'elements', 'frame', 'the', 'opening', 'ceremony', 'of', 'the', 'Olympic', 'Games', 'This', 'ceremony', 'takes', 'place', 'on', 'a', 'Friday', 'and', 'is', 'held', 'prior', 'to', 'the', 'commencement', 'of', 'the', 'sporting', 'events', 'apart', 'from', 'some', 'group', 'stage', 'football', 'matches', 'softball', 'games', 'and', 'rowing', 'heats', 'Most', 'of', 'the', 'rituals', 'for', 'the', 'opening', 'ceremony', 'were', 'established', 'at', 'the', 'Summer', 'Olympics', 'in', 'Antwerp', 'The', 'ceremony', 'typically', 'starts', 'with', 'the', 'entrance', 'of', 'the', 'president', 'of', 'the', 'International', 'Olympic', 'Comittee', 'and', 'a', 'representative', 'of', 'the', 'host', 'country', 'followed', 'by', 'the', 'hoisting', 'of', 'the', 'host', 'country', 's', 'flag', 'and', 'a', 'performance', 'of', 'its', 'national', 'anthem', 'The', 'host', 'nation', 'then', 'presents', 'artistic', 'displays', 'of', 'music', 'singing', 'dance', 'and', 'theatre', 'representative', 'of', 'its', 'culture', 'The', 'artistic', 'presentations', 'have', 'grown', 'in', 'scale', 'and', 'complexity', 'as', 'successive', 'hosts', 'attempt', 'to', 'provide', 'a', 'ceremony', 'that', 'outlasts', 'its', 'predecessor', 's', 'in', 'terms', 'of', 'memorability', 'The', 'opening', 'ceremony', 'of', 'the', 'Beijing', 'Games', 'reportedly', 'cost', 'million', 'with', 'much', 'of', 'the', 'cost', 'incurred', 'in', 'the', 'artistic', 'segment', 'After', 'the', 'artistic', 'portion', 'of', 'the', 'ceremony', 'the', 'athletes', 'parade', 'into', 'the', 'stadium', 'grouped', 'by', 'nation', 'Greece', 'is', 'traditionally', 'the', 'first', 'nation', 'to', 'enter', 'and', 'leads', 'the', 'parade', 'in', 'order', 'to', 'honour', 'the', 'origins', 'of', 'the', 'Olympics', 'Nations', 'then', 'enter', 'the', 'stadium', 'alphabetically', 'according', 'to', 'the', 'host', 'country', 's', 'chosen', 'language', 'with', 'the', 'host', 'country', 's', 'athletes', 'being', 'the', 'last', 'to', 'enter', 'During', 'the', 'Summer', 'Olympics', 'which', 'was', 'hosted', 'in', 'Athens', 'Greece', 'the', 'Greek', 'flag', 'entered', 'the', 'stadium', 'first', 'while', 'the', 'Greek', 'delegation', 'entered', 'last', 'Beginning', 'with', 'the', 'Summer', 'Olympics', 'the', 'succeeding', 'hosts', 'of', 'the', 'respective', 'Olympic', 'Games', 'summer', 'or', 'winter', 'will', 'enter', 'immediately', 'before', 'the', 'current', 'host', 'in', 'descending', 'order', 'Speeches', 'are', 'given', 'formally', 'opening', 'the', 'Games', 'Finally', 'the', 'Olympic', 'torch', 'is', 'brought', 'into', 'the', 'stadium', 'and', 'passed', 'on', 'until', 'it', 'reaches', 'the', 'final', 'torch', 'carrier', 'often', 'a', 'successful', 'Olympic', 'athlete', 'from', 'the', 'host', 'nation', 'who', 'lights', 'the', 'Olympic', 'flame', 'in', 'the', 'stadium', 's', 'cauldron', 'The', 'closing', 'ceremony', 'of', 'the', 'Olympic', 'Games', 'takes', 'place', 'on', 'a', 'Sunday', 'and', 'after', 'all', 'sporting', 'events', 'have', 'concluded', 'Flag', 'bearers', 'from', 'each', 'participating', 'country', 'enter', 'the', 'stadium', 'followed', 'by', 'the', 'athletes', 'who', 'enter', 'together', 'without', 'any', 'national', 'distinction', 'Three', 'national', 'flags', 'are', 'hoisted', 'while', 'the', 'corresponding', 'national', 'anthems', 'are', 'played', 'the', 'flag', 'of', 'the', 'current', 'host', 'country', 'the', 'flag', 'of', 'Greece', 'to', 'honour', 'the', 'birthplace', 'of', 'the', 'Olympic', 'Games', 'and', 'the', 'flag', 'of', 'the', 'country', 'hosting', 'the', 'next', 'Summer', 'or', 'Winter', 'Olympic', 'Games', 'The', 'president', 'of', 'the', 'organising', 'committee', 'and', 'the', 'IOC', 'president', 'make', 'their', 'closing', 'speeches', 'the', 'Games', 'are', 'officially', 'closed', 'and', 'the', 'Olympic', 'flame', 'is', 'extinguished', 'In', 'what', 'is', 'known', 'as', 'the', 'Antwerp', 'Ceremony', 'the', 'current', 'mayor', 'of', 'the', 'city', 'that', 'organised', 'the', 'Games', 'transfers', 'a', 'special', 'Olympic', 'flag', 'to', 'the', 'president', 'of', 'the', 'IOC', 'who', 'then', 'passes', 'it', 'on', 'to', 'the', 'current', 'mayor', 'of', 'the', 'city', 'hosting', 'the', 'next', 'Olympic', 'Games', 'The', 'next', 'host', 'nation', 'then', 'also', 'briefly', 'introduces', 'itself', 'with', 'artistic', 'displays', 'of', 'dance', 'and', 'theatre', 'representative', 'of', 'its', 'culture', 'As', 'is', 'customary', 'the', 'last', 'medal', 'presentation', 'of', 'the', 'Games', 'is', 'held', 'as', 'part', 'of', 'the', 'closing', 'ceremony', 'Typically', 'the', 'marathon', 'medals', 'are', 'presented', 'at', 'the', 'Summer', 'Olympics', 'while', 'the', 'cross', 'country', 'skiing', 'mass', 'start', 'medals', 'are', 'awarded', 'at', 'the', 'Winter', 'Olympics', 'A', 'medal', 'ceremony', 'is', 'held', 'after', 'the', 'conclusion', 'of', 'each', 'Olympic', 'event', 'The', 'winner', 'and', 'the', 'second', 'and', 'third', 'place', 'competitors', 'or', 'teams', 'stand', 'on', 'top', 'of', 'a', 'three', 'tiered', 'rostrum', 'to', 'be', 'awarded', 'their', 'respective', 'medals', 'by', 'a', 'member', 'of', 'the', 'IOC', 'After', 'the', 'medals', 'have', 'been', 'received', 'the', 'national', 'flags', 'of', 'the', 'three', 'medallists', 'are', 'raised', 'while', 'the', 'national', 'anthem', 'of', 'the', 'gold', 'medallist', 's', 'country', 'is', 'played', 'Volunteering', 'citizens', 'of', 'the', 'host', 'country', 'also', 'act', 'as', 'hosts', 'during', 'the', 'medal', 'ceremonies', 'assisting', 'the', 'officials', 'who', 'present', 'the', 'medals', 'and', 'acting', 'as', 'flag', 'bearers', 'In', 'the', 'Summer', 'Olympics', 'each', 'medal', 'ceremony', 'is', 'held', 'at', 'the', 'venue', 'where', 'the', 'event', 'has', 'taken', 'place', 'but', 'the', 'ceremonies', 'at', 'the', 'Winter', 'Olympics', 'are', 'usually', 'held', 'in', 'a', 'special', 'plaza', 'The', 'Olympic', 'Games', 'programme', 'consists', 'of', 'sports', 'disciplines', 'and', 'events', 'For', 'example', 'wrestling', 'is', 'a', 'Summer', 'Olympic', 'sport', 'comprising', 'two', 'disciplines', 'Greco', 'Roman', 'and', 'Freestyle', 'It', 'is', 'further', 'broken', 'down', 'into', 'fourteen', 'events', 'for', 'men', 'and', 'four', 'events', 'for', 'women', 'each', 'representing', 'a', 'different', 'weight', 'class', 'The', 'Summer', 'Olympics', 'programme', 'includes', 'sports', 'while', 'the', 'Winter', 'Olympics', 'programme', 'features', 'sports', 'Athletics', 'swimming', 'fencing', 'and', 'artistic', 'gymnastics', 'are', 'the', 'only', 'summer', 'sports', 'that', 'have', 'never', 'been', 'absent', 'from', 'the', 'Olympic', 'programme', 'Cross', 'country', 'skiing', 'figure', 'skating', 'ice', 'hockey', 'Nordic', 'combined', 'ski', 'jumping', 'and', 'speed', 'skating', 'have', 'been', 'featured', 'at', 'every', 'Winter', 'Olympics', 'programme', 'since', 'its', 'inception', 'in', 'Current', 'Olympic', 'sports', 'like', 'badminton', 'basketball', 'and', 'volleyball', 'first', 'appeared', 'on', 'the', 'programme', 'as', 'demonstration', 'sports', 'and', 'were', 'later', 'promoted', 'to', 'full', 'Olympic', 'sports', 'Some', 'sports', 'that', 'were', 'featured', 'in', 'earlier', 'Games', 'were', 'later', 'dropped', 'from', 'the', 'programme', 'Olympic', 'sports', 'are', 'governed', 'by', 'international', 'sports', 'federations', 'IFs', 'recognised', 'by', 'the', 'IOC', 'as', 'the', 'global', 'supervisors', 'of', 'those', 'sports', 'There', 'are', 'federations', 'represented', 'at', 'the', 'IOC', 'There', 'are', 'sports', 'recognised', 'by', 'the', 'IOC', 'that', 'are', 'not', 'included', 'in', 'the', 'Olympic', 'programme', 'These', 'sports', 'are', 'not', 'considered', 'Olympic', 'sports', 'but', 'they', 'can', 'be', 'promoted', 'to', 'this', 'status', 'during', 'a', 'programme', 'revision', 'that', 'occurs', 'in', 'the', 'first', 'IOC', 'session', 'following', 'a', 'celebration', 'of', 'the', 'Olympic', 'Games', 'During', 'such', 'revisions', 'sports', 'can', 'be', 'excluded', 'or', 'included', 'in', 'the', 'programme', 'on', 'the', 'basis', 'of', 'a', 'two', 'thirds', 'majority', 'vote', 'of', 'the', 'members', 'of', 'the', 'IOC', 'There', 'are', 'recognised', 'sports', 'that', 'have', 'never', 'been', 'on', 'an', 'Olympic', 'programme', 'in', 'any', 'capacity', 'for', 'example', 'squash', 'In', 'October', 'and', 'November', 'the', 'IOC', 'established', 'an', 'Olympic', 'Programme', 'Commission', 'which', 'was', 'tasked', 'with', 'reviewing', 'the', 'sports', 'on', 'the', 'Olympic', 'programme', 'and', 'all', 'non', 'Olympic', 'recognised', 'sports', 'The', 'goal', 'was', 'to', 'apply', 'a', 'systematic', 'approach', 'to', 'establishing', 'the', 'Olympic', 'programme', 'for', 'each', 'celebration', 'of', 'the', 'Games', 'The', 'commission', 'formulated', 'seven', 'criteria', 'to', 'judge', 'whether', 'a', 'sport', 'should', 'be', 'included', 'on', 'the', 'Olympic', 'programme', 'These', 'criteria', 'are', 'history', 'and', 'tradition', 'of', 'the', 'sport', 'universality', 'popularity', 'of', 'the', 'sport', 'image', 'athletes', 'health', 'development', 'of', 'the', 'International', 'Federation', 'that', 'governs', 'the', 'sport', 'and', 'costs', 'of', 'holding', 'the', 'sport', 'From', 'this', 'study', 'five', 'recognised', 'sports', 'emerged', 'as', 'candidates', 'for', 'inclusion', 'at', 'the', 'Summer', 'Olympics', 'golf', 'karate', 'rugby', 'sevens', 'roller', 'sports', 'and', 'squash', 'These', 'sports', 'were', 'reviewed', 'by', 'the', 'IOC', 'Executive', 'Board', 'and', 'then', 'referred', 'to', 'the', 'General', 'Session', 'in', 'Singapore', 'in', 'July', 'Of', 'the', 'five', 'sports', 'recommended', 'for', 'inclusion', 'only', 'two', 'were', 'selected', 'as', 'finalists', 'karate', 'and', 'squash', 'Neither', 'sport', 'attained', 'the', 'required', 'two', 'thirds', 'vote', 'and', 'consequently', 'they', 'were', 'not', 'promoted', 'to', 'the', 'Olympic', 'programme', 'In', 'October', 'the', 'IOC', 'voted', 'to', 'instate', 'golf', 'and', 'rugby', 'sevens', 'as', 'Olympic', 'sports', 'for', 'the', 'and', 'Summer', 'Olympic', 'Games', 'The', 'th', 'IOC', 'Session', 'in', 'limited', 'the', 'Summer', 'Games', 'programme', 'to', 'a', 'maximum', 'of', 'sports', 'events', 'and', 'athletes', 'Three', 'years', 'later', 'at', 'the', 'th', 'IOC', 'Session', 'the', 'first', 'major', 'programme', 'revision', 'was', 'performed', 'which', 'resulted', 'in', 'the', 'exclusion', 'of', 'baseball', 'and', 'softball', 'from', 'the', 'official', 'programme', 'of', 'the', 'London', 'Games', 'Since', 'there', 'was', 'no', 'agreement', 'in', 'the', 'promotion', 'of', 'two', 'other', 'sports', 'the', 'programme', 'featured', 'just', 'sports', 'The', 'and', 'Games', 'will', 'return', 'to', 'the', 'maximum', 'of', 'sports', 'given', 'the', 'addition', 'of', 'rugby', 'and', 'golf', 'The', 'ethos', 'of', 'the', 'aristocracy', 'as', 'exemplified', 'in', 'the', 'English', 'public', 'school', 'greatly', 'influenced', 'Pierre', 'de', 'Coubertin', 'The', 'public', 'schools', 'subscribed', 'to', 'the', 'belief', 'that', 'sport', 'formed', 'an', 'important', 'part', 'of', 'education', 'an', 'attitude', 'summed', 'up', 'in', 'the', 'saying', 'mens', 'sana', 'in', 'corpore', 'sano', 'a', 'sound', 'mind', 'in', 'a', 'sound', 'body', 'In', 'this', 'ethos', 'a', 'gentleman', 'was', 'one', 'who', 'became', 'an', 'all', 'rounder', 'not', 'the', 'best', 'at', 'one', 'specific', 'thing', 'There', 'was', 'also', 'a', 'prevailing', 'concept', 'of', 'fairness', 'in', 'which', 'practising', 'or', 'training', 'was', 'considered', 'tantamount', 'to', 'cheating', 'Those', 'who', 'practised', 'a', 'sport', 'professionally', 'were', 'considered', 'to', 'have', 'an', 'unfair', 'advantage', 'over', 'those', 'who', 'practised', 'it', 'merely', 'as', 'a', 'hobby', 'The', 'exclusion', 'of', 'professionals', 'caused', 'several', 'controversies', 'throughout', 'the', 'history', 'of', 'the', 'modern', 'Olympics', 'The', 'Olympic', 'pentathlon', 'and', 'decathlon', 'champion', 'Jim', 'Thorpe', 'was', 'stripped', 'of', 'his', 'medals', 'when', 'it', 'was', 'discovered', 'that', 'he', 'had', 'played', 'semi', 'professional', 'baseball', 'before', 'the', 'Olympics', 'His', 'medals', 'were', 'posthumously', 'restored', 'by', 'the', 'IOC', 'in', 'on', 'compassionate', 'grounds', 'Swiss', 'and', 'Austrian', 'skiers', 'boycotted', 'the', 'Winter', 'Olympics', 'in', 'support', 'of', 'their', 'skiing', 'teachers', 'who', 'were', 'not', 'allowed', 'to', 'compete', 'because', 'they', 'earned', 'money', 'with', 'their', 'sport', 'and', 'were', 'thus', 'considered', 'professionals', 'The', 'advent', 'of', 'the', 'state', 'sponsored', 'full', 'time', 'amateur', 'athlete', 'of', 'the', 'Eastern', 'Bloc', 'countries', 'eroded', 'the', 'ideology', 'of', 'the', 'pure', 'amateur', 'as', 'it', 'put', 'the', 'self', 'financed', 'amateurs', 'of', 'the', 'Western', 'countries', 'at', 'a', 'disadvantage', 'The', 'Soviet', 'Union', 'entered', 'teams', 'of', 'athletes', 'who', 'were', 'all', 'nominally', 'students', 'soldiers', 'or', 'working', 'in', 'a', 'profession', 'but', 'all', 'of', 'whom', 'were', 'in', 'reality', 'paid', 'by', 'the', 'state', 'to', 'train', 'on', 'a', 'full', 'time', 'basis', 'The', 'situation', 'greatly', 'disadvantaged', 'American', 'and', 'Western', 'European', 'athletes', 'and', 'was', 'a', 'major', 'factor', 'in', 'the', 'decline', 'of', 'American', 'medal', 'hauls', 'in', 'the', 's', 'and', 's', 'As', 'a', 'result', 'the', 'Olympics', 'shifted', 'away', 'from', 'amateurism', 'as', 'envisioned', 'by', 'Pierre', 'de', 'Coubertin', 'to', 'allowing', 'participation', 'of', 'professional', 'athletes', 'but', 'only', 'in', 'the', 's', 'after', 'the', 'collapse', 'of', 'the', 'Soviet', 'Union', 'and', 'its', 'influence', 'within', 'the', 'International', 'Olympic', 'Committee', 'Near', 'the', 'end', 'of', 'the', 's', 'the', 'Canadian', 'Amateur', 'Hockey', 'Association', 'CAHA', 'felt', 'their', 'amateur', 'players', 'could', 'no', 'longer', 'be', 'competitive', 'against', 'the', 'Soviet', 'team', 's', 'full', 'time', 'athletes', 'and', 'the', 'other', 'constantly', 'improving', 'European', 'teams', 'They', 'pushed', 'for', 'the', 'ability', 'to', 'use', 'players', 'from', 'professional', 'leagues', 'but', 'met', 'opposition', 'from', 'the', 'IIHF', 'and', 'IOC', 'At', 'the', 'IIHF', 'Congress', 'in', 'the', 'IIHF', 'decided', 'to', 'allow', 'Canada', 'to', 'use', 'nine', 'non', 'NHL', 'professional', 'hockey', 'players', 'at', 'the', 'World', 'Championships', 'in', 'Montreal', 'and', 'Winnipeg', 'Manitoba', 'Canada', 'The', 'decision', 'was', 'reversed', 'in', 'January', 'after', 'Brundage', 'said', 'that', 'ice', 'hockey', 's', 'status', 'as', 'an', 'Olympic', 'sport', 'would', 'be', 'in', 'jeopardy', 'if', 'the', 'change', 'was', 'made', 'In', 'response', 'Canada', 'withdrew', 'from', 'international', 'ice', 'hockey', 'competition', 'and', 'officials', 'stated', 'that', 'they', 'would', 'not', 'return', 'until', 'open', 'competition', 'was', 'instituted', 'G', 'nther', 'Sabetzki', 'became', 'president', 'of', 'the', 'IIHF', 'in', 'and', 'helped', 'to', 'resolve', 'the', 'dispute', 'with', 'the', 'CAHA', 'In', 'the', 'IIHF', 'agreed', 'to', 'allow', 'open', 'competition', 'between', 'all', 'players', 'in', 'the', 'World', 'Championships', 'However', 'NHL', 'players', 'were', 'still', 'not', 'allowed', 'to', 'play', 'in', 'the', 'Olympics', 'until', 'because', 'of', 'the', 'IOC', 's', 'amateur', 'only', 'policy', 'Greece', 'Australia', 'France', 'and', 'United', 'Kingdom', 'are', 'the', 'only', 'countries', 'to', 'be', 'represented', 'at', 'every', 'Olympic', 'Games', 'since', 'their', 'inception', 'in', 'While', 'countries', 'sometimes', 'miss', 'an', 'Olympics', 'due', 'to', 'a', 'lack', 'of', 'qualified', 'athletes', 'some', 'choose', 'to', 'boycott', 'a', 'celebration', 'of', 'the', 'Games', 'for', 'various', 'reasons', 'The', 'Olympic', 'Council', 'of', 'Ireland', 'boycotted', 'the', 'Berlin', 'Games', 'because', 'the', 'IOC', 'insisted', 'its', 'team', 'needed', 'to', 'be', 'restricted', 'to', 'the', 'Irish', 'Free', 'State', 'rather', 'than', 'representing', 'the', 'entire', 'island', 'of', 'Ireland', 'There', 'were', 'three', 'boycotts', 'of', 'the', 'Melbourne', 'Olympics', 'the', 'Netherlands', 'Spain', 'and', 'Switzerland', 'refused', 'to', 'attend', 'because', 'of', 'the', 'repression', 'of', 'the', 'Hungarian', 'uprising', 'by', 'the', 'Soviet', 'Union', 'but', 'did', 'send', 'an', 'equestrian', 'delegation', 'to', 'Stockholm', 'Cambodia', 'Egypt', 'Iraq', 'and', 'Lebanon', 'boycotted', 'the', 'Games', 'because', 'of', 'the', 'Suez', 'Crisis', 'and', 'the', 'People', 's', 'Republic', 'of', 'China', 'boycotted', 'the', 'Games', 'due', 'to', 'the', 'participation', 'of', 'the', 'Republic', 'of', 'China', 'composed', 'of', 'athletes', 'coming', 'from', 'Taiwan', 'In', 'and', 'a', 'large', 'number', 'of', 'African', 'countries', 'threatened', 'the', 'IOC', 'with', 'a', 'boycott', 'to', 'force', 'them', 'to', 'ban', 'South', 'Africa', 'and', 'Rhodesia', 'because', 'of', 'their', 'segregationist', 'rule', 'New', 'Zealand', 'was', 'also', 'one', 'of', 'the', 'African', 'boycott', 'targets', 'because', 'its', 'national', 'rugby', 'union', 'team', 'had', 'toured', 'apartheid', 'ruled', 'South', 'Africa', 'The', 'IOC', 'conceded', 'in', 'the', 'first', 'two', 'cases', 'but', 'refused', 'to', 'ban', 'New', 'Zealand', 'on', 'the', 'grounds', 'that', 'rugby', 'was', 'not', 'an', 'Olympic', 'sport', 'Fulfilling', 'their', 'threat', 'twenty', 'African', 'countries', 'were', 'joined', 'by', 'Guyana', 'and', 'Iraq', 'in', 'a', 'withdrawal', 'from', 'the', 'Montreal', 'Games', 'after', 'a', 'few', 'of', 'their', 'athletes', 'had', 'already', 'competed', 'The', 'Republic', 'of', 'China', 'Taiwan', 'was', 'excluded', 'from', 'the', 'Games', 'by', 'order', 'of', 'Pierre', 'Elliott', 'Trudeau', 'the', 'prime', 'minister', 'of', 'Canada', 'Trudeau', 's', 'action', 'was', 'widely', 'condemned', 'as', 'having', 'brought', 'shame', 'on', 'Canada', 'for', 'having', 'succumbed', 'to', 'political', 'pressure', 'to', 'keep', 'the', 'Chinese', 'delegation', 'from', 'competing', 'under', 'its', 'name', 'The', 'ROC', 'refused', 'a', 'proposed', 'compromise', 'that', 'would', 'have', 'still', 'allowed', 'them', 'to', 'use', 'the', 'ROC', 'flag', 'and', 'anthem', 'as', 'long', 'as', 'the', 'name', 'was', 'changed', 'Athletes', 'from', 'Taiwan', 'did', 'not', 'participate', 'again', 'until', 'when', 'they', 'returned', 'under', 'the', 'name', 'of', 'Chinese', 'Taipei', 'and', 'with', 'a', 'special', 'flag', 'and', 'anthem', 'In', 'and', 'the', 'Cold', 'War', 'opponents', 'boycotted', 'each', 'other', 's', 'Games', 'The', 'United', 'States', 'and', 'sixty', 'five', 'other', 'countries', 'boycotted', 'the', 'Moscow', 'Olympics', 'in', 'because', 'of', 'the', 'Soviet', 'invasion', 'of', 'Afghanistan', 'This', 'boycott', 'reduced', 'the', 'number', 'of', 'nations', 'participating', 'to', 'the', 'lowest', 'number', 'since', 'The', 'Soviet', 'Union', 'and', 'other', 'nations', 'countered', 'by', 'boycotting', 'the', 'Los', 'Angeles', 'Olympics', 'of', 'Although', 'a', 'boycott', 'led', 'by', 'the', 'Soviet', 'Union', 'depleted', 'the', 'field', 'in', 'certain', 'sports', 'National', 'Olympic', 'Committees', 'took', 'part', 'which', 'was', 'a', 'record', 'at', 'the', 'time', 'The', 'fact', 'that', 'Romania', 'a', 'Warsaw', 'Pact', 'country', 'opted', 'to', 'compete', 'despite', 'Soviet', 'demands', 'led', 'to', 'a', 'warm', 'reception', 'of', 'the', 'Romanian', 'team', 'by', 'the', 'United', 'States', 'When', 'the', 'Romanian', 'athletes', 'entered', 'during', 'the', 'opening', 'ceremonies', 'they', 'received', 'a', 'standing', 'ovation', 'from', 'the', 'spectators', 'which', 'comprised', 'mostly', 'U', 'S', 'citizens', 'The', 'boycotting', 'nations', 'of', 'the', 'Eastern', 'Bloc', 'staged', 'their', 'own', 'alternate', 'event', 'the', 'Friendship', 'Games', 'in', 'July', 'and', 'August', 'There', 'had', 'been', 'growing', 'calls', 'for', 'boycotts', 'of', 'Chinese', 'goods', 'and', 'the', 'Olympics', 'in', 'Beijing', 'in', 'protest', 'of', 'China', 's', 'human', 'rights', 'record', 'and', 'in', 'response', 'to', 'Tibetan', 'disturbances', 'Ultimately', 'no', 'nation', 'supported', 'a', 'boycott', 'In', 'August', 'the', 'government', 'of', 'Georgia', 'called', 'for', 'a', 'boycott', 'of', 'the', 'Winter', 'Olympics', 'set', 'to', 'be', 'held', 'in', 'Sochi', 'Russia', 'in', 'response', 'to', 'Russia', 's', 'participation', 'in', 'the', 'South', 'Ossetia', 'war', 'The', 'Olympic', 'Games', 'have', 'been', 'used', 'as', 'a', 'platform', 'to', 'promote', 'political', 'ideologies', 'almost', 'from', 'its', 'inception', 'Nazi', 'Germany', 'wished', 'to', 'portray', 'the', 'National', 'Socialist', 'Party', 'as', 'benevolent', 'and', 'peace', 'loving', 'when', 'they', 'hosted', 'the', 'Games', 'though', 'they', 'used', 'the', 'Games', 'to', 'display', 'Aryan', 'superiority', 'Germany', 'was', 'the', 'most', 'successful', 'nation', 'at', 'the', 'Games', 'which', 'did', 'much', 'to', 'support', 'their', 'allegations', 'of', 'Aryan', 'supremacy', 'but', 'notable', 'victories', 'by', 'African', 'American', 'Jesse', 'Owens', 'who', 'won', 'four', 'gold', 'medals', 'and', 'Hungarian', 'Jew', 'Ibolya', 'Cs', 'k', 'blunted', 'the', 'message', 'The', 'Soviet', 'Union', 'did', 'not', 'participate', 'until', 'the', 'Summer', 'Olympics', 'in', 'Helsinki', 'Instead', 'starting', 'in', 'the', 'Soviets', 'organised', 'an', 'international', 'sports', 'event', 'called', 'Spartakiads', 'During', 'the', 'interwar', 'period', 'of', 'the', 's', 'and', 's', 'communist', 'and', 'socialist', 'organisations', 'in', 'several', 'countries', 'including', 'the', 'United', 'States', 'attempted', 'to', 'counter', 'what', 'they', 'called', 'the', 'bourgeois', 'Olympics', 'with', 'the', 'Workers', 'Olympics', 'It', 'was', 'not', 'until', 'the', 'Summer', 'Games', 'that', 'the', 'Soviets', 'emerged', 'as', 'a', 'sporting', 'superpower', 'and', 'in', 'doing', 'so', 'took', 'full', 'advantage', 'of', 'the', 'publicity', 'that', 'came', 'with', 'winning', 'at', 'the', 'Olympics', 'Soviet', 'Union', 's', 'success', 'might', 'be', 'attributed', 'to', 'a', 'heavy', 'state', 's', 'investment', 'in', 'sports', 'to', 'fulfill', 'its', 'political', 'agenda', 'on', 'an', 'international', 'stage', 'Individual', 'athletes', 'have', 'also', 'used', 'the', 'Olympic', 'stage', 'to', 'promote', 'their', 'own', 'political', 'agenda', 'At', 'the', 'Summer', 'Olympics', 'in', 'Mexico', 'City', 'two', 'American', 'track', 'and', 'field', 'athletes', 'Tommie', 'Smith', 'and', 'John', 'Carlos', 'who', 'finished', 'first', 'and', 'third', 'in', 'the', 'metres', 'performed', 'the', 'Black', 'Power', 'salute', 'on', 'the', 'victory', 'stand', 'The', 'second', 'place', 'finisher', 'Peter', 'Norman', 'of', 'Australia', 'wore', 'an', 'Olympic', 'Project', 'for', 'Human', 'Rights', 'badge', 'in', 'support', 'of', 'Smith', 'and', 'Carlos', 'In', 'response', 'to', 'the', 'protest', 'IOC', 'president', 'Avery', 'Brundage', 'ordered', 'Smith', 'and', 'Carlos', 'suspended', 'from', 'the', 'US', 'team', 'and', 'banned', 'from', 'the', 'Olympic', 'Village', 'When', 'the', 'US', 'Olympic', 'Committee', 'refused', 'Brundage', 'threatened', 'to', 'ban', 'the', 'entire', 'US', 'track', 'team', 'This', 'threat', 'led', 'to', 'the', 'expulsion', 'of', 'the', 'two', 'athletes', 'from', 'the', 'Games', 'In', 'another', 'notable', 'incident', 'in', 'the', 'gymnastics', 'competition', 'while', 'standing', 'on', 'the', 'medal', 'podium', 'after', 'the', 'balance', 'beam', 'event', 'final', 'in', 'which', 'Natalia', 'Kuchinskaya', 'of', 'the', 'Soviet', 'Union', 'had', 'controversially', 'taken', 'the', 'gold', 'Czechoslovakian', 'gymnast', 'V', 'ra', 'slavsk', 'quietly', 'turned', 'her', 'head', 'down', 'and', 'away', 'during', 'the', 'playing', 'of', 'the', 'Soviet', 'national', 'anthem', 'The', 'action', 'was', 'slavsk', 's', 'silent', 'protest', 'against', 'the', 'recent', 'Soviet', 'invasion', 'of', 'Czechoslovakia', 'Her', 'protest', 'was', 'repeated', 'when', 'she', 'accepted', 'her', 'medal', 'for', 'her', 'floor', 'exercise', 'routine', 'when', 'the', 'judges', 'changed', 'the', 'preliminary', 'scores', 'of', 'the', 'Soviet', 'Larisa', 'Petrik', 'to', 'allow', 'her', 'to', 'tie', 'with', 'slavsk', 'for', 'the', 'gold', 'While', 'slavsk', 's', 'countrymen', 'supported', 'her', 'actions', 'and', 'her', 'outspoken', 'opposition', 'to', 'Communism', 'she', 'had', 'publicly', 'signed', 'and', 'supported', 'Ludvik', 'Vaculik', 's', 'Two', 'Thousand', 'Words', 'manifesto', 'the', 'new', 'regime', 'responded', 'by', 'banning', 'her', 'from', 'both', 'sporting', 'events', 'and', 'international', 'travel', 'for', 'many', 'years', 'and', 'made', 'her', 'an', 'outcast', 'from', 'society', 'until', 'the', 'fall', 'of', 'communism', 'Currently', 'the', 'government', 'of', 'Iran', 'has', 'taken', 'steps', 'to', 'avoid', 'any', 'competition', 'between', 'its', 'athletes', 'and', 'those', 'from', 'Israel', 'An', 'Iranian', 'judoka', 'Arash', 'Miresmaeili', 'did', 'not', 'compete', 'in', 'a', 'match', 'against', 'an', 'Israeli', 'during', 'the', 'Summer', 'Olympics', 'Although', 'he', 'was', 'officially', 'disqualified', 'for', 'being', 'overweight', 'Miresmaeli', 'was', 'awarded', 'US', 'in', 'prize', 'money', 'by', 'the', 'Iranian', 'government', 'an', 'amount', 'paid', 'to', 'all', 'Iranian', 'gold', 'medal', 'winners', 'He', 'was', 'officially', 'cleared', 'of', 'intentionally', 'avoiding', 'the', 'bout', 'but', 'his', 'receipt', 'of', 'the', 'prize', 'money', 'raised', 'suspicion', 'In', 'the', 'early', 'th', 'century', 'many', 'Olympic', 'athletes', 'began', 'using', 'drugs', 'to', 'improve', 'their', 'athletic', 'abilities', 'For', 'example', 'in', 'Thomas', 'Hicks', 'a', 'gold', 'medallist', 'in', 'the', 'marathon', 'was', 'given', 'strychnine', 'by', 'his', 'coach', 'at', 'the', 'time', 'taking', 'different', 'substances', 'was', 'allowed', 'as', 'there', 'was', 'no', 'data', 'regarding', 'the', 'effect', 'of', 'these', 'substances', 'on', 'a', 'body', 'of', 'an', 'athlete', 'The', 'only', 'Olympic', 'death', 'linked', 'to', 'performance', 'enhancing', 'occurred', 'at', 'the', 'Rome', 'games', 'A', 'Danish', 'cyclist', 'Knud', 'Enemark', 'Jensen', 'fell', 'from', 'his', 'bicycle', 'and', 'later', 'died', 'A', 'coroner', 's', 'inquiry', 'found', 'that', 'he', 'was', 'under', 'the', 'influence', 'of', 'amphetamines', 'By', 'the', 'mid', 's', 'sports', 'federations', 'started', 'to', 'ban', 'the', 'use', 'of', 'performance', 'enhancing', 'drugs', 'in', 'the', 'IOC', 'followed', 'suit', 'According', 'to', 'British', 'journalist', 'Andrew', 'Jennings', 'a', 'KGB', 'colonel', 'stated', 'that', 'the', 'agency', 's', 'officers', 'had', 'posed', 'as', 'anti', 'doping', 'authorities', 'from', 'the', 'International', 'Olympic', 'Committee', 'to', 'undermine', 'doping', 'tests', 'and', 'that', 'Soviet', 'athletes', 'were', 'rescued', 'with', 'these', 'tremendous', 'efforts', 'On', 'the', 'topic', 'of', 'the', 'Summer', 'Olympics', 'a', 'Australian', 'study', 'said', 'There', 'is', 'hardly', 'a', 'medal', 'winner', 'at', 'the', 'Moscow', 'Games', 'certainly', 'not', 'a', 'gold', 'medal', 'winner', 'who', 'is', 'not', 'on', 'one', 'sort', 'of', 'drug', 'or', 'another', 'usually', 'several', 'kinds', 'The', 'Moscow', 'Games', 'might', 'as', 'well', 'have', 'been', 'called', 'the', 'Chemists', 'Games', 'Documents', 'obtained', 'in', 'revealed', 'the', 'Soviet', 'Union', 's', 'plans', 'for', 'a', 'statewide', 'doping', 'system', 'in', 'track', 'and', 'field', 'in', 'preparation', 'for', 'the', 'Summer', 'Olympics', 'in', 'Los', 'Angeles', 'Dated', 'prior', 'to', 'the', 'country', 's', 'decision', 'to', 'boycott', 'the', 'Games', 'the', 'document', 'detailed', 'the', 'existing', 'steroids', 'operations', 'of', 'the', 'program', 'along', 'with', 'suggestions', 'for', 'further', 'enhancements', 'The', 'communication', 'directed', 'to', 'the', 'Soviet', 'Union', 's', 'head', 'of', 'track', 'and', 'field', 'was', 'prepared', 'by', 'Dr', 'Sergei', 'Portugalov', 'of', 'the', 'Institute', 'for', 'Physical', 'Culture', 'Portugalov', 'was', 'also', 'one', 'of', 'the', 'main', 'figures', 'involved', 'in', 'the', 'implementation', 'of', 'the', 'Russian', 'doping', 'programme', 'prior', 'to', 'the', 'Summer', 'Olympics', 'The', 'first', 'Olympic', 'athlete', 'to', 'test', 'positive', 'for', 'the', 'use', 'of', 'performance', 'enhancing', 'drugs', 'was', 'Hans', 'Gunnar', 'Liljenwall', 'a', 'Swedish', 'pentathlete', 'at', 'the', 'Summer', 'Olympics', 'who', 'lost', 'his', 'bronze', 'medal', 'for', 'alcohol', 'use', 'One', 'of', 'the', 'most', 'publicised', 'doping', 'related', 'disqualifications', 'occurred', 'after', 'the', 'Summer', 'Olympics', 'where', 'Canadian', 'sprinter', 'Ben', 'Johnson', 'who', 'won', 'the', 'metre', 'dash', 'tested', 'positive', 'for', 'stanozolol', 'In', 'the', 'IOC', 'formed', 'the', 'World', 'Anti', 'Doping', 'Agency', 'WADA', 'in', 'an', 'effort', 'to', 'systematise', 'the', 'research', 'and', 'detection', 'of', 'performance', 'enhancing', 'drugs', 'There', 'was', 'a', 'sharp', 'increase', 'in', 'positive', 'drug', 'tests', 'at', 'the', 'Summer', 'Olympics', 'and', 'Winter', 'Olympics', 'due', 'to', 'improved', 'testing', 'conditions', 'Several', 'medallists', 'in', 'weightlifting', 'and', 'cross', 'country', 'skiing', 'from', 'post', 'Soviet', 'states', 'were', 'disqualified', 'because', 'of', 'doping', 'offences', 'The', 'IOC', 'established', 'drug', 'testing', 'regimen', 'now', 'known', 'as', 'the', 'Olympic', 'Standard', 'has', 'set', 'the', 'worldwide', 'benchmark', 'that', 'other', 'sporting', 'federations', 'attempt', 'to', 'emulate', 'During', 'the', 'Beijing', 'games', 'athletes', 'were', 'tested', 'by', 'the', 'IOC', 'under', 'the', 'auspices', 'of', 'the', 'World', 'Anti', 'Doping', 'Agency', 'Both', 'urine', 'and', 'blood', 'tests', 'were', 'used', 'to', 'detect', 'banned', 'substances', 'In', 'London', 'over', 'Olympic', 'and', 'Paralympic', 'athletes', 'were', 'tested', 'Prior', 'to', 'the', 'Games', 'athletes', 'tested', 'positive', 'for', 'banned', 'substances', 'and', 'were', 'not', 'allowed', 'to', 'compete', 'Doping', 'in', 'Russian', 'sports', 'has', 'a', 'systemic', 'nature', 'Russia', 'has', 'had', 'Olympic', 'medals', 'stripped', 'for', 'doping', 'violations', 'the', 'most', 'of', 'any', 'country', 'more', 'than', 'three', 'times', 'the', 'number', 'of', 'the', 'runner', 'up', 'and', 'more', 'than', 'a', 'quarter', 'of', 'the', 'global', 'total', 'From', 'to', 'more', 'than', 'a', 'thousand', 'Russian', 'competitors', 'in', 'various', 'sports', 'including', 'summer', 'winter', 'and', 'Paralympic', 'sports', 'benefited', 'from', 'a', 'cover', 'up', 'Russia', 'was', 'partially', 'banned', 'from', 'the', 'Summer', 'Olympics', 'and', 'was', 'banned', 'from', 'the', 'Winter', 'Olympics', 'while', 'being', 'allowed', 'to', 'participate', 'as', 'the', 'Olympic', 'Athletes', 'from', 'Russia', 'due', 'to', 'the', 'state', 'sponsored', 'doping', 'programme', 'In', 'December', 'Russia', 'was', 'banned', 'for', 'four', 'years', 'from', 'all', 'major', 'sporting', 'events', 'for', 'systematic', 'doping', 'and', 'lying', 'to', 'WADA', 'The', 'ban', 'was', 'issued', 'by', 'WADA', 'on', 'December', 'and', 'the', 'Russian', 'anti', 'doping', 'agency', 'RUSADA', 'had', 'days', 'to', 'make', 'an', 'appeal', 'to', 'the', 'Court', 'of', 'Arbitration', 'for', 'Sport', 'CAS', 'The', 'ban', 'meant', 'that', 'Russian', 'athletes', 'would', 'only', 'be', 'allowed', 'to', 'compete', 'under', 'the', 'Olympic', 'flag', 'after', 'passing', 'anti', 'doping', 'tests', 'Russia', 'appealed', 'the', 'decision', 'to', 'the', 'CAS', 'The', 'CAS', 'on', 'review', 'of', 'Russia', 's', 'appeal', 'of', 'its', 'case', 'from', 'WADA', 'ruled', 'on', 'December', 'to', 'reduce', 'the', 'penalty', 'that', 'WADA', 'had', 'placed', 'Instead', 'of', 'banning', 'Russia', 'from', 'sporting', 'events', 'the', 'ruling', 'allowed', 'Russia', 'to', 'participate', 'at', 'the', 'Olympics', 'and', 'other', 'international', 'events', 'but', 'for', 'a', 'period', 'of', 'two', 'years', 'the', 'team', 'can', 'not', 'use', 'the', 'Russian', 'name', 'flag', 'or', 'anthem', 'and', 'must', 'present', 'themselves', 'as', 'Neutral', 'Athlete', 'or', 'Neutral', 'Team', 'The', 'ruling', 'does', 'allow', 'for', 'team', 'uniforms', 'to', 'display', 'Russia', 'on', 'the', 'uniform', 'as', 'well', 'as', 'the', 'use', 'of', 'the', 'Russian', 'flag', 'colors', 'within', 'the', 'uniform', 's', 'design', 'although', 'the', 'name', 'should', 'be', 'up', 'to', 'equal', 'predominance', 'as', 'the', 'Neutral', 'Athlete', 'Team', 'designation', 'Women', 'were', 'first', 'allowed', 'to', 'compete', 'at', 'the', 'Summer', 'Olympics', 'in', 'Paris', 'but', 'at', 'the', 'Summer', 'Olympics', 'countries', 'were', 'still', 'only', 'fielding', 'all', 'male', 'delegations', 'This', 'number', 'dropped', 'rapidly', 'over', 'the', 'following', 'years', 'In', 'Bahrain', 'sent', 'two', 'women', 'competitors', 'for', 'the', 'first', 'time', 'Fatema', 'Hameed', 'Gerashi', 'and', 'Mariam', 'Mohamed', 'Hadi', 'Al', 'Hilli', 'In', 'Robina', 'Muqimyar', 'and', 'Fariba', 'Rezayee', 'became', 'the', 'first', 'women', 'to', 'compete', 'for', 'Afghanistan', 'at', 'the', 'Olympics', 'In', 'the', 'United', 'Arab', 'Emirates', 'sent', 'female', 'athletes', 'Maitha', 'Al', 'Maktoum', 'competed', 'in', 'taekwondo', 'and', 'Latifa', 'Al', 'Maktoum', 'in', 'equestrian', 'to', 'the', 'Olympic', 'Games', 'for', 'the', 'first', 'time', 'Both', 'athletes', 'were', 'from', 'Dubai', 's', 'ruling', 'family', 'By', 'only', 'three', 'countries', 'had', 'never', 'sent', 'female', 'athletes', 'to', 'the', 'Games', 'Brunei', 'Saudi', 'Arabia', 'and', 'Qatar', 'Brunei', 'had', 'taken', 'part', 'in', 'only', 'three', 'celebrations', 'of', 'the', 'Games', 'sending', 'a', 'single', 'athlete', 'on', 'each', 'occasion', 'but', 'Saudi', 'Arabia', 'and', 'Qatar', 'had', 'been', 'competing', 'regularly', 'with', 'all', 'male', 'teams', 'In', 'the', 'International', 'Olympic', 'Committee', 'announced', 'it', 'would', 'press', 'these', 'countries', 'to', 'enable', 'and', 'facilitate', 'the', 'participation', 'of', 'women', 'for', 'the', 'Summer', 'Olympics', 'in', 'London', 'Anita', 'DeFrantz', 'chair', 'of', 'the', 'IOC', 's', 'Women', 'and', 'Sports', 'Commission', 'suggested', 'that', 'countries', 'be', 'barred', 'if', 'they', 'prevented', 'women', 'from', 'competing', 'Shortly', 'thereafter', 'the', 'Qatar', 'Olympic', 'Committee', 'announced', 'that', 'it', 'hoped', 'to', 'send', 'up', 'to', 'four', 'female', 'athletes', 'in', 'shooting', 'and', 'fencing', 'to', 'the', 'Summer', 'Games', 'In', 'Ali', 'Al', 'Ahmed', 'director', 'of', 'the', 'Institute', 'for', 'Gulf', 'Affairs', 'likewise', 'called', 'for', 'Saudi', 'Arabia', 'to', 'be', 'barred', 'from', 'the', 'Games', 'describing', 'its', 'ban', 'on', 'women', 'athletes', 'as', 'a', 'violation', 'of', 'the', 'International', 'Olympic', 'Committee', 'charter', 'He', 'noted', 'For', 'the', 'last', 'years', 'many', 'international', 'nongovernmental', 'organisations', 'worldwide', 'have', 'been', 'trying', 'to', 'lobby', 'the', 'IOC', 'for', 'better', 'enforcement', 'of', 'its', 'own', 'laws', 'banning', 'gender', 'discrimination', 'While', 'their', 'efforts', 'did', 'result', 'in', 'increasing', 'numbers', 'of', 'women', 'Olympians', 'the', 'IOC', 'has', 'been', 'reluctant', 'to', 'take', 'a', 'strong', 'position', 'and', 'threaten', 'the', 'discriminating', 'countries', 'with', 'suspension', 'or', 'expulsion', 'In', 'July', 'The', 'Independent', 'reported', 'Pressure', 'is', 'growing', 'on', 'the', 'International', 'Olympic', 'Committee', 'to', 'kick', 'out', 'Saudi', 'Arabia', 'who', 'are', 'likely', 'to', 'be', 'the', 'only', 'major', 'nation', 'not', 'to', 'include', 'women', 'in', 'their', 'Olympic', 'team', 'for', 'Should', 'Saudi', 'Arabia', 'send', 'a', 'male', 'only', 'team', 'to', 'London', 'we', 'understand', 'they', 'will', 'face', 'protests', 'from', 'equal', 'rights', 'and', 'women', 's', 'groups', 'which', 'threaten', 'to', 'disrupt', 'the', 'Games', 'At', 'the', 'Summer', 'Olympics', 'every', 'participating', 'nation', 'included', 'female', 'athletes', 'for', 'the', 'first', 'time', 'in', 'Olympic', 'history', 'Saudi', 'Arabia', 'included', 'two', 'female', 'athletes', 'in', 'its', 'delegation', 'Qatar', 'four', 'and', 'Brunei', 'one', 'Maziah', 'Mahusin', 'in', 'the', 'm', 'hurdles', 'Qatar', 'made', 'one', 'of', 'its', 'first', 'female', 'Olympians', 'Bahiya', 'al', 'Hamad', 'shooting', 'its', 'flagbearer', 'at', 'the', 'Games', 'and', 'runner', 'Maryam', 'Yusuf', 'Jamal', 'of', 'Bahrain', 'became', 'the', 'first', 'Gulf', 'female', 'athlete', 'to', 'win', 'a', 'medal', 'when', 'she', 'won', 'a', 'bronze', 'for', 'her', 'showing', 'in', 'the', 'm', 'race', 'The', 'only', 'sport', 'on', 'the', 'Olympic', 'programme', 'that', 'features', 'men', 'and', 'women', 'competing', 'together', 'is', 'the', 'equestrian', 'disciplines', 'There', 'is', 'no', 'Women', 's', 'Eventing', 'or', 'Men', 's', 'Dressage', 'As', 'of', 'there', 'were', 'still', 'more', 'medal', 'events', 'for', 'men', 'than', 'women', 'With', 'the', 'addition', 'of', 'women', 's', 'boxing', 'to', 'the', 'programme', 'in', 'the', 'Summer', 'Olympics', 'however', 'female', 'athletes', 'were', 'able', 'to', 'compete', 'in', 'all', 'the', 'same', 'sports', 'as', 'men', 'In', 'the', 'winter', 'Olympics', 'women', 'are', 'still', 'unable', 'to', 'compete', 'in', 'the', 'Nordic', 'combined', 'There', 'are', 'currently', 'two', 'Olympic', 'events', 'in', 'which', 'male', 'athletes', 'may', 'not', 'compete', 'synchronised', 'swimming', 'and', 'rhythmic', 'gymnastics', 'The', 'world', 'wars', 'caused', 'three', 'Olympiads', 'to', 'pass', 'without', 'a', 'celebration', 'of', 'the', 'Games', 'the', 'Games', 'were', 'cancelled', 'because', 'of', 'World', 'War', 'I', 'and', 'the', 'summer', 'and', 'winter', 'games', 'of', 'and', 'were', 'cancelled', 'because', 'of', 'World', 'War', 'II', 'The', 'Russo', 'Georgian', 'War', 'between', 'Georgia', 'and', 'Russia', 'erupted', 'on', 'the', 'opening', 'day', 'of', 'the', 'Summer', 'Olympics', 'in', 'Beijing', 'Both', 'President', 'Bush', 'and', 'Prime', 'Minister', 'Putin', 'were', 'attending', 'the', 'Olympics', 'at', 'that', 'time', 'and', 'spoke', 'together', 'about', 'the', 'conflict', 'at', 'a', 'luncheon', 'hosted', 'by', 'the', 'Chinese', 'president', 'Hu', 'Jintao', 'Terrorism', 'most', 'directly', 'affected', 'the', 'Olympic', 'Games', 'in', 'When', 'the', 'Summer', 'Games', 'were', 'held', 'in', 'Munich', 'Germany', 'eleven', 'members', 'of', 'the', 'Israeli', 'Olympic', 'team', 'were', 'taken', 'hostage', 'by', 'the', 'Palestinian', 'terrorist', 'group', 'Black', 'September', 'in', 'what', 'is', 'now', 'known', 'as', 'the', 'Munich', 'massacre', 'The', 'terrorists', 'killed', 'two', 'of', 'the', 'athletes', 'soon', 'after', 'taking', 'them', 'hostage', 'and', 'killed', 'the', 'other', 'nine', 'during', 'a', 'failed', 'liberation', 'attempt', 'A', 'German', 'police', 'officer', 'and', 'five', 'of', 'the', 'terrorists', 'also', 'died', 'Following', 'the', 'selection', 'of', 'Barcelona', 'Spain', 'to', 'host', 'the', 'Summer', 'Olympics', 'the', 'separatist', 'ETA', 'terrorist', 'organisation', 'launched', 'attacks', 'in', 'the', 'region', 'including', 'the', 'bombing', 'in', 'the', 'Catalonian', 'city', 'of', 'Vic', 'that', 'killed', 'ten', 'people', 'Terrorism', 'affected', 'two', 'Olympic', 'Games', 'held', 'in', 'the', 'United', 'States', 'During', 'the', 'Summer', 'Olympics', 'in', 'Atlanta', 'a', 'bomb', 'was', 'detonated', 'at', 'the', 'Centennial', 'Olympic', 'Park', 'killing', 'two', 'people', 'and', 'injuring', 'others', 'The', 'bomb', 'was', 'set', 'by', 'Eric', 'Rudolph', 'an', 'American', 'domestic', 'terrorist', 'who', 'is', 'serving', 'a', 'life', 'sentence', 'for', 'the', 'bombing', 'The', 'Winter', 'Olympics', 'in', 'Salt', 'Lake', 'City', 'took', 'place', 'just', 'five', 'months', 'after', 'the', 'September', 'attacks', 'which', 'meant', 'a', 'higher', 'level', 'of', 'security', 'than', 'ever', 'before', 'provided', 'for', 'an', 'Olympic', 'Games', 'The', 'opening', 'ceremonies', 'of', 'the', 'Games', 'featured', 'symbols', 'relating', 'to', 'including', 'the', 'flag', 'that', 'flew', 'at', 'Ground', 'Zero', 'and', 'honour', 'guards', 'of', 'NYPD', 'and', 'FDNY', 'members', 'The', 'Olympic', 'Charter', 'requires', 'that', 'an', 'athlete', 'be', 'a', 'national', 'of', 'the', 'country', 'for', 'which', 'they', 'compete', 'Dual', 'nationals', 'may', 'compete', 'for', 'either', 'country', 'as', 'long', 'as', 'three', 'years', 'have', 'passed', 'since', 'the', 'competitor', 'competed', 'for', 'the', 'former', 'country', 'However', 'if', 'the', 'NOCs', 'and', 'IF', 'involved', 'agree', 'then', 'the', 'IOC', 'Executive', 'Board', 'may', 'reduce', 'or', 'cancel', 'this', 'period', 'This', 'waiting', 'period', 'exists', 'only', 'for', 'athletes', 'who', 'previously', 'competed', 'for', 'one', 'nation', 'and', 'want', 'to', 'compete', 'for', 'another', 'If', 'an', 'athlete', 'gains', 'a', 'new', 'or', 'second', 'nationality', 'then', 'they', 'do', 'not', 'need', 'to', 'wait', 'any', 'designated', 'amount', 'of', 'time', 'before', 'participating', 'for', 'the', 'new', 'or', 'second', 'nation', 'The', 'IOC', 'is', 'only', 'concerned', 'with', 'issues', 'of', 'citizenship', 'and', 'nationality', 'after', 'individual', 'nations', 'have', 'granted', 'citizenship', 'to', 'athletes', 'Occasionally', 'an', 'athlete', 'will', 'become', 'a', 'citizen', 'of', 'a', 'different', 'country', 'to', 'enable', 'them', 'to', 'compete', 'in', 'the', 'Olympics', 'This', 'is', 'often', 'because', 'they', 'are', 'attracted', 'to', 'sponsorship', 'deals', 'or', 'training', 'facilities', 'in', 'the', 'other', 'country', 'or', 'the', 'athlete', 'might', 'be', 'unable', 'to', 'qualify', 'from', 'within', 'their', 'country', 'of', 'birth', 'In', 'preparation', 'for', 'the', 'Winter', 'Olympics', 'in', 'Sochi', 'the', 'Russian', 'Olympic', 'Committee', 'naturalised', 'a', 'Korean', 'born', 'short', 'track', 'speed', 'skater', 'Ahn', 'Hyun', 'soo', 'and', 'an', 'American', 'born', 'snowboarder', 'Vic', 'Wild', 'The', 'two', 'athletes', 'won', 'five', 'gold', 'medals', 'and', 'one', 'bronze', 'medal', 'between', 'them', 'at', 'the', 'Games', 'One', 'of', 'the', 'most', 'famous', 'cases', 'of', 'changing', 'nationality', 'for', 'the', 'Olympics', 'was', 'Zola', 'Budd', 'a', 'South', 'African', 'runner', 'who', 'emigrated', 'to', 'the', 'United', 'Kingdom', 'because', 'there', 'was', 'an', 'apartheid', 'era', 'ban', 'on', 'the', 'Olympics', 'in', 'South', 'Africa', 'Budd', 'was', 'eligible', 'for', 'British', 'citizenship', 'because', 'her', 'grandfather', 'was', 'born', 'in', 'Britain', 'but', 'British', 'citizens', 'accused', 'the', 'government', 'of', 'expediting', 'the', 'citizenship', 'process', 'for', 'her', 'Other', 'notable', 'examples', 'include', 'Kenyan', 'runner', 'Bernard', 'Lagat', 'who', 'became', 'a', 'United', 'States', 'citizen', 'in', 'May', 'The', 'Kenyan', 'constitution', 'required', 'that', 'one', 'renounce', 'their', 'Kenyan', 'citizenship', 'when', 'they', 'became', 'a', 'citizen', 'of', 'another', 'nation', 'Lagat', 'competed', 'for', 'Kenya', 'in', 'the', 'Athens', 'Olympics', 'even', 'though', 'he', 'had', 'already', 'become', 'a', 'United', 'States', 'citizen', 'According', 'to', 'Kenya', 'he', 'was', 'no', 'longer', 'a', 'Kenyan', 'citizen', 'jeopardising', 'his', 'silver', 'medal', 'Lagat', 'said', 'he', 'started', 'the', 'citizenship', 'process', 'in', 'late', 'and', 'did', 'not', 'expect', 'to', 'become', 'an', 'American', 'citizen', 'until', 'after', 'the', 'Athens', 'games', 'He', 'was', 'allowed', 'to', 'keep', 'his', 'medal', 'by', 'the', 'IOC', 'Medals', 'are', 'awarded', 'to', 'the', 'athletes', 'or', 'teams', 'who', 'place', 'first', 'second', 'and', 'third', 'in', 'each', 'event', 'The', 'winners', 'receive', 'gold', 'medals', 'which', 'were', 'solid', 'gold', 'until', 'later', 'made', 'of', 'gilded', 'silver', 'and', 'now', 'gold', 'plated', 'silver', 'Every', 'gold', 'medal', 'must', 'contain', 'at', 'least', 'six', 'grams', 'of', 'pure', 'gold', 'The', 'runners', 'up', 'are', 'awarded', 'silver', 'medals', 'and', 'the', 'third', 'place', 'athletes', 'receive', 'bronze', 'medals', 'In', 'events', 'contested', 'by', 'a', 'single', 'elimination', 'tournament', 'most', 'notably', 'boxing', 'third', 'place', 'might', 'not', 'be', 'determined', 'and', 'the', 'losers', 'of', 'both', 'semi', 'finals', 'each', 'receive', 'a', 'bronze', 'medal', 'At', 'the', 'Olympics', 'only', 'the', 'winner', 'and', 'runner', 'up', 'of', 'each', 'event', 'received', 'medals', 'silver', 'for', 'first', 'and', 'bronze', 'for', 'second', 'with', 'no', 'gold', 'medals', 'awarded', 'The', 'current', 'three', 'medal', 'format', 'was', 'introduced', 'at', 'the', 'Olympics', 'From', 'onward', 'athletes', 'placing', 'fourth', 'fifth', 'and', 'sixth', 'have', 'received', 'certificates', 'which', 'came', 'to', 'be', 'known', 'officially', 'as', 'Olympic', 'diplomas', 'from', 'these', 'have', 'also', 'been', 'awarded', 'to', 'the', 'seventh', 'and', 'eighth', 'place', 'finishers', 'At', 'the', 'Summer', 'Olympics', 'in', 'Athens', 'the', 'gold', 'silver', 'and', 'bronze', 'medal', 'winners', 'were', 'also', 'presented', 'with', 'olive', 'wreaths', 'The', 'IOC', 'does', 'not', 'keep', 'statistics', 'of', 'medals', 'won', 'on', 'a', 'national', 'level', 'except', 'for', 'team', 'sports', 'but', 'the', 'NOCs', 'and', 'the', 'media', 'record', 'medal', 'statistics', 'and', 'use', 'them', 'as', 'a', 'measure', 'of', 'each', 'nation', 's', 'success', 'As', 'of', 'the', 'Games', 'in', 'Rio', 'de', 'Janeiro', 'all', 'of', 'the', 'current', 'NOCs', 'and', 'obsolete', 'NOCs', 'have', 'participated', 'in', 'at', 'least', 'one', 'edition', 'of', 'the', 'Summer', 'Olympics', 'Competitors', 'from', 'five', 'nations', 'Australia', 'France', 'b', 'Great', 'Britain', 'c', 'Greece', 'and', 'Switzerland', 'd', 'have', 'competed', 'in', 'all', 'Summer', 'Olympics', 'Athletes', 'competing', 'under', 'the', 'Olympic', 'flag', 'Mixed', 'Teams', 'and', 'the', 'Refugee', 'Team', 'have', 'competed', 'at', 'six', 'Summer', 'Games', 'A', 'total', 'of', 'NOCs', 'of', 'the', 'current', 'NOCs', 'and', 'nine', 'obsolete', 'NOCs', 'have', 'participated', 'in', 'at', 'least', 'one', 'edition', 'of', 'the', 'Winter', 'Olympics', 'Competitors', 'from', 'nations', 'Austria', 'Canada', 'Czech', 'Republic', 'e', 'Finland', 'France', 'Great', 'Britain', 'Hungary', 'Italy', 'Norway', 'Poland', 'Slovakia', 'e', 'Sweden', 'Switzerland', 'and', 'the', 'United', 'States', 'have', 'participated', 'in', 'all', 'Winter', 'Games', 'to', 'date', 'The', 'host', 'city', 'for', 'an', 'Olympic', 'Games', 'had', 'historically', 'been', 'chosen', 'seven', 'to', 'eight', 'years', 'ahead', 'of', 'their', 'celebration', 'Beginning', 'with', 'the', 'and', 'Olympics', 'selection', 'process', 'in', 'the', 'IOC', 'has', 'proceeded', 'to', 'announce', 'the', 'winning', 'bid', 'with', 'a', 'longer', 'lead', 'in', 'time', 'in', 'order', 'to', 'provide', 'time', 'for', 'the', 'winning', 'cities', 'regions', 'to', 'prepare', 'The', 'process', 'of', 'selection', 'is', 'carried', 'out', 'in', 'two', 'phases', 'that', 'span', 'a', 'two', 'year', 'period', 'The', 'prospective', 'host', 'city', 'applies', 'to', 'its', 'country', 's', 'National', 'Olympic', 'Committee', 'if', 'more', 'than', 'one', 'city', 'from', 'the', 'same', 'country', 'submits', 'a', 'proposal', 'to', 'its', 'NOC', 'the', 'national', 'committee', 'typically', 'holds', 'an', 'internal', 'selection', 'since', 'only', 'one', 'city', 'per', 'NOC', 'can', 'be', 'presented', 'to', 'the', 'International', 'Olympic', 'Committee', 'for', 'consideration', 'Once', 'the', 'deadline', 'for', 'submission', 'of', 'proposals', 'by', 'the', 'NOCs', 'is', 'reached', 'the', 'first', 'phase', 'Application', 'begins', 'with', 'the', 'applicant', 'cities', 'asked', 'to', 'complete', 'a', 'questionnaire', 'regarding', 'several', 'key', 'criteria', 'related', 'to', 'the', 'organisation', 'of', 'the', 'Olympic', 'Games', 'In', 'this', 'form', 'the', 'applicants', 'must', 'give', 'assurances', 'that', 'they', 'will', 'comply', 'with', 'the', 'Olympic', 'Charter', 'and', 'with', 'any', 'other', 'regulations', 'established', 'by', 'the', 'IOC', 'Executive', 'Committee', 'The', 'evaluation', 'of', 'the', 'filled', 'questionnaires', 'by', 'a', 'specialised', 'group', 'provides', 'the', 'IOC', 'with', 'an', 'overview', 'of', 'each', 'applicant', 's', 'project', 'and', 'their', 'potential', 'to', 'host', 'the', 'Games', 'On', 'the', 'basis', 'of', 'this', 'technical', 'evaluation', 'the', 'IOC', 'Executive', 'Board', 'selects', 'the', 'applicants', 'that', 'will', 'proceed', 'to', 'the', 'candidature', 'stage', 'Once', 'the', 'candidate', 'cities', 'are', 'selected', 'they', 'must', 'submit', 'to', 'the', 'IOC', 'a', 'bigger', 'and', 'more', 'detailed', 'presentation', 'of', 'their', 'project', 'as', 'part', 'of', 'a', 'candidature', 'file', 'Each', 'city', 'is', 'thoroughly', 'analysed', 'by', 'an', 'evaluation', 'commission', 'This', 'commission', 'will', 'also', 'visit', 'the', 'candidate', 'cities', 'interviewing', 'local', 'officials', 'and', 'inspecting', 'prospective', 'venue', 'sites', 'and', 'submit', 'a', 'report', 'on', 'its', 'findings', 'one', 'month', 'prior', 'to', 'the', 'IOC', 's', 'final', 'decision', 'During', 'the', 'interview', 'process', 'the', 'candidate', 'city', 'must', 'also', 'guarantee', 'that', 'it', 'will', 'be', 'able', 'to', 'fund', 'the', 'Games', 'After', 'the', 'work', 'of', 'the', 'evaluation', 'commission', 'a', 'list', 'of', 'candidates', 'is', 'presented', 'to', 'the', 'General', 'Session', 'of', 'the', 'IOC', 'which', 'must', 'assemble', 'in', 'a', 'country', 'that', 'does', 'not', 'have', 'a', 'candidate', 'city', 'in', 'the', 'running', 'The', 'IOC', 'members', 'gathered', 'in', 'the', 'Session', 'have', 'the', 'final', 'vote', 'on', 'the', 'host', 'city', 'Once', 'elected', 'the', 'host', 'city', 'bid', 'committee', 'together', 'with', 'the', 'NOC', 'of', 'the', 'respective', 'country', 'signs', 'a', 'Host', 'City', 'Contract', 'with', 'the', 'IOC', 'officially', 'becoming', 'an', 'Olympic', 'host', 'nation', 'and', 'host', 'city', 'By', 'the', 'Olympic', 'Games', 'will', 'have', 'been', 'hosted', 'by', 'cities', 'in', 'countries', 'As', 'of', 'since', 'the', 'Summer', 'Olympics', 'in', 'Seoul', 'South', 'Korea', 'the', 'Olympics', 'have', 'been', 'held', 'in', 'Asia', 'or', 'Oceania', 'four', 'times', 'a', 'sharp', 'increase', 'compared', 'to', 'the', 'previous', 'years', 'of', 'modern', 'Olympic', 'history', 'The', 'Games', 'in', 'Rio', 'de', 'Janeiro', 'were', 'the', 'first', 'Olympics', 'for', 'a', 'South', 'American', 'country', 'No', 'bids', 'from', 'countries', 'in', 'Africa', 'have', 'succeeded', 'The', 'United', 'States', 'hosted', 'four', 'Summer', 'Games', 'more', 'than', 'any', 'other', 'nation', 'The', 'British', 'capital', 'London', 'holds', 'the', 'distinction', 'of', 'hosting', 'three', 'Olympic', 'Games', 'all', 'Summer', 'more', 'than', 'any', 'other', 'city', 'Paris', 'which', 'previously', 'hosted', 'in', 'and', 'is', 'due', 'to', 'host', 'the', 'Summer', 'Games', 'for', 'a', 'third', 'time', 'in', 'and', 'Los', 'Angeles', 'which', 'previously', 'hosted', 'in', 'and', 'is', 'due', 'to', 'host', 'the', 'Summer', 'Games', 'for', 'a', 'third', 'time', 'in', 'The', 'other', 'nations', 'hosting', 'the', 'Summer', 'Games', 'at', 'least', 'twice', 'are', 'Germany', 'Australia', 'France', 'and', 'Greece', 'The', 'other', 'cities', 'hosting', 'the', 'Summer', 'Games', 'at', 'least', 'twice', 'are', 'Los', 'Angeles', 'Paris', 'and', 'Athens', 'The', 'Summer', 'Olympics', 'is', 'due', 'to', 'be', 'held', 'in', 'Tokyo', 'which', 'will', 'be', 'the', 'first', 'Asian', 'city', 'to', 'host', 'the', 'Olympics', 'for', 'the', 'second', 'time', 'The', 'United', 'States', 'hosted', 'four', 'Winter', 'Games', 'more', 'than', 'any', 'other', 'nation', 'The', 'other', 'nations', 'hosting', 'multiple', 'Winter', 'Games', 'are', 'France', 'with', 'three', 'while', 'Switzerland', 'Austria', 'Norway', 'Japan', 'Canada', 'and', 'Italy', 'have', 'hosted', 'twice', 'Among', 'host', 'cities', 'Lake', 'Placid', 'Innsbruck', 'and', 'St', 'Moritz', 'have', 'played', 'host', 'to', 'the', 'Winter', 'Olympic', 'Games', 'more', 'than', 'once', 'each', 'holding', 'that', 'honour', 'twice', 'The', 'most', 'recent', 'Winter', 'Games', 'were', 'held', 'in', 'Pyeongchang', 'in', 'South', 'Korea', 's', 'first', 'Winter', 'Olympics', 'and', 'second', 'Olympics', 'overall', 'after', 'the', 'Summer', 'Olympics', 'in', 'Seoul', 'Beijing', 'is', 'due', 'to', 'host', 'the', 'Winter', 'Olympics', 'which', 'will', 'make', 'it', 'the', 'first', 'city', 'to', 'host', 'both', 'the', 'Summer', 'and', 'Winter', 'Games']\n"
          ],
          "name": "stdout"
        }
      ]
    },
    {
      "cell_type": "code",
      "metadata": {
        "id": "-wGr8jCZ0MUW",
        "colab": {
          "base_uri": "https://localhost:8080/"
        },
        "outputId": "65f3436e-a785-45ef-c6e7-03ac9904e93d"
      },
      "source": [
        "maximum_frequency = max(word_frequencies.values())\n",
        "\n",
        "for word in word_frequencies.keys():\n",
        "  word_frequencies[word] = (word_frequencies[word]/maximum_frequency)\n",
        "\n",
        "print(word_frequencies)\n"
      ],
      "execution_count": 5,
      "outputs": [
        {
          "output_type": "stream",
          "text": [
            "{'The': 0.7510917030567685, 'modern': 0.039301310043668124, 'Olympic': 0.8908296943231441, 'Games': 1.0, 'Olympics': 0.5807860262008734, 'French': 0.03056768558951965, 'Jeux': 0.004366812227074236, 'olympiques': 0.004366812227074236, 'leading': 0.017467248908296942, 'international': 0.07423580786026202, 'sporting': 0.05240174672489083, 'events': 0.11353711790393013, 'featuring': 0.008733624454148471, 'summer': 0.03056768558951965, 'winter': 0.039301310043668124, 'sports': 0.27510917030567683, 'competitions': 0.008733624454148471, 'thousands': 0.004366812227074236, 'athletes': 0.26200873362445415, 'around': 0.013100436681222707, 'world': 0.026200873362445413, 'participate': 0.026200873362445413, 'variety': 0.008733624454148471, 'considered': 0.03056768558951965, 'foremost': 0.004366812227074236, 'competition': 0.039301310043668124, 'nations': 0.07860262008733625, 'participating': 0.03056768558951965, 'normally': 0.004366812227074236, 'held': 0.13973799126637554, 'every': 0.07423580786026202, 'four': 0.08733624454148471, 'years': 0.11353711790393013, 'alternating': 0.004366812227074236, 'Summer': 0.3318777292576419, 'Winter': 0.18777292576419213, 'two': 0.1222707423580786, 'year': 0.026200873362445413, 'period': 0.034934497816593885, 'Their': 0.004366812227074236, 'creation': 0.008733624454148471, 'inspired': 0.008733624454148471, 'ancient': 0.021834061135371178, 'Ancient': 0.021834061135371178, 'Greek': 0.0611353711790393, 'Olympia': 0.03056768558951965, 'Greece': 0.05240174672489083, 'th': 0.05240174672489083, 'century': 0.026200873362445413, 'BC': 0.017467248908296942, 'AD': 0.013100436681222707, 'Baron': 0.008733624454148471, 'Pierre': 0.03056768558951965, 'de': 0.039301310043668124, 'Coubertin': 0.043668122270742356, 'founded': 0.013100436681222707, 'International': 0.06986899563318777, 'Committee': 0.10480349344978165, 'IOC': 0.4497816593886463, 'first': 0.22270742358078602, 'Athens': 0.056768558951965066, 'governing': 0.004366812227074236, 'body': 0.017467248908296942, 'Movement': 0.034934497816593885, 'definition': 0.004366812227074236, 'needed': 0.013100436681222707, 'Charter': 0.039301310043668124, 'defining': 0.004366812227074236, 'structure': 0.004366812227074236, 'authority': 0.004366812227074236, 'evolution': 0.004366812227074236, 'st': 0.004366812227074236, 'centuries': 0.008733624454148471, 'resulted': 0.008733624454148471, 'several': 0.056768558951965066, 'changes': 0.008733624454148471, 'Some': 0.008733624454148471, 'adjustments': 0.004366812227074236, 'include': 0.017467248908296942, 'snow': 0.008733624454148471, 'ice': 0.026200873362445413, 'Paralympic': 0.03056768558951965, 'disabilities': 0.004366812227074236, 'Youth': 0.03056768558951965, 'aged': 0.004366812227074236, 'five': 0.043668122270742356, 'Continental': 0.004366812227074236, 'games': 0.048034934497816595, 'Pan': 0.004366812227074236, 'American': 0.06550218340611354, 'African': 0.026200873362445413, 'Asian': 0.008733624454148471, 'European': 0.017467248908296942, 'Pacific': 0.004366812227074236, 'World': 0.039301310043668124, 'contested': 0.017467248908296942, 'also': 0.12663755458515283, 'endorses': 0.004366812227074236, 'Deaflympics': 0.004366812227074236, 'Special': 0.004366812227074236, 'adapt': 0.004366812227074236, 'economic': 0.013100436681222707, 'political': 0.03056768558951965, 'technological': 0.004366812227074236, 'advancements': 0.004366812227074236, 'abuse': 0.004366812227074236, 'amateur': 0.03056768558951965, 'rules': 0.017467248908296942, 'Eastern': 0.017467248908296942, 'Bloc': 0.017467248908296942, 'prompted': 0.004366812227074236, 'shift': 0.013100436681222707, 'away': 0.013100436681222707, 'pure': 0.017467248908296942, 'amateurism': 0.013100436681222707, 'envisioned': 0.008733624454148471, 'acceptance': 0.008733624454148471, 'professional': 0.021834061135371178, 'growing': 0.013100436681222707, 'importance': 0.013100436681222707, 'mass': 0.008733624454148471, 'media': 0.017467248908296942, 'created': 0.017467248908296942, 'issue': 0.004366812227074236, 'corporate': 0.026200873362445413, 'sponsorship': 0.043668122270742356, 'general': 0.004366812227074236, 'commercialisation': 0.008733624454148471, 'wars': 0.013100436681222707, 'led': 0.03056768558951965, 'cancellation': 0.004366812227074236, 'large': 0.021834061135371178, 'scale': 0.013100436681222707, 'boycotts': 0.017467248908296942, 'Cold': 0.013100436681222707, 'War': 0.034934497816593885, 'limited': 0.008733624454148471, 'participation': 0.026200873362445413, 'postponed': 0.008733624454148471, 'result': 0.026200873362445413, 'COVID': 0.004366812227074236, 'pandemic': 0.004366812227074236, 'consists': 0.013100436681222707, 'federations': 0.026200873362445413, 'IFs': 0.008733624454148471, 'National': 0.026200873362445413, 'Committees': 0.013100436681222707, 'NOCs': 0.056768558951965066, 'organising': 0.021834061135371178, 'committees': 0.008733624454148471, 'specific': 0.008733624454148471, 'As': 0.05240174672489083, 'decision': 0.026200873362445413, 'making': 0.013100436681222707, 'responsible': 0.008733624454148471, 'choosing': 0.004366812227074236, 'host': 0.2183406113537118, 'city': 0.13973799126637554, 'organises': 0.004366812227074236, 'funds': 0.004366812227074236, 'according': 0.008733624454148471, 'determines': 0.004366812227074236, 'programme': 0.11790393013100436, 'consisting': 0.008733624454148471, 'There': 0.05240174672489083, 'rituals': 0.013100436681222707, 'symbols': 0.026200873362445413, 'flag': 0.07860262008733625, 'torch': 0.03056768558951965, 'well': 0.026200873362445413, 'opening': 0.048034934497816595, 'closing': 0.017467248908296942, 'ceremonies': 0.021834061135371178, 'Over': 0.013100436681222707, 'competed': 0.039301310043668124, 'combined': 0.013100436681222707, 'different': 0.021834061135371178, 'second': 0.05240174672489083, 'third': 0.039301310043668124, 'place': 0.0611353711790393, 'finishers': 0.008733624454148471, 'event': 0.0611353711790393, 'receive': 0.017467248908296942, 'medals': 0.07423580786026202, 'gold': 0.06986899563318777, 'silver': 0.03056768558951965, 'bronze': 0.034934497816593885, 'respectively': 0.004366812227074236, 'grown': 0.013100436681222707, 'much': 0.026200873362445413, 'nearly': 0.004366812227074236, 'nation': 0.08296943231441048, 'represented': 0.013100436681222707, 'This': 0.09606986899563319, 'growth': 0.004366812227074236, 'numerous': 0.004366812227074236, 'challenges': 0.004366812227074236, 'controversies': 0.008733624454148471, 'including': 0.03056768558951965, 'doping': 0.05240174672489083, 'bribery': 0.008733624454148471, 'terrorist': 0.017467248908296942, 'attack': 0.004366812227074236, 'Every': 0.013100436681222707, 'exposure': 0.008733624454148471, 'provide': 0.017467248908296942, 'chance': 0.008733624454148471, 'attain': 0.004366812227074236, 'national': 0.07860262008733625, 'sometimes': 0.008733624454148471, 'fame': 0.004366812227074236, 'opportunity': 0.004366812227074236, 'country': 0.1615720524017467, 'showcase': 0.004366812227074236, 'religious': 0.017467248908296942, 'athletic': 0.017467248908296942, 'festivals': 0.004366812227074236, 'sanctuary': 0.004366812227074236, 'Zeus': 0.021834061135371178, 'Competition': 0.004366812227074236, 'among': 0.008733624454148471, 'representatives': 0.004366812227074236, 'states': 0.013100436681222707, 'kingdoms': 0.004366812227074236, 'These': 0.043668122270742356, 'featured': 0.03056768558951965, 'mainly': 0.004366812227074236, 'combat': 0.004366812227074236, 'wrestling': 0.017467248908296942, 'pankration': 0.008733624454148471, 'horse': 0.004366812227074236, 'chariot': 0.008733624454148471, 'racing': 0.004366812227074236, 'It': 0.043668122270742356, 'widely': 0.013100436681222707, 'written': 0.004366812227074236, 'conflicts': 0.004366812227074236, 'finished': 0.008733624454148471, 'cessation': 0.004366812227074236, 'hostilities': 0.004366812227074236, 'known': 0.048034934497816595, 'peace': 0.008733624454148471, 'truce': 0.008733624454148471, 'idea': 0.008733624454148471, 'myth': 0.008733624454148471, 'Greeks': 0.008733624454148471, 'never': 0.021834061135371178, 'suspended': 0.008733624454148471, 'allow': 0.026200873362445413, 'pilgrims': 0.004366812227074236, 'travelling': 0.004366812227074236, 'pass': 0.008733624454148471, 'warring': 0.004366812227074236, 'territories': 0.008733624454148471, 'unmolested': 0.004366812227074236, 'protected': 0.004366812227074236, 'origin': 0.004366812227074236, 'shrouded': 0.004366812227074236, 'mystery': 0.004366812227074236, 'legend': 0.008733624454148471, 'one': 0.10043668122270742, 'popular': 0.013100436681222707, 'myths': 0.004366812227074236, 'identifies': 0.004366812227074236, 'Heracles': 0.013100436681222707, 'father': 0.004366812227074236, 'progenitors': 0.004366812227074236, 'According': 0.017467248908296942, 'called': 0.039301310043668124, 'established': 0.021834061135371178, 'custom': 0.004366812227074236, 'holding': 0.013100436681222707, 'continues': 0.008733624454148471, 'completed': 0.004366812227074236, 'twelve': 0.008733624454148471, 'labours': 0.004366812227074236, 'built': 0.008733624454148471, 'Stadium': 0.013100436681222707, 'honour': 0.021834061135371178, 'Following': 0.008733624454148471, 'completion': 0.004366812227074236, 'walked': 0.004366812227074236, 'straight': 0.004366812227074236, 'line': 0.004366812227074236, 'steps': 0.008733624454148471, 'distance': 0.008733624454148471, 'stadion': 0.004366812227074236, 'Latin': 0.008733624454148471, 'stadium': 0.043668122270742356, 'stage': 0.021834061135371178, 'later': 0.048034934497816595, 'became': 0.056768558951965066, 'unit': 0.004366812227074236, 'accepted': 0.008733624454148471, 'inception': 0.017467248908296942, 'date': 0.021834061135371178, 'based': 0.008733624454148471, 'inscriptions': 0.004366812227074236, 'found': 0.017467248908296942, 'listing': 0.004366812227074236, 'winners': 0.021834061135371178, 'footrace': 0.004366812227074236, 'starting': 0.017467248908296942, 'running': 0.008733624454148471, 'pentathlon': 0.008733624454148471, 'jumping': 0.008733624454148471, 'discus': 0.004366812227074236, 'javelin': 0.004366812227074236, 'throws': 0.004366812227074236, 'foot': 0.004366812227074236, 'race': 0.026200873362445413, 'boxing': 0.013100436681222707, 'equestrian': 0.017467248908296942, 'Tradition': 0.004366812227074236, 'Coroebus': 0.004366812227074236, 'cook': 0.004366812227074236, 'Elis': 0.004366812227074236, 'champion': 0.013100436681222707, 'fundamental': 0.004366812227074236, 'alongside': 0.004366812227074236, 'ritual': 0.004366812227074236, 'sacrifices': 0.004366812227074236, 'honouring': 0.004366812227074236, 'whose': 0.004366812227074236, 'famous': 0.013100436681222707, 'statue': 0.004366812227074236, 'Phidias': 0.004366812227074236, 'stood': 0.004366812227074236, 'temple': 0.004366812227074236, 'Pelops': 0.008733624454148471, 'divine': 0.004366812227074236, 'hero': 0.004366812227074236, 'mythical': 0.004366812227074236, 'king': 0.004366812227074236, 'King': 0.008733624454148471, 'Oenomaus': 0.004366812227074236, 'Pisatis': 0.004366812227074236, 'admired': 0.004366812227074236, 'immortalised': 0.004366812227074236, 'poems': 0.004366812227074236, 'statues': 0.004366812227074236, 'Olympiad': 0.013100436681222707, 'used': 0.039301310043668124, 'units': 0.004366812227074236, 'time': 0.10480349344978165, 'measurement': 0.004366812227074236, 'part': 0.043668122270742356, 'cycle': 0.008733624454148471, 'Panhellenic': 0.004366812227074236, 'included': 0.03056768558951965, 'Pythian': 0.004366812227074236, 'Nemean': 0.004366812227074236, 'Isthmian': 0.004366812227074236, 'reached': 0.013100436681222707, 'height': 0.004366812227074236, 'success': 0.021834061135371178, 'gradually': 0.004366812227074236, 'declined': 0.004366812227074236, 'Romans': 0.004366812227074236, 'gained': 0.008733624454148471, 'power': 0.008733624454148471, 'influence': 0.021834061135371178, 'While': 0.017467248908296942, 'scholarly': 0.004366812227074236, 'consensus': 0.004366812227074236, 'officially': 0.03056768558951965, 'ended': 0.004366812227074236, 'commonly': 0.008733624454148471, 'emperor': 0.004366812227074236, 'Theodosius': 0.008733624454148471, 'I': 0.008733624454148471, 'decreed': 0.004366812227074236, 'pagan': 0.004366812227074236, 'cults': 0.004366812227074236, 'practices': 0.004366812227074236, 'eliminated': 0.004366812227074236, 'Another': 0.008733624454148471, 'cited': 0.008733624454148471, 'successor': 0.004366812227074236, 'II': 0.013100436681222707, 'ordered': 0.008733624454148471, 'destruction': 0.004366812227074236, 'temples': 0.004366812227074236, 'Various': 0.004366812227074236, 'uses': 0.008733624454148471, 'term': 0.008733624454148471, 'describe': 0.004366812227074236, 'era': 0.008733624454148471, 'documented': 0.013100436681222707, 'since': 0.07423580786026202, 'Cotswold': 0.008733624454148471, 'Olimpick': 0.004366812227074236, 'annual': 0.017467248908296942, 'meeting': 0.008733624454148471, 'near': 0.004366812227074236, 'Chipping': 0.004366812227074236, 'Campden': 0.004366812227074236, 'England': 0.008733624454148471, 'involving': 0.004366812227074236, 'various': 0.03056768558951965, 'organised': 0.026200873362445413, 'lawyer': 0.004366812227074236, 'Robert': 0.004366812227074236, 'Dover': 0.004366812227074236, 'celebrations': 0.008733624454148471, 'present': 0.013100436681222707, 'day': 0.017467248908296942, 'British': 0.03056768558951965, 'Association': 0.017467248908296942, 'bid': 0.0611353711790393, 'London': 0.0611353711790393, 'mentioned': 0.004366812227074236, 'stirrings': 0.004366812227074236, 'Britain': 0.021834061135371178, 'beginnings': 0.004366812227074236, 'L': 0.004366812227074236, 'Olympiade': 0.004366812227074236, 'la': 0.004366812227074236, 'R': 0.004366812227074236, 'publique': 0.004366812227074236, 'festival': 0.013100436681222707, 'annually': 0.004366812227074236, 'Revolutionary': 0.004366812227074236, 'France': 0.034934497816593885, 'attempted': 0.008733624454148471, 'emulate': 0.008733624454148471, 'disciplines': 0.021834061135371178, 'marked': 0.004366812227074236, 'introduction': 0.008733624454148471, 'metric': 0.004366812227074236, 'system': 0.008733624454148471, 'sport': 0.06986899563318777, 'In': 0.18777292576419213, 'Raml': 0.008733624454148471, 'sa': 0.008733624454148471, 'sv': 0.004366812227074236, 'Olympiska': 0.004366812227074236, 'spelen': 0.004366812227074236, 'additional': 0.004366812227074236, 'Stockholm': 0.008733624454148471, 'Sweden': 0.008733624454148471, 'Gustaf': 0.004366812227074236, 'Johan': 0.004366812227074236, 'Schartau': 0.004366812227074236, 'others': 0.013100436681222707, 'At': 0.03056768558951965, 'spectators': 0.017467248908296942, 'saw': 0.004366812227074236, 'Olympian': 0.03056768558951965, 'Class': 0.004366812227074236, 'started': 0.013100436681222707, 'William': 0.004366812227074236, 'Penny': 0.004366812227074236, 'Brookes': 0.021834061135371178, 'Much': 0.013100436681222707, 'Wenlock': 0.034934497816593885, 'Shropshire': 0.008733624454148471, 'changed': 0.013100436681222707, 'name': 0.026200873362445413, 'Society': 0.008733624454148471, 'November': 0.008733624454148471, 'Between': 0.004366812227074236, 'Liverpool': 0.013100436681222707, 'Grand': 0.004366812227074236, 'Festival': 0.004366812227074236, 'Devised': 0.004366812227074236, 'John': 0.008733624454148471, 'Hulley': 0.008733624454148471, 'Charles': 0.004366812227074236, 'Melly': 0.004366812227074236, 'wholly': 0.004366812227074236, 'nature': 0.013100436681222707, 'outlook': 0.004366812227074236, 'although': 0.021834061135371178, 'gentlemen': 0.004366812227074236, 'amateurs': 0.013100436681222707, 'could': 0.017467248908296942, 'compete': 0.08733624454148471, 'almost': 0.008733624454148471, 'identical': 0.004366812227074236, 'E': 0.004366812227074236, 'G': 0.008733624454148471, 'Ravenstein': 0.004366812227074236, 'forerunner': 0.004366812227074236, 'Its': 0.004366812227074236, 'articles': 0.004366812227074236, 'foundation': 0.004366812227074236, 'provided': 0.013100436681222707, 'framework': 0.004366812227074236, 'Great': 0.013100436681222707, 'Crystal': 0.004366812227074236, 'Palace': 0.004366812227074236, 'interest': 0.026200873362445413, 'reviving': 0.004366812227074236, 'began': 0.017467248908296942, 'Independence': 0.004366812227074236, 'Ottoman': 0.008733624454148471, 'Empire': 0.008733624454148471, 'proposed': 0.013100436681222707, 'poet': 0.004366812227074236, 'newspaper': 0.004366812227074236, 'editor': 0.004366812227074236, 'Panagiotis': 0.004366812227074236, 'Soutsos': 0.004366812227074236, 'poem': 0.004366812227074236, 'Dialogue': 0.004366812227074236, 'Dead': 0.004366812227074236, 'published': 0.004366812227074236, 'Evangelos': 0.004366812227074236, 'Zappas': 0.026200873362445413, 'wealthy': 0.004366812227074236, 'Romanian': 0.013100436681222707, 'philanthropist': 0.004366812227074236, 'wrote': 0.004366812227074236, 'Otto': 0.004366812227074236, 'offering': 0.004366812227074236, 'fund': 0.013100436681222707, 'permanent': 0.008733624454148471, 'revival': 0.004366812227074236, 'sponsored': 0.021834061135371178, 'square': 0.004366812227074236, 'Athletes': 0.017467248908296942, 'participated': 0.017467248908296942, 'funded': 0.008733624454148471, 'restoration': 0.004366812227074236, 'Panathenaic': 0.008733624454148471, 'future': 0.026200873362445413, 'hosted': 0.0611353711790393, 'Thirty': 0.004366812227074236, 'thousand': 0.008733624454148471, 'attended': 0.004366812227074236, 'though': 0.021834061135371178, 'official': 0.026200873362445413, 'attendance': 0.004366812227074236, 'records': 0.013100436681222707, 'available': 0.008733624454148471, 'attending': 0.008733624454148471, 'ideas': 0.008733624454148471, 'work': 0.008733624454148471, 'aim': 0.004366812227074236, 'establishing': 0.008733624454148471, 'internationally': 0.008733624454148471, 'rotating': 0.004366812227074236, 'would': 0.039301310043668124, 'occur': 0.004366812227074236, 'He': 0.021834061135371178, 'presented': 0.021834061135371178, 'Congress': 0.021834061135371178, 'newly': 0.004366812227074236, 'June': 0.004366812227074236, 'University': 0.008733624454148471, 'Paris': 0.043668122270742356, 'On': 0.013100436681222707, 'last': 0.03056768558951965, 'decided': 0.013100436681222707, 'come': 0.004366812227074236, 'auspices': 0.013100436681222707, 'take': 0.021834061135371178, 'elected': 0.013100436681222707, 'writer': 0.004366812227074236, 'Demetrius': 0.004366812227074236, 'Vikelas': 0.004366812227074236, 'president': 0.05240174672489083, 'brought': 0.017467248908296942, 'together': 0.021834061135371178, 'cousin': 0.004366812227074236, 'Konstantinos': 0.004366812227074236, 'left': 0.008733624454148471, 'government': 0.026200873362445413, 'trust': 0.008733624454148471, 'help': 0.004366812227074236, 'finance': 0.004366812227074236, 'George': 0.004366812227074236, 'Averoff': 0.004366812227074236, 'contributed': 0.004366812227074236, 'generously': 0.004366812227074236, 'refurbishment': 0.004366812227074236, 'preparation': 0.013100436681222707, 'funding': 0.008733624454148471, 'expected': 0.004366812227074236, 'recouped': 0.004366812227074236, 'sale': 0.021834061135371178, 'tickets': 0.004366812227074236, 'commemorative': 0.004366812227074236, 'stamp': 0.004366812227074236, 'set': 0.021834061135371178, 'officials': 0.039301310043668124, 'public': 0.026200873362445413, 'enthusiastic': 0.004366812227074236, 'experience': 0.004366812227074236, 'hosting': 0.056768558951965066, 'feeling': 0.004366812227074236, 'shared': 0.004366812227074236, 'many': 0.034934497816593885, 'even': 0.021834061135371178, 'demanded': 0.008733624454148471, 'intended': 0.008733624454148471, 'subsequent': 0.004366812227074236, 'rotated': 0.004366812227074236, 'cities': 0.06550218340611354, 'After': 0.021834061135371178, 'entered': 0.021834061135371178, 'stagnation': 0.004366812227074236, 'threatened': 0.013100436681222707, 'survival': 0.004366812227074236, 'Exposition': 0.008733624454148471, 'Louisiana': 0.004366812227074236, 'Purchase': 0.004366812227074236, 'St': 0.008733624454148471, 'Louis': 0.004366812227074236, 'failed': 0.008733624454148471, 'attract': 0.013100436681222707, 'notice': 0.004366812227074236, 'Of': 0.008733624454148471, 'winner': 0.021834061135371178, 'marathon': 0.013100436681222707, 'disqualified': 0.013100436681222707, 'upon': 0.004366812227074236, 'discovery': 0.004366812227074236, 'photograph': 0.004366812227074236, 'riding': 0.004366812227074236, 'car': 0.004366812227074236, 'rebounded': 0.004366812227074236, 'Intercalated': 0.008733624454148471, 'within': 0.017467248908296942, 'attracted': 0.008733624454148471, 'broad': 0.008733624454148471, 'field': 0.03056768558951965, 'participants': 0.013100436681222707, 'generated': 0.004366812227074236, 'great': 0.004366812227074236, 'deal': 0.008733624454148471, 'marking': 0.004366812227074236, 'beginning': 0.013100436681222707, 'rise': 0.004366812227074236, 'popularity': 0.008733624454148471, 'size': 0.004366812227074236, 'recognised': 0.039301310043668124, 'longer': 0.017467248908296942, 'feature': 0.004366812227074236, 'logistically': 0.004366812227074236, 'impossible': 0.004366812227074236, 'hold': 0.013100436681222707, 'Figure': 0.004366812227074236, 'skating': 0.013100436681222707, 'hockey': 0.021834061135371178, 'desired': 0.004366812227074236, 'expand': 0.004366812227074236, 'list': 0.008733624454148471, 'encompass': 0.004366812227074236, 'activities': 0.004366812227074236, 'Lausanne': 0.004366812227074236, 'version': 0.021834061135371178, 'A': 0.039301310043668124, 'week': 0.004366812227074236, 'actually': 0.004366812227074236, 'days': 0.017467248908296942, 'Chamonix': 0.004366812227074236, 'connection': 0.004366812227074236, 'three': 0.0611353711790393, 'months': 0.008733624454148471, 'Although': 0.017467248908296942, 'given': 0.017467248908296942, 'quickly': 0.004366812227074236, 'abandoned': 0.004366812227074236, 'mandated': 0.008733624454148471, 'celebrated': 0.004366812227074236, 'counterpart': 0.004366812227074236, 'tradition': 0.008733624454148471, 'upheld': 0.004366812227074236, 'Albertville': 0.004366812227074236, 'Sir': 0.004366812227074236, 'Ludwig': 0.004366812227074236, 'Guttmann': 0.017467248908296942, 'determined': 0.008733624454148471, 'promote': 0.021834061135371178, 'rehabilitation': 0.004366812227074236, 'soldiers': 0.008733624454148471, 'multi': 0.004366812227074236, 'hospitals': 0.004366812227074236, 'coincide': 0.008733624454148471, 'Originally': 0.004366812227074236, 'Stoke': 0.004366812227074236, 'Mandeville': 0.004366812227074236, 'next': 0.017467248908296942, 'continued': 0.008733624454148471, 'efforts': 0.013100436681222707, 'use': 0.056768558951965066, 'avenue': 0.004366812227074236, 'healing': 0.004366812227074236, 'Rome': 0.008733624454148471, 'Parallel': 0.004366812227074236, 'ran': 0.008733624454148471, 'parallel': 0.004366812227074236, 'came': 0.021834061135371178, 'Paralympics': 0.017467248908296942, 'Since': 0.013100436681222707, 'Seoul': 0.013100436681222707, 'played': 0.026200873362445413, 'IPC': 0.004366812227074236, 'signed': 0.008733624454148471, 'agreement': 0.013100436681222707, 'guaranteed': 0.004366812227074236, 'contracted': 0.004366812227074236, 'manage': 0.004366812227074236, 'effect': 0.017467248908296942, 'Beijing': 0.034934497816593885, 'Vancouver': 0.004366812227074236, 'Two': 0.008733624454148471, 'LOCOG': 0.004366812227074236, 'chairman': 0.004366812227074236, 'Lord': 0.004366812227074236, 'Coe': 0.008733624454148471, 'made': 0.03056768558951965, 'following': 0.021834061135371178, 'statement': 0.004366812227074236, 'We': 0.004366812227074236, 'want': 0.013100436681222707, 'change': 0.008733624454148471, 'attitudes': 0.008733624454148471, 'towards': 0.004366812227074236, 'disability': 0.004366812227074236, 'celebrate': 0.004366812227074236, 'excellence': 0.004366812227074236, 'enshrine': 0.004366812227074236, 'outset': 0.004366812227074236, 'integrated': 0.004366812227074236, 'whole': 0.004366812227074236, 'complemented': 0.004366812227074236, 'give': 0.008733624454148471, 'ages': 0.004366812227074236, 'conceived': 0.004366812227074236, 'Jacques': 0.008733624454148471, 'Rogge': 0.004366812227074236, 'approved': 0.004366812227074236, 'Singapore': 0.008733624454148471, 'August': 0.017467248908296942, 'inaugural': 0.008733624454148471, 'Innsbruck': 0.008733624454148471, 'Austria': 0.013100436681222707, 'shorter': 0.004366812227074236, 'senior': 0.008733624454148471, 'nine': 0.021834061135371178, 'allows': 0.008733624454148471, 'scheduled': 0.004366812227074236, 'however': 0.008733624454148471, 'variations': 0.004366812227074236, 'mixed': 0.008733624454148471, 'NOC': 0.017467248908296942, 'gender': 0.008733624454148471, 'teams': 0.026200873362445413, 'reduced': 0.008733624454148471, 'number': 0.048034934497816595, 'representing': 0.021834061135371178, 'competitors': 0.017467248908296942, 'scope': 0.004366812227074236, 'smaller': 0.004366812227074236, 'example': 0.026200873362445413, 'Pyeongchang': 0.008733624454148471, 'Most': 0.008733624454148471, 'housed': 0.004366812227074236, 'Village': 0.008733624454148471, 'duration': 0.004366812227074236, 'accommodation': 0.004366812227074236, 'centre': 0.004366812227074236, 'designed': 0.004366812227074236, 'self': 0.013100436681222707, 'contained': 0.004366812227074236, 'home': 0.004366812227074236, 'furnished': 0.004366812227074236, 'cafeterias': 0.004366812227074236, 'health': 0.008733624454148471, 'clinics': 0.004366812227074236, 'locations': 0.008733624454148471, 'expression': 0.008733624454148471, 'allowed': 0.056768558951965066, 'formation': 0.008733624454148471, 'represent': 0.017467248908296942, 'individual': 0.008733624454148471, 'meet': 0.004366812227074236, 'strict': 0.004366812227074236, 'requirements': 0.004366812227074236, 'sovereignty': 0.004366812227074236, 'organisations': 0.017467248908296942, 'demand': 0.004366812227074236, 'colonies': 0.004366812227074236, 'dependencies': 0.004366812227074236, 'permitted': 0.004366812227074236, 'examples': 0.008733624454148471, 'Puerto': 0.004366812227074236, 'Rico': 0.004366812227074236, 'Bermuda': 0.004366812227074236, 'Hong': 0.004366812227074236, 'Kong': 0.004366812227074236, 'separate': 0.004366812227074236, 'despite': 0.008733624454148471, 'legally': 0.004366812227074236, 'another': 0.021834061135371178, 'current': 0.034934497816593885, 'establishment': 0.004366812227074236, 'new': 0.021834061135371178, 'qualify': 0.008733624454148471, 'independent': 0.013100436681222707, 'State': 0.008733624454148471, 'community': 0.004366812227074236, 'Consequently': 0.004366812227074236, 'Sint': 0.004366812227074236, 'Maarten': 0.004366812227074236, 'Cura': 0.004366812227074236, 'ao': 0.004366812227074236, 'constitutional': 0.004366812227074236, 'status': 0.017467248908296942, 'Aruba': 0.008733624454148471, 'Aruban': 0.004366812227074236, 'former': 0.017467248908296942, 'Netherlands': 0.013100436681222707, 'Antilles': 0.004366812227074236, 'option': 0.004366812227074236, 'either': 0.008733624454148471, 'Oxford': 0.013100436681222707, 'Study': 0.004366812227074236, 'related': 0.017467248908296942, 'costs': 0.048034934497816595, 'average': 0.013100436681222707, 'US': 0.06986899563318777, 'billion': 0.048034934497816595, 'figures': 0.013100436681222707, 'wider': 0.004366812227074236, 'infrastructure': 0.004366812227074236, 'like': 0.013100436681222707, 'roads': 0.004366812227074236, 'urban': 0.004366812227074236, 'rail': 0.004366812227074236, 'airports': 0.004366812227074236, 'often': 0.03056768558951965, 'cost': 0.0611353711790393, 'expensive': 0.021834061135371178, 'Sochi': 0.034934497816593885, 'per': 0.013100436681222707, 'athlete': 0.05240174672489083, 'million': 0.0611353711790393, 'figure': 0.013100436681222707, 'Where': 0.004366812227074236, 'ambitious': 0.004366812227074236, 'construction': 0.008733624454148471, 'Montreal': 0.017467248908296942, 'Moscow': 0.017467248908296942, 'burdened': 0.004366812227074236, 'organisers': 0.004366812227074236, 'expenses': 0.008733624454148471, 'greatly': 0.013100436681222707, 'excess': 0.013100436681222707, 'revenues': 0.004366812227074236, 'Los': 0.043668122270742356, 'Angeles': 0.043668122270742356, 'strictly': 0.008733624454148471, 'controlled': 0.004366812227074236, 'using': 0.013100436681222707, 'existing': 0.013100436681222707, 'facilities': 0.013100436681222707, 'paid': 0.03056768558951965, 'sponsors': 0.026200873362445413, 'Peter': 0.013100436681222707, 'Ueberroth': 0.008733624454148471, 'profits': 0.008733624454148471, 'endow': 0.004366812227074236, 'LA': 0.004366812227074236, 'Foundation': 0.013100436681222707, 'youth': 0.008733624454148471, 'Southern': 0.004366812227074236, 'California': 0.008733624454148471, 'educate': 0.004366812227074236, 'coaches': 0.004366812227074236, 'maintain': 0.004366812227074236, 'library': 0.004366812227074236, 'financially': 0.013100436681222707, 'successful': 0.017467248908296942, 'model': 0.004366812227074236, 'Budget': 0.004366812227074236, 'overruns': 0.013100436681222707, 'common': 0.004366812227074236, 'Average': 0.004366812227074236, 'overrun': 0.026200873362445413, 'real': 0.004366812227074236, 'terms': 0.013100436681222707, 'means': 0.008733624454148471, 'actual': 0.004366812227074236, 'turned': 0.008733624454148471, 'times': 0.013100436681222707, 'budget': 0.008733624454148471, 'estimated': 0.008733624454148471, 'winning': 0.017467248908296942, 'highest': 0.008733624454148471, 'Lake': 0.021834061135371178, 'Placid': 0.008733624454148471, 'follow': 0.004366812227074236, 'law': 0.004366812227074236, 'distribution': 0.004366812227074236, 'prone': 0.004366812227074236, 'matter': 0.008733624454148471, 'occurs': 0.008733624454148471, 'larger': 0.004366812227074236, 'largest': 0.004366812227074236, 'short': 0.008733624454148471, 'economically': 0.004366812227074236, 'extremely': 0.004366812227074236, 'risky': 0.004366812227074236, 'Many': 0.004366812227074236, 'economists': 0.004366812227074236, 'sceptical': 0.004366812227074236, 'benefits': 0.008733624454148471, 'emphasising': 0.004366812227074236, 'mega': 0.004366812227074236, 'yielding': 0.004366812227074236, 'relatively': 0.004366812227074236, 'tangible': 0.004366812227074236, 'long': 0.013100436681222707, 'run': 0.004366812227074236, 'Conversely': 0.004366812227074236, 'bidding': 0.013100436681222707, 'appears': 0.004366812227074236, 'increase': 0.017467248908296942, 'exports': 0.004366812227074236, 'candidate': 0.026200873362445413, 'sends': 0.004366812227074236, 'signal': 0.004366812227074236, 'trade': 0.008733624454148471, 'openness': 0.004366812227074236, 'Moreover': 0.004366812227074236, 'research': 0.008733624454148471, 'suggests': 0.008733624454148471, 'strong': 0.008733624454148471, 'positive': 0.026200873362445413, 'philanthropic': 0.004366812227074236, 'contributions': 0.004366812227074236, 'corporations': 0.008733624454148471, 'headquartered': 0.004366812227074236, 'seems': 0.004366812227074236, 'benefit': 0.008733624454148471, 'local': 0.026200873362445413, 'nonprofit': 0.008733624454148471, 'sector': 0.008733624454148471, 'begins': 0.008733624454148471, 'might': 0.026200873362445413, 'persist': 0.004366812227074236, 'afterwards': 0.004366812227074236, 'permanently': 0.004366812227074236, 'finding': 0.004366812227074236, 'create': 0.017467248908296942, 'opportunities': 0.004366812227074236, 'ways': 0.004366812227074236, 'civil': 0.004366812227074236, 'society': 0.008733624454148471, 'significant': 0.004366812227074236, 'negative': 0.004366812227074236, 'effects': 0.008733624454148471, 'communities': 0.004366812227074236, 'Centre': 0.004366812227074236, 'Housing': 0.004366812227074236, 'Rights': 0.008733624454148471, 'Evictions': 0.004366812227074236, 'reports': 0.004366812227074236, 'displaced': 0.004366812227074236, 'people': 0.013100436681222707, 'decades': 0.008733624454148471, 'disproportionately': 0.004366812227074236, 'affecting': 0.004366812227074236, 'disadvantaged': 0.008733624454148471, 'groups': 0.008733624454148471, 'history': 0.034934497816593885, 'costing': 0.004366812227074236, 'report': 0.008733624454148471, 'Bank': 0.004366812227074236, 'Reconstruction': 0.004366812227074236, 'Development': 0.004366812227074236, 'released': 0.004366812227074236, 'boost': 0.008733624454148471, 'Russia': 0.06550218340611354, 'economy': 0.004366812227074236, 'may': 0.017467248908296942, 'business': 0.008733624454148471, 'southern': 0.004366812227074236, 'Krasnodar': 0.004366812227074236, 'region': 0.013100436681222707, 'improved': 0.008733624454148471, 'services': 0.004366812227074236, 'But': 0.004366812227074236, 'December': 0.017467248908296942, 'Guardian': 0.008733624454148471, 'stated': 0.017467248908296942, 'feels': 0.004366812227074236, 'ghost': 0.004366812227074236, 'town': 0.013100436681222707, 'citing': 0.008733624454148471, 'spread': 0.004366812227074236, 'stadiums': 0.004366812227074236, 'arenas': 0.004366812227074236, 'still': 0.03056768558951965, 'unfinished': 0.004366812227074236, 'overall': 0.008733624454148471, 'turmoil': 0.004366812227074236, 'Furthermore': 0.004366812227074236, 'least': 0.03056768558951965, 'withdrew': 0.008733624454148471, 'bids': 0.013100436681222707, 'high': 0.013100436681222707, 'lack': 0.008733624454148471, 'support': 0.017467248908296942, 'resulting': 0.004366812227074236, 'Almaty': 0.004366812227074236, 'Kazakhstan': 0.004366812227074236, 'China': 0.021834061135371178, 'Thus': 0.004366812227074236, 'July': 0.021834061135371178, 'biggest': 0.004366812227074236, 'threat': 0.013100436681222707, 'Bidding': 0.004366812227074236, 'took': 0.021834061135371178, 'unusual': 0.004366812227074236, 'step': 0.004366812227074236, 'simultaneously': 0.004366812227074236, 'awarding': 0.004366812227074236, 'praised': 0.004366812227074236, 'record': 0.017467248908296942, 'breaking': 0.008733624454148471, 'temporary': 0.004366812227074236, 'relying': 0.004366812227074236, 'money': 0.021834061135371178, 'encompasses': 0.004366812227074236, 'partners': 0.004366812227074236, 'judges': 0.008733624454148471, 'person': 0.004366812227074236, 'institution': 0.004366812227074236, 'agrees': 0.004366812227074236, 'abide': 0.004366812227074236, 'umbrella': 0.004366812227074236, 'organisation': 0.017467248908296942, 'selecting': 0.004366812227074236, 'overseeing': 0.004366812227074236, 'planning': 0.004366812227074236, 'updating': 0.004366812227074236, 'approving': 0.004366812227074236, 'negotiating': 0.008733624454148471, 'broadcasting': 0.021834061135371178, 'rights': 0.07423580786026202, 'major': 0.026200873362445413, 'elements': 0.008733624454148471, 'English': 0.026200873362445413, 'languages': 0.013100436681222707, 'language': 0.021834061135371178, 'apart': 0.008733624454148471, 'proclamation': 0.004366812227074236, 'announcement': 0.004366812227074236, 'parade': 0.013100436681222707, 'ceremony': 0.06550218340611354, 'spoken': 0.008733624454148471, 'main': 0.008733624454148471, 'depending': 0.004366812227074236, 'whether': 0.008733624454148471, 'speaking': 0.004366812227074236, 'always': 0.004366812227074236, 'followed': 0.017467248908296942, 'translation': 0.004366812227074236, 'dominant': 0.004366812227074236, 'accused': 0.021834061135371178, 'intractable': 0.004366812227074236, 'life': 0.013100436681222707, 'members': 0.056768558951965066, 'committee': 0.043668122270742356, 'presidential': 0.004366812227074236, 'Avery': 0.017467248908296942, 'Brundage': 0.048034934497816595, 'Juan': 0.013100436681222707, 'Antonio': 0.013100436681222707, 'Samaranch': 0.026200873362445413, 'especially': 0.004366812227074236, 'controversial': 0.008733624454148471, 'fought': 0.008733624454148471, 'strongly': 0.004366812227074236, 'seen': 0.004366812227074236, 'incongruous': 0.004366812227074236, 'realities': 0.004366812227074236, 'advent': 0.013100436681222707, 'state': 0.021834061135371178, 'countries': 0.07860262008733625, 'eroded': 0.008733624454148471, 'ideology': 0.013100436681222707, 'placed': 0.008733624454148471, 'financed': 0.008733624454148471, 'Western': 0.013100436681222707, 'disadvantage': 0.008733624454148471, 'racism': 0.004366812227074236, 'resisting': 0.004366812227074236, 'exclusion': 0.013100436681222707, 'apartheid': 0.013100436681222707, 'South': 0.039301310043668124, 'Africa': 0.026200873362445413, 'antisemitism': 0.004366812227074236, 'Under': 0.008733624454148471, 'presidency': 0.004366812227074236, 'office': 0.004366812227074236, 'nepotism': 0.004366812227074236, 'corruption': 0.004366812227074236, 'ties': 0.004366812227074236, 'Franco': 0.004366812227074236, 'regime': 0.008733624454148471, 'Spain': 0.013100436681222707, 'source': 0.004366812227074236, 'criticism': 0.013100436681222707, 'reported': 0.013100436681222707, 'taken': 0.026200873362445413, 'gifts': 0.008733624454148471, 'Salt': 0.013100436681222707, 'City': 0.021834061135371178, 'soon': 0.008733624454148471, 'investigations': 0.004366812227074236, 'underway': 0.004366812227074236, 'United': 0.0611353711790393, 'States': 0.048034934497816595, 'USOC': 0.004366812227074236, 'Organizing': 0.004366812227074236, 'SLOC': 0.008733624454148471, 'Department': 0.004366812227074236, 'Justice': 0.004366812227074236, 'DOJ': 0.004366812227074236, 'nothing': 0.004366812227074236, 'illegal': 0.004366812227074236, 'occurred': 0.013100436681222707, 'felt': 0.008733624454148471, 'morally': 0.004366812227074236, 'dubious': 0.004366812227074236, 'investigation': 0.008733624454148471, 'ten': 0.017467248908296942, 'expelled': 0.004366812227074236, 'sanctioned': 0.004366812227074236, 'Stricter': 0.004366812227074236, 'adopted': 0.008733624454148471, 'caps': 0.004366812227074236, 'introduced': 0.017467248908296942, 'define': 0.004366812227074236, 'accept': 0.004366812227074236, 'Additionally': 0.004366812227074236, 'age': 0.004366812227074236, 'limits': 0.004366812227074236, 'put': 0.008733624454148471, 'membership': 0.008733624454148471, 'fifteen': 0.004366812227074236, 'added': 0.013100436681222707, 'Nevertheless': 0.004366812227074236, 'standpoints': 0.004366812227074236, 'marketing': 0.004366812227074236, 'programs': 0.004366812227074236, 'viewers': 0.008733624454148471, 'watched': 0.004366812227074236, 'viewer': 0.004366812227074236, 'hours': 0.004366812227074236, 'financial': 0.008733624454148471, 'raising': 0.004366812227074236, 'fewer': 0.004366812227074236, 'prior': 0.021834061135371178, 'leaving': 0.004366812227074236, 'surplus': 0.013100436681222707, 'revenue': 0.013100436681222707, 'Utah': 0.008733624454148471, 'Athletic': 0.004366812227074236, 'Legacy': 0.004366812227074236, 'maintains': 0.004366812227074236, 'operates': 0.004366812227074236, 'surviving': 0.004366812227074236, 'venues': 0.004366812227074236, 'Nagano': 0.013100436681222707, 'spent': 0.008733624454148471, 'approximately': 0.004366812227074236, 'entertaining': 0.004366812227074236, 'associates': 0.004366812227074236, 'precise': 0.004366812227074236, 'unknown': 0.004366812227074236, 'destroyed': 0.004366812227074236, 'requested': 0.004366812227074236, 'entertainment': 0.004366812227074236, 'expenditures': 0.004366812227074236, 'BBC': 0.004366812227074236, 'documentary': 0.008733624454148471, 'entitled': 0.004366812227074236, 'Panorama': 0.004366812227074236, 'Buying': 0.004366812227074236, 'aired': 0.004366812227074236, 'investigated': 0.004366812227074236, 'taking': 0.017467248908296942, 'bribes': 0.004366812227074236, 'process': 0.026200873362445413, 'claimed': 0.004366812227074236, 'possible': 0.008733624454148471, 'bribe': 0.004366812227074236, 'voting': 0.004366812227074236, 'particular': 0.004366812227074236, 'narrowly': 0.004366812227074236, 'defeated': 0.004366812227074236, 'Parisian': 0.004366812227074236, 'mayor': 0.013100436681222707, 'Bertrand': 0.004366812227074236, 'Delano': 0.004366812227074236, 'specifically': 0.004366812227074236, 'prime': 0.008733624454148471, 'minister': 0.008733624454148471, 'Tony': 0.004366812227074236, 'Blair': 0.004366812227074236, 'headed': 0.004366812227074236, 'Sebastian': 0.004366812227074236, 'Chirac': 0.008733624454148471, 'witness': 0.004366812227074236, 'gave': 0.004366812227074236, 'guarded': 0.004366812227074236, 'interviews': 0.004366812227074236, 'concerning': 0.004366812227074236, 'involvement': 0.004366812227074236, 'allegation': 0.004366812227074236, 'fully': 0.004366812227074236, 'explored': 0.004366812227074236, 'Turin': 0.013100436681222707, 'clouded': 0.004366812227074236, 'controversy': 0.004366812227074236, 'prominent': 0.004366812227074236, 'member': 0.008733624454148471, 'Marc': 0.004366812227074236, 'Hodler': 0.004366812227074236, 'closely': 0.004366812227074236, 'connected': 0.004366812227074236, 'rival': 0.004366812227074236, 'Sion': 0.008733624454148471, 'alleged': 0.004366812227074236, 'Organising': 0.004366812227074236, 'accusations': 0.004366812227074236, 'wide': 0.004366812227074236, 'ranging': 0.004366812227074236, 'served': 0.004366812227074236, 'sour': 0.004366812227074236, 'potentially': 0.004366812227074236, 'helped': 0.013100436681222707, 'capture': 0.004366812227074236, 'nomination': 0.004366812227074236, 'Anti': 0.013100436681222707, 'Defamation': 0.004366812227074236, 'League': 0.004366812227074236, 'refusal': 0.004366812227074236, 'moment': 0.008733624454148471, 'silence': 0.004366812227074236, 'eleven': 0.008733624454148471, 'Israeli': 0.017467248908296942, 'killed': 0.017467248908296942, 'Palestinian': 0.008733624454148471, 'terrorists': 0.013100436681222707, 'Munich': 0.013100436681222707, 'continuing': 0.004366812227074236, 'stubborn': 0.004366812227074236, 'insensitivity': 0.004366812227074236, 'callousness': 0.004366812227074236, 'memory': 0.004366812227074236, 'murdered': 0.004366812227074236, 'April': 0.004366812227074236, 'Norwegian': 0.004366812227074236, 'track': 0.026200873362445413, 'athletics': 0.004366812227074236, 'manager': 0.004366812227074236, 'H': 0.004366812227074236, 'kon': 0.004366812227074236, 'Lutdal': 0.004366812227074236, 'argued': 0.008733624454148471, 'abolishing': 0.004366812227074236, 'arguing': 0.004366812227074236, 'concept': 0.008733624454148471, 'gathering': 0.008733624454148471, 'single': 0.013100436681222707, 'unpopular': 0.004366812227074236, 'Instead': 0.013100436681222707, 'elevating': 0.004366812227074236, 'championships': 0.004366812227074236, 'usually': 0.013100436681222707, 'attracting': 0.004366812227074236, 'interested': 0.004366812227074236, 'group': 0.017467248908296942, 'scholars': 0.008733624454148471, 'criticised': 0.008733624454148471, 'enough': 0.004366812227074236, 'responsibility': 0.008733624454148471, 'controlling': 0.004366812227074236, 'increasing': 0.013100436681222707, 'study': 0.013100436681222707, 'countered': 0.008733624454148471, 'point': 0.008733624454148471, 'open': 0.013100436681222707, 'letter': 0.004366812227074236, 'President': 0.013100436681222707, 'Thomas': 0.008733624454148471, 'Bach': 0.004366812227074236, 'commercialised': 0.008733624454148471, 'degrees': 0.004366812227074236, 'companies': 0.013100436681222707, 'advertising': 0.013100436681222707, 'Kodak': 0.004366812227074236, 'Oxo': 0.004366812227074236, 'Odol': 0.004366812227074236, 'mouthwash': 0.004366812227074236, 'Indian': 0.004366812227074236, 'Foot': 0.004366812227074236, 'Powder': 0.004366812227074236, 'Coca': 0.004366812227074236, 'Cola': 0.004366812227074236, 'remained': 0.004366812227074236, 'sponsor': 0.004366812227074236, 'ever': 0.013100436681222707, 'Before': 0.004366812227074236, 'control': 0.008733624454148471, 'contracts': 0.008733624454148471, 'originally': 0.004366812227074236, 'resisted': 0.004366812227074236, 'retirement': 0.004366812227074236, 'explore': 0.004366812227074236, 'potential': 0.008733624454148471, 'television': 0.048034934497816595, 'medium': 0.008733624454148471, 'lucrative': 0.004366812227074236, 'markets': 0.004366812227074236, 'leadership': 0.004366812227074236, 'toward': 0.008733624454148471, 'sought': 0.008733624454148471, 'link': 0.008733624454148471, 'products': 0.004366812227074236, 'brand': 0.013100436681222707, 'During': 0.03056768558951965, 'half': 0.008733624454148471, 'small': 0.004366812227074236, 'rejected': 0.004366812227074236, 'attempts': 0.004366812227074236, 'commercial': 0.004366812227074236, 'believed': 0.004366812227074236, 'lobby': 0.013100436681222707, 'interests': 0.004366812227074236, 'unduly': 0.004366812227074236, 'impact': 0.004366812227074236, 'resistance': 0.004366812227074236, 'stream': 0.004366812227074236, 'meant': 0.013100436681222707, 'negotiate': 0.004366812227074236, 'When': 0.021834061135371178, 'retired': 0.004366812227074236, 'assets': 0.004366812227074236, 'eight': 0.008733624454148471, 'coffers': 0.004366812227074236, 'swelled': 0.008733624454148471, 'primarily': 0.004366812227074236, 'due': 0.043668122270742356, 'expansion': 0.004366812227074236, 'desire': 0.004366812227074236, 'make': 0.017467248908296942, 'watershed': 0.004366812227074236, 'able': 0.017467248908296942, 'generate': 0.004366812227074236, 'unprecedented': 0.004366812227074236, 'amount': 0.013100436681222707, 'selling': 0.004366812227074236, 'exclusive': 0.013100436681222707, 'select': 0.004366812227074236, 'gain': 0.004366812227074236, 'establish': 0.004366812227074236, 'Programme': 0.008733624454148471, 'TOP': 0.013100436681222707, 'order': 0.021834061135371178, 'Membership': 0.004366812227074236, 'Fees': 0.004366812227074236, 'Members': 0.004366812227074236, 'received': 0.021834061135371178, 'global': 0.021834061135371178, 'product': 0.004366812227074236, 'category': 0.004366812227074236, 'symbol': 0.013100436681222707, 'interlocking': 0.004366812227074236, 'rings': 0.017467248908296942, 'publications': 0.004366812227074236, 'advertisements': 0.004366812227074236, 'Berlin': 0.008733624454148471, 'broadcast': 0.03056768558951965, 'audiences': 0.004366812227074236, 'Italy': 0.013100436681222707, 'televised': 0.004366812227074236, 'sold': 0.004366812227074236, 'specialised': 0.008733624454148471, 'networks': 0.004366812227074236, 'CBS': 0.008733624454148471, 'ideological': 0.004366812227074236, 'fronts': 0.004366812227074236, 'wanted': 0.004366812227074236, 'advantage': 0.013100436681222707, 'heightened': 0.004366812227074236, 'via': 0.004366812227074236, 'enabled': 0.004366812227074236, 'thereby': 0.004366812227074236, 'generating': 0.004366812227074236, 'turn': 0.004366812227074236, 'enhanced': 0.004366812227074236, 'appeal': 0.013100436681222707, 'TV': 0.004366812227074236, 'air': 0.013100436681222707, 'advertisers': 0.004366812227074236, 'charge': 0.004366812227074236, 'fees': 0.008733624454148471, 'For': 0.017467248908296942, 'NBC': 0.026200873362445413, 'agreed': 0.013100436681222707, 'contract': 0.008733624454148471, 'extension': 0.004366812227074236, 'May': 0.008733624454148471, 'acquired': 0.004366812227074236, 'More': 0.004366812227074236, 'sources': 0.004366812227074236, 'Viewership': 0.004366812227074236, 'increased': 0.013100436681222707, 'exponentially': 0.004366812227074236, 'end': 0.008733624454148471, 'satellites': 0.004366812227074236, 'live': 0.004366812227074236, 'worldwide': 0.013100436681222707, 'colour': 0.004366812227074236, 'audience': 0.008733624454148471, 'Mexico': 0.008733624454148471, 'whereas': 0.004366812227074236, 'numbers': 0.008733624454148471, 'Barcelona': 0.008733624454148471, 'With': 0.008733624454148471, 'charged': 0.004366812227074236, 'pressure': 0.008733624454148471, 'internet': 0.004366812227074236, 'cable': 0.004366812227074236, 'concessions': 0.004366812227074236, 'ratings': 0.008733624454148471, 'responded': 0.008733624454148471, 'gymnastics': 0.017467248908296942, 'expanded': 0.008733624454148471, 'seven': 0.013100436681222707, 'nights': 0.004366812227074236, 'Champions': 0.004366812227074236, 'Gala': 0.004366812227074236, 'greater': 0.004366812227074236, 'programmes': 0.004366812227074236, 'swimming': 0.013100436681222707, 'diving': 0.004366812227074236, 'base': 0.004366812227074236, 'Due': 0.004366812227074236, 'substantial': 0.004366812227074236, 'network': 0.004366812227074236, 'scheduling': 0.004366812227074236, 'maximise': 0.004366812227074236, 'U': 0.008733624454148471, 'S': 0.008733624454148471, 'argument': 0.004366812227074236, 'become': 0.017467248908296942, 'indistinguishable': 0.004366812227074236, 'spectacle': 0.004366812227074236, 'governments': 0.004366812227074236, 'incurs': 0.004366812227074236, 'none': 0.004366812227074236, 'yet': 0.004366812227074236, 'controls': 0.004366812227074236, 'takes': 0.013100436681222707, 'percentage': 0.004366812227074236, 'income': 0.004366812227074236, 'Host': 0.008733624454148471, 'continue': 0.004366812227074236, 'ardently': 0.004366812227074236, 'right': 0.004366812227074236, 'certainty': 0.004366812227074236, 'earn': 0.004366812227074236, 'back': 0.004366812227074236, 'investments': 0.004366812227074236, 'Research': 0.004366812227074236, 'shown': 0.004366812227074236, 'percent': 0.004366812227074236, 'higher': 0.008733624454148471, 'ideals': 0.008733624454148471, 'embodied': 0.004366812227074236, 'better': 0.008733624454148471, 'intertwined': 0.004366812227074236, 'represents': 0.004366812227074236, 'unity': 0.004366812227074236, 'inhabited': 0.004366812227074236, 'continents': 0.004366812227074236, 'Americas': 0.004366812227074236, 'continent': 0.004366812227074236, 'Asia': 0.008733624454148471, 'Europe': 0.004366812227074236, 'Oceania': 0.008733624454148471, 'coloured': 0.004366812227074236, 'blue': 0.004366812227074236, 'yellow': 0.004366812227074236, 'black': 0.004366812227074236, 'green': 0.004366812227074236, 'red': 0.004366812227074236, 'white': 0.004366812227074236, 'forms': 0.004366812227074236, 'colours': 0.004366812227074236, 'chosen': 0.013100436681222707, 'flown': 0.004366812227074236, 'Antwerp': 0.013100436681222707, 'Belgium': 0.004366812227074236, 'hoisted': 0.008733624454148471, 'celebration': 0.026200873362445413, 'motto': 0.008733624454148471, 'Citius': 0.004366812227074236, 'Altius': 0.004366812227074236, 'Fortius': 0.004366812227074236, 'meaning': 0.004366812227074236, 'Faster': 0.004366812227074236, 'Higher': 0.004366812227074236, 'Stronger': 0.004366812227074236, 'coined': 0.004366812227074236, 'friend': 0.004366812227074236, 'Dominican': 0.004366812227074236, 'priest': 0.004366812227074236, 'Henri': 0.004366812227074236, 'Didon': 0.004366812227074236, 'OP': 0.004366812227074236, 'expressed': 0.004366812227074236, 'creed': 0.004366812227074236, 'important': 0.021834061135371178, 'thing': 0.017467248908296942, 'win': 0.008733624454148471, 'triumph': 0.004366812227074236, 'struggle': 0.004366812227074236, 'essential': 0.004366812227074236, 'conquered': 0.004366812227074236, 'Months': 0.004366812227074236, 'Flame': 0.004366812227074236, 'lit': 0.004366812227074236, 'Temple': 0.004366812227074236, 'Hera': 0.004366812227074236, 'reflects': 0.004366812227074236, 'female': 0.043668122270742356, 'performer': 0.004366812227074236, 'acting': 0.008733624454148471, 'priestess': 0.004366812227074236, 'joined': 0.008733624454148471, 'performers': 0.004366812227074236, 'Vestal': 0.004366812227074236, 'Virgins': 0.004366812227074236, 'ignites': 0.004366812227074236, 'placing': 0.008733624454148471, 'inside': 0.004366812227074236, 'parabolic': 0.004366812227074236, 'mirror': 0.004366812227074236, 'focuses': 0.004366812227074236, 'sun': 0.004366812227074236, 'rays': 0.004366812227074236, 'lights': 0.008733624454148471, 'relay': 0.013100436681222707, 'bearer': 0.004366812227074236, 'thus': 0.008733624454148471, 'initiating': 0.004366812227074236, 'carry': 0.004366812227074236, 'flame': 0.017467248908296942, 'plays': 0.004366812227074236, 'role': 0.004366812227074236, 'Though': 0.004366812227074236, 'Third': 0.004366812227074236, 'Reich': 0.004366812227074236, 'mascot': 0.008733624454148471, 'animal': 0.004366812227074236, 'human': 0.008733624454148471, 'cultural': 0.004366812227074236, 'heritage': 0.004366812227074236, 'identity': 0.004366812227074236, 'promotion': 0.008733624454148471, 'Soviet': 0.08296943231441048, 'bear': 0.004366812227074236, 'cub': 0.004366812227074236, 'Misha': 0.004366812227074236, 'stardom': 0.004366812227074236, 'named': 0.004366812227074236, 'hosts': 0.017467248908296942, 'inspiration': 0.004366812227074236, 'frame': 0.004366812227074236, 'Friday': 0.004366812227074236, 'commencement': 0.004366812227074236, 'football': 0.004366812227074236, 'matches': 0.004366812227074236, 'softball': 0.008733624454148471, 'rowing': 0.004366812227074236, 'heats': 0.004366812227074236, 'typically': 0.008733624454148471, 'starts': 0.004366812227074236, 'entrance': 0.004366812227074236, 'Comittee': 0.004366812227074236, 'representative': 0.013100436681222707, 'hoisting': 0.004366812227074236, 'performance': 0.021834061135371178, 'anthem': 0.026200873362445413, 'presents': 0.004366812227074236, 'artistic': 0.026200873362445413, 'displays': 0.008733624454148471, 'music': 0.004366812227074236, 'singing': 0.004366812227074236, 'dance': 0.008733624454148471, 'theatre': 0.008733624454148471, 'culture': 0.008733624454148471, 'presentations': 0.004366812227074236, 'complexity': 0.004366812227074236, 'successive': 0.004366812227074236, 'attempt': 0.013100436681222707, 'outlasts': 0.004366812227074236, 'predecessor': 0.004366812227074236, 'memorability': 0.004366812227074236, 'reportedly': 0.004366812227074236, 'incurred': 0.004366812227074236, 'segment': 0.004366812227074236, 'portion': 0.004366812227074236, 'grouped': 0.004366812227074236, 'traditionally': 0.004366812227074236, 'enter': 0.026200873362445413, 'leads': 0.004366812227074236, 'origins': 0.004366812227074236, 'Nations': 0.004366812227074236, 'alphabetically': 0.004366812227074236, 'delegation': 0.017467248908296942, 'Beginning': 0.008733624454148471, 'succeeding': 0.004366812227074236, 'respective': 0.013100436681222707, 'immediately': 0.004366812227074236, 'descending': 0.004366812227074236, 'Speeches': 0.004366812227074236, 'formally': 0.004366812227074236, 'Finally': 0.004366812227074236, 'passed': 0.008733624454148471, 'reaches': 0.004366812227074236, 'final': 0.017467248908296942, 'carrier': 0.004366812227074236, 'cauldron': 0.004366812227074236, 'Sunday': 0.004366812227074236, 'concluded': 0.004366812227074236, 'Flag': 0.004366812227074236, 'bearers': 0.008733624454148471, 'without': 0.008733624454148471, 'distinction': 0.008733624454148471, 'Three': 0.008733624454148471, 'flags': 0.008733624454148471, 'corresponding': 0.004366812227074236, 'anthems': 0.004366812227074236, 'birthplace': 0.004366812227074236, 'speeches': 0.004366812227074236, 'closed': 0.004366812227074236, 'extinguished': 0.004366812227074236, 'Ceremony': 0.004366812227074236, 'transfers': 0.004366812227074236, 'special': 0.013100436681222707, 'passes': 0.004366812227074236, 'briefly': 0.004366812227074236, 'introduces': 0.004366812227074236, 'customary': 0.004366812227074236, 'medal': 0.09170305676855896, 'presentation': 0.008733624454148471, 'Typically': 0.004366812227074236, 'cross': 0.008733624454148471, 'skiing': 0.017467248908296942, 'start': 0.004366812227074236, 'awarded': 0.03056768558951965, 'conclusion': 0.004366812227074236, 'stand': 0.008733624454148471, 'top': 0.004366812227074236, 'tiered': 0.004366812227074236, 'rostrum': 0.004366812227074236, 'medallists': 0.008733624454148471, 'raised': 0.008733624454148471, 'medallist': 0.008733624454148471, 'Volunteering': 0.004366812227074236, 'citizens': 0.013100436681222707, 'act': 0.004366812227074236, 'assisting': 0.004366812227074236, 'venue': 0.008733624454148471, 'plaza': 0.004366812227074236, 'comprising': 0.004366812227074236, 'Greco': 0.004366812227074236, 'Roman': 0.004366812227074236, 'Freestyle': 0.004366812227074236, 'broken': 0.004366812227074236, 'fourteen': 0.004366812227074236, 'men': 0.017467248908296942, 'women': 0.056768558951965066, 'weight': 0.004366812227074236, 'class': 0.004366812227074236, 'includes': 0.004366812227074236, 'features': 0.008733624454148471, 'Athletics': 0.004366812227074236, 'fencing': 0.008733624454148471, 'absent': 0.004366812227074236, 'Cross': 0.004366812227074236, 'Nordic': 0.008733624454148471, 'ski': 0.004366812227074236, 'speed': 0.008733624454148471, 'Current': 0.004366812227074236, 'badminton': 0.004366812227074236, 'basketball': 0.004366812227074236, 'volleyball': 0.004366812227074236, 'appeared': 0.004366812227074236, 'demonstration': 0.004366812227074236, 'promoted': 0.013100436681222707, 'full': 0.021834061135371178, 'earlier': 0.004366812227074236, 'dropped': 0.008733624454148471, 'governed': 0.004366812227074236, 'supervisors': 0.004366812227074236, 'revision': 0.008733624454148471, 'session': 0.004366812227074236, 'revisions': 0.004366812227074236, 'excluded': 0.008733624454148471, 'basis': 0.013100436681222707, 'thirds': 0.008733624454148471, 'majority': 0.004366812227074236, 'vote': 0.013100436681222707, 'capacity': 0.004366812227074236, 'squash': 0.013100436681222707, 'October': 0.008733624454148471, 'Commission': 0.008733624454148471, 'tasked': 0.004366812227074236, 'reviewing': 0.004366812227074236, 'non': 0.008733624454148471, 'goal': 0.004366812227074236, 'apply': 0.004366812227074236, 'systematic': 0.008733624454148471, 'approach': 0.004366812227074236, 'commission': 0.017467248908296942, 'formulated': 0.004366812227074236, 'criteria': 0.013100436681222707, 'judge': 0.004366812227074236, 'universality': 0.004366812227074236, 'image': 0.004366812227074236, 'development': 0.004366812227074236, 'Federation': 0.004366812227074236, 'governs': 0.004366812227074236, 'From': 0.013100436681222707, 'emerged': 0.008733624454148471, 'candidates': 0.008733624454148471, 'inclusion': 0.008733624454148471, 'golf': 0.013100436681222707, 'karate': 0.008733624454148471, 'rugby': 0.021834061135371178, 'sevens': 0.008733624454148471, 'roller': 0.004366812227074236, 'reviewed': 0.004366812227074236, 'Executive': 0.017467248908296942, 'Board': 0.013100436681222707, 'referred': 0.004366812227074236, 'General': 0.008733624454148471, 'Session': 0.021834061135371178, 'recommended': 0.004366812227074236, 'selected': 0.008733624454148471, 'finalists': 0.004366812227074236, 'Neither': 0.004366812227074236, 'attained': 0.004366812227074236, 'required': 0.008733624454148471, 'consequently': 0.004366812227074236, 'voted': 0.004366812227074236, 'instate': 0.004366812227074236, 'maximum': 0.008733624454148471, 'performed': 0.008733624454148471, 'baseball': 0.008733624454148471, 'return': 0.008733624454148471, 'addition': 0.008733624454148471, 'ethos': 0.008733624454148471, 'aristocracy': 0.004366812227074236, 'exemplified': 0.004366812227074236, 'school': 0.004366812227074236, 'influenced': 0.004366812227074236, 'schools': 0.004366812227074236, 'subscribed': 0.004366812227074236, 'belief': 0.004366812227074236, 'formed': 0.008733624454148471, 'education': 0.004366812227074236, 'attitude': 0.004366812227074236, 'summed': 0.004366812227074236, 'saying': 0.004366812227074236, 'mens': 0.004366812227074236, 'sana': 0.004366812227074236, 'corpore': 0.004366812227074236, 'sano': 0.004366812227074236, 'sound': 0.008733624454148471, 'mind': 0.004366812227074236, 'gentleman': 0.004366812227074236, 'rounder': 0.004366812227074236, 'best': 0.004366812227074236, 'prevailing': 0.004366812227074236, 'fairness': 0.004366812227074236, 'practising': 0.004366812227074236, 'training': 0.008733624454148471, 'tantamount': 0.004366812227074236, 'cheating': 0.004366812227074236, 'Those': 0.004366812227074236, 'practised': 0.008733624454148471, 'professionally': 0.004366812227074236, 'unfair': 0.004366812227074236, 'merely': 0.004366812227074236, 'hobby': 0.004366812227074236, 'professionals': 0.008733624454148471, 'caused': 0.008733624454148471, 'throughout': 0.004366812227074236, 'decathlon': 0.004366812227074236, 'Jim': 0.004366812227074236, 'Thorpe': 0.004366812227074236, 'stripped': 0.008733624454148471, 'discovered': 0.004366812227074236, 'semi': 0.008733624454148471, 'His': 0.004366812227074236, 'posthumously': 0.004366812227074236, 'restored': 0.004366812227074236, 'compassionate': 0.004366812227074236, 'grounds': 0.008733624454148471, 'Swiss': 0.004366812227074236, 'Austrian': 0.004366812227074236, 'skiers': 0.004366812227074236, 'boycotted': 0.026200873362445413, 'teachers': 0.004366812227074236, 'earned': 0.004366812227074236, 'Union': 0.043668122270742356, 'nominally': 0.004366812227074236, 'students': 0.004366812227074236, 'working': 0.004366812227074236, 'profession': 0.004366812227074236, 'reality': 0.004366812227074236, 'train': 0.004366812227074236, 'situation': 0.004366812227074236, 'factor': 0.004366812227074236, 'decline': 0.004366812227074236, 'hauls': 0.004366812227074236, 'shifted': 0.004366812227074236, 'allowing': 0.004366812227074236, 'collapse': 0.004366812227074236, 'Near': 0.004366812227074236, 'Canadian': 0.008733624454148471, 'Amateur': 0.004366812227074236, 'Hockey': 0.004366812227074236, 'CAHA': 0.008733624454148471, 'players': 0.021834061135371178, 'competitive': 0.004366812227074236, 'team': 0.05240174672489083, 'constantly': 0.004366812227074236, 'improving': 0.004366812227074236, 'They': 0.004366812227074236, 'pushed': 0.004366812227074236, 'ability': 0.004366812227074236, 'leagues': 0.004366812227074236, 'met': 0.004366812227074236, 'opposition': 0.008733624454148471, 'IIHF': 0.021834061135371178, 'Canada': 0.03056768558951965, 'NHL': 0.008733624454148471, 'Championships': 0.008733624454148471, 'Winnipeg': 0.004366812227074236, 'Manitoba': 0.004366812227074236, 'reversed': 0.004366812227074236, 'January': 0.004366812227074236, 'said': 0.013100436681222707, 'jeopardy': 0.004366812227074236, 'response': 0.017467248908296942, 'instituted': 0.004366812227074236, 'nther': 0.004366812227074236, 'Sabetzki': 0.004366812227074236, 'resolve': 0.004366812227074236, 'dispute': 0.004366812227074236, 'However': 0.008733624454148471, 'play': 0.004366812227074236, 'policy': 0.004366812227074236, 'Australia': 0.017467248908296942, 'Kingdom': 0.008733624454148471, 'miss': 0.004366812227074236, 'qualified': 0.004366812227074236, 'choose': 0.004366812227074236, 'boycott': 0.034934497816593885, 'reasons': 0.004366812227074236, 'Council': 0.004366812227074236, 'Ireland': 0.008733624454148471, 'insisted': 0.004366812227074236, 'restricted': 0.004366812227074236, 'Irish': 0.004366812227074236, 'Free': 0.004366812227074236, 'rather': 0.004366812227074236, 'entire': 0.008733624454148471, 'island': 0.004366812227074236, 'Melbourne': 0.004366812227074236, 'Switzerland': 0.017467248908296942, 'refused': 0.017467248908296942, 'attend': 0.004366812227074236, 'repression': 0.004366812227074236, 'Hungarian': 0.008733624454148471, 'uprising': 0.004366812227074236, 'send': 0.013100436681222707, 'Cambodia': 0.004366812227074236, 'Egypt': 0.004366812227074236, 'Iraq': 0.008733624454148471, 'Lebanon': 0.004366812227074236, 'Suez': 0.004366812227074236, 'Crisis': 0.004366812227074236, 'People': 0.004366812227074236, 'Republic': 0.017467248908296942, 'composed': 0.004366812227074236, 'coming': 0.004366812227074236, 'Taiwan': 0.013100436681222707, 'force': 0.004366812227074236, 'ban': 0.034934497816593885, 'Rhodesia': 0.004366812227074236, 'segregationist': 0.004366812227074236, 'rule': 0.004366812227074236, 'New': 0.008733624454148471, 'Zealand': 0.008733624454148471, 'targets': 0.004366812227074236, 'union': 0.004366812227074236, 'toured': 0.004366812227074236, 'ruled': 0.008733624454148471, 'conceded': 0.004366812227074236, 'cases': 0.008733624454148471, 'Fulfilling': 0.004366812227074236, 'twenty': 0.004366812227074236, 'Guyana': 0.004366812227074236, 'withdrawal': 0.004366812227074236, 'already': 0.008733624454148471, 'Elliott': 0.004366812227074236, 'Trudeau': 0.008733624454148471, 'action': 0.008733624454148471, 'condemned': 0.004366812227074236, 'shame': 0.004366812227074236, 'succumbed': 0.004366812227074236, 'keep': 0.013100436681222707, 'Chinese': 0.017467248908296942, 'competing': 0.021834061135371178, 'ROC': 0.008733624454148471, 'compromise': 0.004366812227074236, 'returned': 0.004366812227074236, 'Taipei': 0.004366812227074236, 'opponents': 0.004366812227074236, 'sixty': 0.004366812227074236, 'invasion': 0.008733624454148471, 'Afghanistan': 0.008733624454148471, 'lowest': 0.004366812227074236, 'boycotting': 0.008733624454148471, 'depleted': 0.004366812227074236, 'certain': 0.004366812227074236, 'fact': 0.004366812227074236, 'Romania': 0.004366812227074236, 'Warsaw': 0.004366812227074236, 'Pact': 0.004366812227074236, 'opted': 0.004366812227074236, 'demands': 0.004366812227074236, 'warm': 0.004366812227074236, 'reception': 0.004366812227074236, 'standing': 0.008733624454148471, 'ovation': 0.004366812227074236, 'comprised': 0.004366812227074236, 'mostly': 0.004366812227074236, 'staged': 0.004366812227074236, 'alternate': 0.004366812227074236, 'Friendship': 0.004366812227074236, 'calls': 0.004366812227074236, 'goods': 0.004366812227074236, 'protest': 0.017467248908296942, 'Tibetan': 0.004366812227074236, 'disturbances': 0.004366812227074236, 'Ultimately': 0.004366812227074236, 'supported': 0.013100436681222707, 'Georgia': 0.008733624454148471, 'Ossetia': 0.004366812227074236, 'war': 0.004366812227074236, 'platform': 0.004366812227074236, 'ideologies': 0.004366812227074236, 'Nazi': 0.004366812227074236, 'Germany': 0.017467248908296942, 'wished': 0.004366812227074236, 'portray': 0.004366812227074236, 'Socialist': 0.004366812227074236, 'Party': 0.004366812227074236, 'benevolent': 0.004366812227074236, 'loving': 0.004366812227074236, 'display': 0.008733624454148471, 'Aryan': 0.008733624454148471, 'superiority': 0.004366812227074236, 'allegations': 0.004366812227074236, 'supremacy': 0.004366812227074236, 'notable': 0.013100436681222707, 'victories': 0.004366812227074236, 'Jesse': 0.004366812227074236, 'Owens': 0.004366812227074236, 'Jew': 0.004366812227074236, 'Ibolya': 0.004366812227074236, 'Cs': 0.004366812227074236, 'k': 0.004366812227074236, 'blunted': 0.004366812227074236, 'message': 0.004366812227074236, 'Helsinki': 0.004366812227074236, 'Soviets': 0.008733624454148471, 'Spartakiads': 0.004366812227074236, 'interwar': 0.004366812227074236, 'communist': 0.004366812227074236, 'socialist': 0.004366812227074236, 'counter': 0.004366812227074236, 'bourgeois': 0.004366812227074236, 'Workers': 0.004366812227074236, 'superpower': 0.004366812227074236, 'publicity': 0.004366812227074236, 'attributed': 0.004366812227074236, 'heavy': 0.004366812227074236, 'investment': 0.004366812227074236, 'fulfill': 0.004366812227074236, 'agenda': 0.008733624454148471, 'Individual': 0.004366812227074236, 'Tommie': 0.004366812227074236, 'Smith': 0.013100436681222707, 'Carlos': 0.013100436681222707, 'metres': 0.004366812227074236, 'Black': 0.008733624454148471, 'Power': 0.004366812227074236, 'salute': 0.004366812227074236, 'victory': 0.004366812227074236, 'finisher': 0.004366812227074236, 'Norman': 0.004366812227074236, 'wore': 0.004366812227074236, 'Project': 0.004366812227074236, 'Human': 0.004366812227074236, 'badge': 0.004366812227074236, 'banned': 0.026200873362445413, 'expulsion': 0.008733624454148471, 'incident': 0.004366812227074236, 'podium': 0.004366812227074236, 'balance': 0.004366812227074236, 'beam': 0.004366812227074236, 'Natalia': 0.004366812227074236, 'Kuchinskaya': 0.004366812227074236, 'controversially': 0.004366812227074236, 'Czechoslovakian': 0.004366812227074236, 'gymnast': 0.004366812227074236, 'V': 0.004366812227074236, 'ra': 0.004366812227074236, 'slavsk': 0.017467248908296942, 'quietly': 0.004366812227074236, 'head': 0.008733624454148471, 'playing': 0.004366812227074236, 'silent': 0.004366812227074236, 'recent': 0.008733624454148471, 'Czechoslovakia': 0.004366812227074236, 'Her': 0.004366812227074236, 'repeated': 0.004366812227074236, 'floor': 0.004366812227074236, 'exercise': 0.004366812227074236, 'routine': 0.004366812227074236, 'preliminary': 0.004366812227074236, 'scores': 0.004366812227074236, 'Larisa': 0.004366812227074236, 'Petrik': 0.004366812227074236, 'tie': 0.004366812227074236, 'countrymen': 0.004366812227074236, 'actions': 0.004366812227074236, 'outspoken': 0.004366812227074236, 'Communism': 0.004366812227074236, 'publicly': 0.004366812227074236, 'Ludvik': 0.004366812227074236, 'Vaculik': 0.004366812227074236, 'Thousand': 0.004366812227074236, 'Words': 0.004366812227074236, 'manifesto': 0.004366812227074236, 'banning': 0.013100436681222707, 'travel': 0.004366812227074236, 'outcast': 0.004366812227074236, 'fall': 0.004366812227074236, 'communism': 0.004366812227074236, 'Currently': 0.004366812227074236, 'Iran': 0.004366812227074236, 'avoid': 0.004366812227074236, 'Israel': 0.004366812227074236, 'An': 0.004366812227074236, 'Iranian': 0.013100436681222707, 'judoka': 0.004366812227074236, 'Arash': 0.004366812227074236, 'Miresmaeili': 0.004366812227074236, 'match': 0.004366812227074236, 'overweight': 0.004366812227074236, 'Miresmaeli': 0.004366812227074236, 'prize': 0.008733624454148471, 'cleared': 0.004366812227074236, 'intentionally': 0.004366812227074236, 'avoiding': 0.004366812227074236, 'bout': 0.004366812227074236, 'receipt': 0.004366812227074236, 'suspicion': 0.004366812227074236, 'early': 0.004366812227074236, 'drugs': 0.017467248908296942, 'improve': 0.004366812227074236, 'abilities': 0.004366812227074236, 'Hicks': 0.004366812227074236, 'strychnine': 0.004366812227074236, 'coach': 0.004366812227074236, 'substances': 0.017467248908296942, 'data': 0.004366812227074236, 'regarding': 0.008733624454148471, 'death': 0.004366812227074236, 'linked': 0.004366812227074236, 'enhancing': 0.017467248908296942, 'Danish': 0.004366812227074236, 'cyclist': 0.004366812227074236, 'Knud': 0.004366812227074236, 'Enemark': 0.004366812227074236, 'Jensen': 0.004366812227074236, 'fell': 0.004366812227074236, 'bicycle': 0.004366812227074236, 'died': 0.008733624454148471, 'coroner': 0.004366812227074236, 'inquiry': 0.004366812227074236, 'amphetamines': 0.004366812227074236, 'By': 0.013100436681222707, 'mid': 0.004366812227074236, 'suit': 0.004366812227074236, 'journalist': 0.004366812227074236, 'Andrew': 0.004366812227074236, 'Jennings': 0.004366812227074236, 'KGB': 0.004366812227074236, 'colonel': 0.004366812227074236, 'agency': 0.008733624454148471, 'officers': 0.004366812227074236, 'posed': 0.004366812227074236, 'anti': 0.013100436681222707, 'authorities': 0.004366812227074236, 'undermine': 0.004366812227074236, 'tests': 0.017467248908296942, 'rescued': 0.004366812227074236, 'tremendous': 0.004366812227074236, 'topic': 0.004366812227074236, 'Australian': 0.004366812227074236, 'hardly': 0.004366812227074236, 'certainly': 0.004366812227074236, 'sort': 0.004366812227074236, 'drug': 0.013100436681222707, 'kinds': 0.004366812227074236, 'Chemists': 0.004366812227074236, 'Documents': 0.004366812227074236, 'obtained': 0.004366812227074236, 'revealed': 0.004366812227074236, 'plans': 0.004366812227074236, 'statewide': 0.004366812227074236, 'Dated': 0.004366812227074236, 'document': 0.004366812227074236, 'detailed': 0.008733624454148471, 'steroids': 0.004366812227074236, 'operations': 0.004366812227074236, 'program': 0.004366812227074236, 'along': 0.004366812227074236, 'suggestions': 0.004366812227074236, 'enhancements': 0.004366812227074236, 'communication': 0.004366812227074236, 'directed': 0.004366812227074236, 'prepared': 0.004366812227074236, 'Dr': 0.004366812227074236, 'Sergei': 0.004366812227074236, 'Portugalov': 0.008733624454148471, 'Institute': 0.008733624454148471, 'Physical': 0.004366812227074236, 'Culture': 0.004366812227074236, 'involved': 0.008733624454148471, 'implementation': 0.004366812227074236, 'Russian': 0.034934497816593885, 'test': 0.004366812227074236, 'Hans': 0.004366812227074236, 'Gunnar': 0.004366812227074236, 'Liljenwall': 0.004366812227074236, 'Swedish': 0.004366812227074236, 'pentathlete': 0.004366812227074236, 'lost': 0.004366812227074236, 'alcohol': 0.004366812227074236, 'One': 0.008733624454148471, 'publicised': 0.004366812227074236, 'disqualifications': 0.004366812227074236, 'sprinter': 0.004366812227074236, 'Ben': 0.004366812227074236, 'Johnson': 0.004366812227074236, 'metre': 0.004366812227074236, 'dash': 0.004366812227074236, 'tested': 0.017467248908296942, 'stanozolol': 0.004366812227074236, 'Doping': 0.013100436681222707, 'Agency': 0.008733624454148471, 'WADA': 0.021834061135371178, 'effort': 0.004366812227074236, 'systematise': 0.004366812227074236, 'detection': 0.004366812227074236, 'sharp': 0.008733624454148471, 'testing': 0.008733624454148471, 'conditions': 0.004366812227074236, 'Several': 0.004366812227074236, 'weightlifting': 0.004366812227074236, 'post': 0.004366812227074236, 'offences': 0.004366812227074236, 'regimen': 0.004366812227074236, 'Standard': 0.004366812227074236, 'benchmark': 0.004366812227074236, 'Both': 0.013100436681222707, 'urine': 0.004366812227074236, 'blood': 0.004366812227074236, 'detect': 0.004366812227074236, 'Prior': 0.004366812227074236, 'systemic': 0.004366812227074236, 'violations': 0.004366812227074236, 'runner': 0.021834061135371178, 'quarter': 0.004366812227074236, 'total': 0.008733624454148471, 'benefited': 0.004366812227074236, 'cover': 0.004366812227074236, 'partially': 0.004366812227074236, 'lying': 0.004366812227074236, 'issued': 0.004366812227074236, 'RUSADA': 0.004366812227074236, 'Court': 0.004366812227074236, 'Arbitration': 0.004366812227074236, 'Sport': 0.004366812227074236, 'CAS': 0.013100436681222707, 'passing': 0.004366812227074236, 'appealed': 0.004366812227074236, 'review': 0.004366812227074236, 'case': 0.004366812227074236, 'reduce': 0.008733624454148471, 'penalty': 0.004366812227074236, 'ruling': 0.013100436681222707, 'must': 0.026200873362445413, 'Neutral': 0.013100436681222707, 'Athlete': 0.008733624454148471, 'Team': 0.013100436681222707, 'uniforms': 0.004366812227074236, 'uniform': 0.008733624454148471, 'colors': 0.004366812227074236, 'design': 0.004366812227074236, 'equal': 0.008733624454148471, 'predominance': 0.004366812227074236, 'designation': 0.004366812227074236, 'Women': 0.013100436681222707, 'fielding': 0.004366812227074236, 'male': 0.017467248908296942, 'delegations': 0.004366812227074236, 'rapidly': 0.004366812227074236, 'Bahrain': 0.008733624454148471, 'sent': 0.013100436681222707, 'Fatema': 0.004366812227074236, 'Hameed': 0.004366812227074236, 'Gerashi': 0.004366812227074236, 'Mariam': 0.004366812227074236, 'Mohamed': 0.004366812227074236, 'Hadi': 0.004366812227074236, 'Al': 0.017467248908296942, 'Hilli': 0.004366812227074236, 'Robina': 0.004366812227074236, 'Muqimyar': 0.004366812227074236, 'Fariba': 0.004366812227074236, 'Rezayee': 0.004366812227074236, 'Arab': 0.004366812227074236, 'Emirates': 0.004366812227074236, 'Maitha': 0.004366812227074236, 'Maktoum': 0.008733624454148471, 'taekwondo': 0.004366812227074236, 'Latifa': 0.004366812227074236, 'Dubai': 0.004366812227074236, 'family': 0.004366812227074236, 'Brunei': 0.013100436681222707, 'Saudi': 0.026200873362445413, 'Arabia': 0.026200873362445413, 'Qatar': 0.021834061135371178, 'sending': 0.004366812227074236, 'occasion': 0.004366812227074236, 'regularly': 0.004366812227074236, 'announced': 0.008733624454148471, 'press': 0.004366812227074236, 'enable': 0.008733624454148471, 'facilitate': 0.004366812227074236, 'Anita': 0.004366812227074236, 'DeFrantz': 0.004366812227074236, 'chair': 0.004366812227074236, 'Sports': 0.004366812227074236, 'suggested': 0.004366812227074236, 'barred': 0.008733624454148471, 'prevented': 0.004366812227074236, 'Shortly': 0.004366812227074236, 'thereafter': 0.004366812227074236, 'hoped': 0.004366812227074236, 'shooting': 0.008733624454148471, 'Ali': 0.004366812227074236, 'Ahmed': 0.004366812227074236, 'director': 0.004366812227074236, 'Gulf': 0.008733624454148471, 'Affairs': 0.004366812227074236, 'likewise': 0.004366812227074236, 'describing': 0.004366812227074236, 'violation': 0.004366812227074236, 'charter': 0.004366812227074236, 'noted': 0.004366812227074236, 'nongovernmental': 0.004366812227074236, 'trying': 0.004366812227074236, 'enforcement': 0.004366812227074236, 'laws': 0.004366812227074236, 'discrimination': 0.004366812227074236, 'Olympians': 0.008733624454148471, 'reluctant': 0.004366812227074236, 'position': 0.004366812227074236, 'threaten': 0.008733624454148471, 'discriminating': 0.004366812227074236, 'suspension': 0.004366812227074236, 'Independent': 0.004366812227074236, 'Pressure': 0.004366812227074236, 'kick': 0.004366812227074236, 'likely': 0.004366812227074236, 'Should': 0.004366812227074236, 'understand': 0.004366812227074236, 'face': 0.004366812227074236, 'protests': 0.004366812227074236, 'disrupt': 0.004366812227074236, 'Maziah': 0.004366812227074236, 'Mahusin': 0.004366812227074236, 'hurdles': 0.004366812227074236, 'Bahiya': 0.004366812227074236, 'al': 0.004366812227074236, 'Hamad': 0.004366812227074236, 'flagbearer': 0.004366812227074236, 'Maryam': 0.004366812227074236, 'Yusuf': 0.004366812227074236, 'Jamal': 0.004366812227074236, 'showing': 0.004366812227074236, 'Eventing': 0.004366812227074236, 'Men': 0.004366812227074236, 'Dressage': 0.004366812227074236, 'unable': 0.008733624454148471, 'currently': 0.004366812227074236, 'synchronised': 0.004366812227074236, 'rhythmic': 0.004366812227074236, 'Olympiads': 0.004366812227074236, 'cancelled': 0.008733624454148471, 'Russo': 0.004366812227074236, 'Georgian': 0.004366812227074236, 'erupted': 0.004366812227074236, 'Bush': 0.004366812227074236, 'Prime': 0.004366812227074236, 'Minister': 0.004366812227074236, 'Putin': 0.004366812227074236, 'spoke': 0.004366812227074236, 'conflict': 0.004366812227074236, 'luncheon': 0.004366812227074236, 'Hu': 0.004366812227074236, 'Jintao': 0.004366812227074236, 'Terrorism': 0.008733624454148471, 'directly': 0.004366812227074236, 'affected': 0.008733624454148471, 'hostage': 0.008733624454148471, 'September': 0.008733624454148471, 'massacre': 0.004366812227074236, 'liberation': 0.004366812227074236, 'German': 0.004366812227074236, 'police': 0.004366812227074236, 'officer': 0.004366812227074236, 'selection': 0.017467248908296942, 'separatist': 0.004366812227074236, 'ETA': 0.004366812227074236, 'launched': 0.004366812227074236, 'attacks': 0.008733624454148471, 'bombing': 0.008733624454148471, 'Catalonian': 0.004366812227074236, 'Vic': 0.008733624454148471, 'Atlanta': 0.004366812227074236, 'bomb': 0.008733624454148471, 'detonated': 0.004366812227074236, 'Centennial': 0.004366812227074236, 'Park': 0.004366812227074236, 'killing': 0.004366812227074236, 'injuring': 0.004366812227074236, 'Eric': 0.004366812227074236, 'Rudolph': 0.004366812227074236, 'domestic': 0.004366812227074236, 'serving': 0.004366812227074236, 'sentence': 0.004366812227074236, 'level': 0.008733624454148471, 'security': 0.004366812227074236, 'relating': 0.004366812227074236, 'flew': 0.004366812227074236, 'Ground': 0.004366812227074236, 'Zero': 0.004366812227074236, 'guards': 0.004366812227074236, 'NYPD': 0.004366812227074236, 'FDNY': 0.004366812227074236, 'requires': 0.004366812227074236, 'Dual': 0.004366812227074236, 'nationals': 0.004366812227074236, 'competitor': 0.004366812227074236, 'IF': 0.004366812227074236, 'agree': 0.004366812227074236, 'cancel': 0.004366812227074236, 'waiting': 0.004366812227074236, 'exists': 0.004366812227074236, 'previously': 0.013100436681222707, 'If': 0.004366812227074236, 'gains': 0.004366812227074236, 'nationality': 0.013100436681222707, 'need': 0.004366812227074236, 'wait': 0.004366812227074236, 'designated': 0.004366812227074236, 'concerned': 0.004366812227074236, 'issues': 0.004366812227074236, 'citizenship': 0.026200873362445413, 'granted': 0.004366812227074236, 'Occasionally': 0.004366812227074236, 'citizen': 0.026200873362445413, 'deals': 0.004366812227074236, 'birth': 0.004366812227074236, 'naturalised': 0.004366812227074236, 'Korean': 0.004366812227074236, 'born': 0.013100436681222707, 'skater': 0.004366812227074236, 'Ahn': 0.004366812227074236, 'Hyun': 0.004366812227074236, 'soo': 0.004366812227074236, 'snowboarder': 0.004366812227074236, 'Wild': 0.004366812227074236, 'changing': 0.004366812227074236, 'Zola': 0.004366812227074236, 'Budd': 0.008733624454148471, 'emigrated': 0.004366812227074236, 'eligible': 0.004366812227074236, 'grandfather': 0.004366812227074236, 'expediting': 0.004366812227074236, 'Other': 0.004366812227074236, 'Kenyan': 0.017467248908296942, 'Bernard': 0.004366812227074236, 'Lagat': 0.013100436681222707, 'constitution': 0.004366812227074236, 'renounce': 0.004366812227074236, 'Kenya': 0.008733624454148471, 'jeopardising': 0.004366812227074236, 'late': 0.004366812227074236, 'expect': 0.004366812227074236, 'Medals': 0.004366812227074236, 'solid': 0.004366812227074236, 'gilded': 0.004366812227074236, 'plated': 0.004366812227074236, 'contain': 0.004366812227074236, 'six': 0.008733624454148471, 'grams': 0.004366812227074236, 'runners': 0.004366812227074236, 'elimination': 0.004366812227074236, 'tournament': 0.004366812227074236, 'notably': 0.004366812227074236, 'losers': 0.004366812227074236, 'finals': 0.004366812227074236, 'format': 0.004366812227074236, 'onward': 0.004366812227074236, 'fourth': 0.004366812227074236, 'fifth': 0.004366812227074236, 'sixth': 0.004366812227074236, 'certificates': 0.004366812227074236, 'diplomas': 0.004366812227074236, 'seventh': 0.004366812227074236, 'eighth': 0.004366812227074236, 'olive': 0.004366812227074236, 'wreaths': 0.004366812227074236, 'statistics': 0.008733624454148471, 'except': 0.004366812227074236, 'measure': 0.004366812227074236, 'Rio': 0.008733624454148471, 'Janeiro': 0.008733624454148471, 'obsolete': 0.008733624454148471, 'edition': 0.008733624454148471, 'Competitors': 0.008733624454148471, 'b': 0.004366812227074236, 'c': 0.004366812227074236, 'Mixed': 0.004366812227074236, 'Teams': 0.004366812227074236, 'Refugee': 0.004366812227074236, 'Czech': 0.004366812227074236, 'e': 0.008733624454148471, 'Finland': 0.004366812227074236, 'Hungary': 0.004366812227074236, 'Norway': 0.008733624454148471, 'Poland': 0.004366812227074236, 'Slovakia': 0.004366812227074236, 'historically': 0.004366812227074236, 'ahead': 0.004366812227074236, 'proceeded': 0.004366812227074236, 'announce': 0.004366812227074236, 'lead': 0.004366812227074236, 'regions': 0.004366812227074236, 'prepare': 0.004366812227074236, 'carried': 0.004366812227074236, 'phases': 0.004366812227074236, 'span': 0.004366812227074236, 'prospective': 0.008733624454148471, 'applies': 0.004366812227074236, 'submits': 0.004366812227074236, 'proposal': 0.004366812227074236, 'holds': 0.008733624454148471, 'internal': 0.004366812227074236, 'consideration': 0.004366812227074236, 'Once': 0.013100436681222707, 'deadline': 0.004366812227074236, 'submission': 0.004366812227074236, 'proposals': 0.004366812227074236, 'phase': 0.004366812227074236, 'Application': 0.004366812227074236, 'applicant': 0.008733624454148471, 'asked': 0.004366812227074236, 'complete': 0.004366812227074236, 'questionnaire': 0.004366812227074236, 'key': 0.004366812227074236, 'form': 0.004366812227074236, 'applicants': 0.008733624454148471, 'assurances': 0.004366812227074236, 'comply': 0.004366812227074236, 'regulations': 0.004366812227074236, 'evaluation': 0.017467248908296942, 'filled': 0.004366812227074236, 'questionnaires': 0.004366812227074236, 'provides': 0.004366812227074236, 'overview': 0.004366812227074236, 'project': 0.008733624454148471, 'technical': 0.004366812227074236, 'selects': 0.004366812227074236, 'proceed': 0.004366812227074236, 'candidature': 0.008733624454148471, 'submit': 0.008733624454148471, 'bigger': 0.004366812227074236, 'file': 0.004366812227074236, 'Each': 0.004366812227074236, 'thoroughly': 0.004366812227074236, 'analysed': 0.004366812227074236, 'visit': 0.004366812227074236, 'interviewing': 0.004366812227074236, 'inspecting': 0.004366812227074236, 'sites': 0.004366812227074236, 'findings': 0.004366812227074236, 'month': 0.004366812227074236, 'interview': 0.004366812227074236, 'guarantee': 0.004366812227074236, 'assemble': 0.004366812227074236, 'gathered': 0.004366812227074236, 'signs': 0.004366812227074236, 'Contract': 0.004366812227074236, 'becoming': 0.004366812227074236, 'Korea': 0.008733624454148471, 'compared': 0.004366812227074236, 'previous': 0.004366812227074236, 'No': 0.004366812227074236, 'succeeded': 0.004366812227074236, 'capital': 0.004366812227074236, 'twice': 0.017467248908296942, 'Tokyo': 0.004366812227074236, 'multiple': 0.004366812227074236, 'Japan': 0.004366812227074236, 'Among': 0.004366812227074236, 'Moritz': 0.004366812227074236}\n"
          ],
          "name": "stdout"
        }
      ]
    },
    {
      "cell_type": "code",
      "metadata": {
        "id": "byHHRw4L1k9g"
      },
      "source": [
        "sentence_scores = {}\n",
        "\n",
        "for sentence in sentence_tokens:\n",
        "\n",
        "  for word in nltk.word_tokenize(sentence.lower()):\n",
        "\n",
        "    if word in word_frequencies.keys():\n",
        "\n",
        "      if (len(sentence.split(' '))) < 30:\n",
        "\n",
        "        if sentence not in sentence_scores.keys():\n",
        "          sentence_scores[sentence] = word_frequencies[word]\n",
        "        else:\n",
        "          sentence_scores[sentence] += word_frequencies[word]\n",
        "\n",
        "\n",
        "points = heapq.nlargest(10, sentence_scores, key=sentence_scores.get)\n"
      ],
      "execution_count": 6,
      "outputs": []
    },
    {
      "cell_type": "code",
      "metadata": {
        "id": "wx0Hzlq23PRx"
      },
      "source": [
        "total_text = \"\"\n",
        "\n",
        "for i in points:\n",
        "\n",
        "    total_text += i\n",
        "    "
      ],
      "execution_count": 7,
      "outputs": []
    },
    {
      "cell_type": "code",
      "metadata": {
        "id": "svUk_J5tANHV",
        "colab": {
          "base_uri": "https://localhost:8080/",
          "height": 145,
          "referenced_widgets": [
            "427d364ed0084a72b46fd99b2a53fc22",
            "fce1fc75ca01419a9d075ba8f7d65f95",
            "6b56740d8a694bb68a4dc8d8198692fd",
            "6fc7eab1f51f44899ae6a0beb4f33cd7",
            "dea1b10b7de4448295b563135af414a6",
            "8b9959f5f7cf4cfc8732cd3770cf6c2d",
            "2303d6879f624e38a656e3a1ccf99f6a",
            "c7980c29c8b443a3bc3305bdebc90ca7",
            "be5d4a343ab444cbabf9ee61f1828f1e",
            "a882f1dffe024ad89ed3a119eed38f3e",
            "30ed415b8d3746f8abab8e064859112e",
            "3d51d0bf5d414a649df6e9f36fe3ad05",
            "47107b497cac48aa81f1cf841dd47bfe",
            "86083a71b64d479ab05e723091be3290",
            "9df884668b5c480eb2e7a838e272a2b3",
            "9716f15f926a4aeea12c556fd4950085",
            "8a98d5d4dea64686942355d44835aa40",
            "e891f13709a3475797919bc18d24231b",
            "7beb3ea011724d07857959171deda8a7",
            "620da6cfc8d5452dabf728e88d92b98a",
            "bfd5fd2157ee4a388b7a4e7c496e119d",
            "f3a75c86f8d044969a830cbe29ebf54a",
            "691175c03b2c4bbeb0be31404851df1c",
            "a9835cf88f614cea8d8da00379a6c288",
            "c7fef9b5144f494fb6e38a8c8cff444a",
            "75c5f118f3cf43c1b4d7928c27d05b69",
            "a1bcc48c087c45c48add66fa514777cb",
            "693c1929a7424cb4a19117301fa4c619",
            "d579e5f3d6784a0791efc1fc80700c24",
            "afc43354fee04ae880bd083b009f61ba",
            "fcfb3e651f9d4bcda7aaba1da312ab90",
            "f7aa8cc7302d432eac4b9be6042985fb",
            "1ae0b8e254864998b31d923d4aa5d792",
            "a417a579a406466eaea327ff4dfa4629",
            "d520a1deab8b472faa8947bf97bd9300",
            "cbc79398af284eea8db2f68882d83143",
            "3a6314935bcc4ea3847b3cfa1a8e4629",
            "2a5da2823fe740a5986acea3487a26f4",
            "2a66da8beede49c39179f17cdf6c22bd",
            "e16c364c88384014ac0de488f1cc18b0",
            "6d1f303076d04f26ae9e9c0cadab5697",
            "bda326438f214bd6a6097f8f02c2ebc0",
            "daa1d7615b424f97b1f16c3ac198c73a",
            "4d36835609d94d319540273dc06df5ae"
          ]
        },
        "outputId": "f52e596f-6960-4bb5-9b1c-bd3827ad42e2"
      },
      "source": [
        "summarizer = pipeline(\"summarization\") # model=\"t5-small\""
      ],
      "execution_count": 8,
      "outputs": [
        {
          "output_type": "display_data",
          "data": {
            "application/vnd.jupyter.widget-view+json": {
              "model_id": "427d364ed0084a72b46fd99b2a53fc22",
              "version_minor": 0,
              "version_major": 2
            },
            "text/plain": [
              "Downloading:   0%|          | 0.00/1.34k [00:00<?, ?B/s]"
            ]
          },
          "metadata": {
            "tags": []
          }
        },
        {
          "output_type": "display_data",
          "data": {
            "application/vnd.jupyter.widget-view+json": {
              "model_id": "3d51d0bf5d414a649df6e9f36fe3ad05",
              "version_minor": 0,
              "version_major": 2
            },
            "text/plain": [
              "Downloading:   0%|          | 0.00/899k [00:00<?, ?B/s]"
            ]
          },
          "metadata": {
            "tags": []
          }
        },
        {
          "output_type": "display_data",
          "data": {
            "application/vnd.jupyter.widget-view+json": {
              "model_id": "691175c03b2c4bbeb0be31404851df1c",
              "version_minor": 0,
              "version_major": 2
            },
            "text/plain": [
              "Downloading:   0%|          | 0.00/456k [00:00<?, ?B/s]"
            ]
          },
          "metadata": {
            "tags": []
          }
        },
        {
          "output_type": "display_data",
          "data": {
            "application/vnd.jupyter.widget-view+json": {
              "model_id": "a417a579a406466eaea327ff4dfa4629",
              "version_minor": 0,
              "version_major": 2
            },
            "text/plain": [
              "Downloading:   0%|          | 0.00/1.63G [00:00<?, ?B/s]"
            ]
          },
          "metadata": {
            "tags": []
          }
        }
      ]
    },
    {
      "cell_type": "code",
      "metadata": {
        "id": "3TKkZ5zLpNk1"
      },
      "source": [
        "summary = summarizer(total_text, max_length=128, min_length=64, do_sample=False)"
      ],
      "execution_count": 20,
      "outputs": []
    },
    {
      "cell_type": "code",
      "metadata": {
        "colab": {
          "base_uri": "https://localhost:8080/",
          "height": 69
        },
        "id": "FqDfbbcoAOIB",
        "outputId": "051c47de-df4d-44f9-92c5-38c93b2cedb5"
      },
      "source": [
        "summary[0][\"summary_text\"]"
      ],
      "execution_count": 21,
      "outputs": [
        {
          "output_type": "execute_result",
          "data": {
            "application/vnd.google.colaboratory.intrinsic+json": {
              "type": "string"
            },
            "text/plain": [
              "'Olympic sports are governed by international sports federations (IFs) recognised by the IOC as the global supervisors of those sports. Current Olympic sports, like badminton, basketball, and volleyball, first appeared on the programme as demonstration sports, and were later promoted to full Olympic sports. At the 2012 Summer Olympics, every participating nation included female athletes for the first time in Olympic history. Since there was no agreement in the promotion of two other sports, the 2012 programme featured just 26 sports.'"
            ]
          },
          "metadata": {
            "tags": []
          },
          "execution_count": 21
        }
      ]
    },
    {
      "cell_type": "code",
      "metadata": {
        "colab": {
          "base_uri": "https://localhost:8080/"
        },
        "id": "bK0ESJXlm7bW",
        "outputId": "0d6120ab-4378-40de-9f9e-4536183f3347"
      },
      "source": [
        "from allennlp.predictors.predictor import Predictor\n",
        "## Old Model commented\n",
        "# predictor = Predictor.from_path(\"https://s3-us-west-2.amazonaws.com/allennlp/models/bidaf-model-2017.09.15-charpad.tar.gz\")\n",
        "predictor = Predictor.from_path(\"https://storage.googleapis.com/allennlp-public-models/bidaf-model-2020.03.19.tar.gz\")\n",
        "\n"
      ],
      "execution_count": 10,
      "outputs": [
        {
          "output_type": "stream",
          "text": [
            "100%|██████████| 45959361/45959361 [00:01<00:00, 45515556.80B/s]\n"
          ],
          "name": "stderr"
        }
      ]
    },
    {
      "cell_type": "code",
      "metadata": {
        "colab": {
          "base_uri": "https://localhost:8080/",
          "height": 35
        },
        "id": "io8CzEyXntPE",
        "outputId": "81eb2aed-041f-49f9-b5a9-825f1f89957d"
      },
      "source": [
        "result=predictor.predict(\n",
        "  passage=TotalContent,\n",
        "  question= \"how many nations participating in the olympics?\"\n",
        ")\n",
        "result['best_span_str']"
      ],
      "execution_count": 18,
      "outputs": [
        {
          "output_type": "execute_result",
          "data": {
            "application/vnd.google.colaboratory.intrinsic+json": {
              "type": "string"
            },
            "text/plain": [
              "'207'"
            ]
          },
          "metadata": {
            "tags": []
          },
          "execution_count": 18
        }
      ]
    },
    {
      "cell_type": "code",
      "metadata": {
        "colab": {
          "base_uri": "https://localhost:8080/"
        },
        "id": "81uMAze9A9Th",
        "outputId": "1ab22df2-6247-45f8-8919-9deb20390c66"
      },
      "source": [
        "print(\"Bullet Points: \")\n",
        "\n",
        "for i in points:\n",
        "    \n",
        "   print(\"\\n - \" + i)\n",
        "\n",
        "print(\"\\n Summary: \" + str(summary[0][\"summary_text\"]))"
      ],
      "execution_count": 22,
      "outputs": [
        {
          "output_type": "stream",
          "text": [
            "Bullet Points: \n",
            "\n",
            " - Current Olympic sports, like badminton, basketball, and volleyball, first appeared on the programme as demonstration sports, and were later promoted to full Olympic sports.\n",
            "\n",
            " - Nations then enter the stadium alphabetically according to the host country's chosen language, with the host country's athletes being the last to enter.\n",
            "\n",
            " - Beijing is due to host the 2022 Winter Olympics, which will make it the first city to host both the Summer and Winter Games.\n",
            "\n",
            " - Olympic sports are governed by international sports federations (IFs) recognised by the IOC as the global supervisors of those sports.\n",
            "\n",
            " - The 2020 Summer Olympics is due to be held in Tokyo, which will be the first Asian city to host the Olympics for the second time.\n",
            "\n",
            " - With the addition of women's boxing to the programme in the 2012 Summer Olympics, however, female athletes were able to compete in all the same sports as men.\n",
            "\n",
            " - At the 2012 Summer Olympics, every participating nation included female athletes for the first time in Olympic history.\n",
            "\n",
            " - Since there was no agreement in the promotion of two other sports, the 2012 programme featured just 26 sports.\n",
            "\n",
            " - The first Summer Youth Games were held in Singapore from 14 to 26 August 2010, while the inaugural Winter Games were hosted in Innsbruck, Austria, two years later.\n",
            "\n",
            " - The Olympic Games are normally held every four years, alternating between the Summer and Winter Olympics every two years in the four-year period.\n",
            "\n",
            " Summary: Olympic sports are governed by international sports federations (IFs) recognised by the IOC as the global supervisors of those sports. Current Olympic sports, like badminton, basketball, and volleyball, first appeared on the programme as demonstration sports, and were later promoted to full Olympic sports. At the 2012 Summer Olympics, every participating nation included female athletes for the first time in Olympic history. Since there was no agreement in the promotion of two other sports, the 2012 programme featured just 26 sports.\n"
          ],
          "name": "stdout"
        }
      ]
    },
    {
      "cell_type": "code",
      "metadata": {
        "id": "7HNl9hUKIV9o"
      },
      "source": [
        ""
      ],
      "execution_count": null,
      "outputs": []
    }
  ]
}